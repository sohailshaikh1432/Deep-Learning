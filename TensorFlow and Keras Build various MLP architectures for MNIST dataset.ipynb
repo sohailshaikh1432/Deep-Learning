{
 "cells": [
  {
   "cell_type": "markdown",
   "metadata": {},
   "source": [
    "# Assignment No 12 : TensorFlow and Keras: Build various MLP architectures for MNIST Dataset"
   ]
  },
  {
   "cell_type": "markdown",
   "metadata": {},
   "source": [
    "### Resources :"
   ]
  },
  {
   "cell_type": "markdown",
   "metadata": {},
   "source": [
    "- Thanks AAIC Team\n",
    "- Google Search ,Kaggle,Sklearn\n",
    "- KrushitReddy\n",
    "- https://www.appliedaicourse.com/lecture/11/applied-machine-learning-online-course/3407/exercise-try-different-mlp-architectures-on-mnist-dataset/8/module-8-neural-networks-computer-vision-and-deep-learning\n",
    "- https://github.com/krushithreddy\n",
    "- https://scikit-learn.org/stable/index.html\n",
    "- https://www.kaggle.com/"
   ]
  },
  {
   "cell_type": "code",
   "execution_count": 1,
   "metadata": {
    "colab": {
     "base_uri": "https://localhost:8080/",
     "height": 533
    },
    "colab_type": "code",
    "id": "tG4Jte05JCPn",
    "outputId": "1efc8105-006d-4488-dbee-1561b6543e4e"
   },
   "outputs": [
    {
     "name": "stderr",
     "output_type": "stream",
     "text": [
      "C:\\Users\\Sohail\\Anaconda3\\lib\\site-packages\\h5py\\__init__.py:36: FutureWarning: Conversion of the second argument of issubdtype from `float` to `np.floating` is deprecated. In future, it will be treated as `np.float64 == np.dtype(float).type`.\n",
      "  from ._conv import register_converters as _register_converters\n"
     ]
    },
    {
     "name": "stdout",
     "output_type": "stream",
     "text": [
      "[name: \"/device:CPU:0\"\n",
      "device_type: \"CPU\"\n",
      "memory_limit: 268435456\n",
      "locality {\n",
      "}\n",
      "incarnation: 1783339991702152395\n",
      "]\n"
     ]
    }
   ],
   "source": [
    "# Importing Libraries\n",
    "\n",
    "import tensorflow as tf\n",
    "from tensorflow.python.client import device_lib\n",
    "print(device_lib.list_local_devices())"
   ]
  },
  {
   "cell_type": "code",
   "execution_count": 2,
   "metadata": {
    "colab": {
     "base_uri": "https://localhost:8080/",
     "height": 33
    },
    "colab_type": "code",
    "id": "51965QNNLLKF",
    "outputId": "4e11e10f-f417-4491-ad5e-4daf7f15525e"
   },
   "outputs": [
    {
     "name": "stderr",
     "output_type": "stream",
     "text": [
      "Using TensorFlow backend.\n"
     ]
    }
   ],
   "source": [
    "from keras.utils import np_utils\n",
    "from keras.datasets import mnist\n",
    "from keras.initializers import RandomNormal\n",
    "import seaborn as sns"
   ]
  },
  {
   "cell_type": "code",
   "execution_count": 4,
   "metadata": {
    "colab": {},
    "colab_type": "code",
    "id": "JzwjahZPLt_3"
   },
   "outputs": [],
   "source": [
    "import matplotlib.pyplot as plt\n",
    "import numpy as np\n",
    "import time"
   ]
  },
  {
   "cell_type": "code",
   "execution_count": 5,
   "metadata": {
    "colab": {},
    "colab_type": "code",
    "id": "PR2-U_XzMA04"
   },
   "outputs": [],
   "source": [
    "# this function is used to update the plots for each epoch and error\n",
    "def plt_dynamic(x, vy, ty, ax, colors=['b']):\n",
    "  ax.plot(x,vy,'b',label=\"Validation Loss\")\n",
    "  ax.plot(x,ty,'r',label=\"Train Loss\")\n",
    "  plt.legend()\n",
    "  plt.grid()\n",
    "  fig.canvas.draw()"
   ]
  },
  {
   "cell_type": "code",
   "execution_count": 6,
   "metadata": {
    "colab": {
     "base_uri": "https://localhost:8080/",
     "height": 50
    },
    "colab_type": "code",
    "id": "RvWNErMPMyj9",
    "outputId": "75c5c583-5dc1-47b9-9874-8c89dd811f5d"
   },
   "outputs": [
    {
     "name": "stdout",
     "output_type": "stream",
     "text": [
      "Downloading data from https://s3.amazonaws.com/img-datasets/mnist.npz\n",
      "11493376/11490434 [==============================] - 149s 13us/step\n"
     ]
    }
   ],
   "source": [
    "(X_train, y_train), (X_test, y_test) = mnist.load_data()"
   ]
  },
  {
   "cell_type": "code",
   "execution_count": 7,
   "metadata": {
    "colab": {
     "base_uri": "https://localhost:8080/",
     "height": 50
    },
    "colab_type": "code",
    "id": "hMeKhsLeM_gi",
    "outputId": "3b897d3b-5bf6-4ec9-8ee3-c462b6c9286f"
   },
   "outputs": [
    {
     "name": "stdout",
     "output_type": "stream",
     "text": [
      "Number of training examples: 60000 ; each image is of shape (28,28)\n",
      "Number of training examples: 10000 ; each image is of shape (28,28)\n"
     ]
    }
   ],
   "source": [
    "print(\"Number of training examples:\",X_train.shape[0],\"; each image is of shape (%d,%d)\"%(X_train.shape[1],X_train.shape[2]))\n",
    "print(\"Number of training examples:\",X_test.shape[0],\"; each image is of shape (%d,%d)\"%(X_test.shape[1],X_test.shape[2]))"
   ]
  },
  {
   "cell_type": "code",
   "execution_count": 8,
   "metadata": {
    "colab": {},
    "colab_type": "code",
    "id": "fE4ERJaFOue5"
   },
   "outputs": [],
   "source": [
    "# if you observe the input shape its 3 dimensional vector\n",
    "# for each image we have a (28*28) vector\n",
    "# we will convert the (28*28) vector into single dimensional vector of 1 * 784 \n",
    "\n",
    "X_train = X_train.reshape(X_train.shape[0], X_train.shape[1]*X_train.shape[2]) \n",
    "X_test = X_test.reshape(X_test.shape[0], X_test.shape[1]*X_test.shape[2]) "
   ]
  },
  {
   "cell_type": "code",
   "execution_count": 9,
   "metadata": {
    "colab": {
     "base_uri": "https://localhost:8080/",
     "height": 50
    },
    "colab_type": "code",
    "id": "LTlXgvx1Pjh5",
    "outputId": "fbe5656c-7dec-4b97-cdda-ba8db7250c6b"
   },
   "outputs": [
    {
     "name": "stdout",
     "output_type": "stream",
     "text": [
      "Number of training examples : 60000 and each image is of shape (784)\n",
      "Number of training examples : 10000 and each image is of shape (784)\n"
     ]
    }
   ],
   "source": [
    "# after converting the input images from 3d to 2d vectors\n",
    "\n",
    "print(\"Number of training examples :\", X_train.shape[0], \"and each image is of shape (%d)\"%(X_train.shape[1]))\n",
    "print(\"Number of training examples :\", X_test.shape[0], \"and each image is of shape (%d)\"%(X_test.shape[1]))"
   ]
  },
  {
   "cell_type": "code",
   "execution_count": 10,
   "metadata": {
    "colab": {},
    "colab_type": "code",
    "id": "lBCutS-jQZrs"
   },
   "outputs": [],
   "source": [
    "# if we observe the above matrix each cell is having a value between 0-255\n",
    "# before we move to apply machine learning algorithms lets try to normalize the data\n",
    "# X => (X - Xmin)/(Xmax-Xmin) = X/255\n",
    "#since Xmin=0\n",
    "X_train = X_train/255\n",
    "X_test = X_test/255"
   ]
  },
  {
   "cell_type": "code",
   "execution_count": 11,
   "metadata": {
    "colab": {
     "base_uri": "https://localhost:8080/",
     "height": 2200
    },
    "colab_type": "code",
    "id": "2NOKp9wcQzO3",
    "outputId": "af40abdf-c911-43f0-9cba-64f7db68e71d",
    "scrolled": false
   },
   "outputs": [
    {
     "name": "stdout",
     "output_type": "stream",
     "text": [
      "[0.         0.         0.         0.         0.         0.\n",
      " 0.         0.         0.         0.         0.         0.\n",
      " 0.         0.         0.         0.         0.         0.\n",
      " 0.         0.         0.         0.         0.         0.\n",
      " 0.         0.         0.         0.         0.         0.\n",
      " 0.         0.         0.         0.         0.         0.\n",
      " 0.         0.         0.         0.         0.         0.\n",
      " 0.         0.         0.         0.         0.         0.\n",
      " 0.         0.         0.         0.         0.         0.\n",
      " 0.         0.         0.         0.         0.         0.\n",
      " 0.         0.         0.         0.         0.         0.\n",
      " 0.         0.         0.         0.         0.         0.\n",
      " 0.         0.         0.         0.         0.         0.\n",
      " 0.         0.         0.         0.         0.         0.\n",
      " 0.         0.         0.         0.         0.         0.\n",
      " 0.         0.         0.         0.         0.         0.\n",
      " 0.         0.         0.         0.         0.         0.\n",
      " 0.         0.         0.         0.         0.         0.\n",
      " 0.         0.         0.         0.         0.         0.\n",
      " 0.         0.         0.         0.         0.         0.\n",
      " 0.         0.         0.         0.         0.         0.\n",
      " 0.         0.         0.         0.         0.         0.\n",
      " 0.         0.         0.         0.         0.         0.\n",
      " 0.         0.         0.         0.         0.         0.\n",
      " 0.         0.         0.         0.         0.         0.\n",
      " 0.         0.         0.01176471 0.07058824 0.07058824 0.07058824\n",
      " 0.49411765 0.53333333 0.68627451 0.10196078 0.65098039 1.\n",
      " 0.96862745 0.49803922 0.         0.         0.         0.\n",
      " 0.         0.         0.         0.         0.         0.\n",
      " 0.         0.         0.11764706 0.14117647 0.36862745 0.60392157\n",
      " 0.66666667 0.99215686 0.99215686 0.99215686 0.99215686 0.99215686\n",
      " 0.88235294 0.6745098  0.99215686 0.94901961 0.76470588 0.25098039\n",
      " 0.         0.         0.         0.         0.         0.\n",
      " 0.         0.         0.         0.         0.         0.19215686\n",
      " 0.93333333 0.99215686 0.99215686 0.99215686 0.99215686 0.99215686\n",
      " 0.99215686 0.99215686 0.99215686 0.98431373 0.36470588 0.32156863\n",
      " 0.32156863 0.21960784 0.15294118 0.         0.         0.\n",
      " 0.         0.         0.         0.         0.         0.\n",
      " 0.         0.         0.         0.07058824 0.85882353 0.99215686\n",
      " 0.99215686 0.99215686 0.99215686 0.99215686 0.77647059 0.71372549\n",
      " 0.96862745 0.94509804 0.         0.         0.         0.\n",
      " 0.         0.         0.         0.         0.         0.\n",
      " 0.         0.         0.         0.         0.         0.\n",
      " 0.         0.         0.31372549 0.61176471 0.41960784 0.99215686\n",
      " 0.99215686 0.80392157 0.04313725 0.         0.16862745 0.60392157\n",
      " 0.         0.         0.         0.         0.         0.\n",
      " 0.         0.         0.         0.         0.         0.\n",
      " 0.         0.         0.         0.         0.         0.\n",
      " 0.         0.05490196 0.00392157 0.60392157 0.99215686 0.35294118\n",
      " 0.         0.         0.         0.         0.         0.\n",
      " 0.         0.         0.         0.         0.         0.\n",
      " 0.         0.         0.         0.         0.         0.\n",
      " 0.         0.         0.         0.         0.         0.\n",
      " 0.         0.54509804 0.99215686 0.74509804 0.00784314 0.\n",
      " 0.         0.         0.         0.         0.         0.\n",
      " 0.         0.         0.         0.         0.         0.\n",
      " 0.         0.         0.         0.         0.         0.\n",
      " 0.         0.         0.         0.         0.         0.04313725\n",
      " 0.74509804 0.99215686 0.2745098  0.         0.         0.\n",
      " 0.         0.         0.         0.         0.         0.\n",
      " 0.         0.         0.         0.         0.         0.\n",
      " 0.         0.         0.         0.         0.         0.\n",
      " 0.         0.         0.         0.         0.1372549  0.94509804\n",
      " 0.88235294 0.62745098 0.42352941 0.00392157 0.         0.\n",
      " 0.         0.         0.         0.         0.         0.\n",
      " 0.         0.         0.         0.         0.         0.\n",
      " 0.         0.         0.         0.         0.         0.\n",
      " 0.         0.         0.         0.31764706 0.94117647 0.99215686\n",
      " 0.99215686 0.46666667 0.09803922 0.         0.         0.\n",
      " 0.         0.         0.         0.         0.         0.\n",
      " 0.         0.         0.         0.         0.         0.\n",
      " 0.         0.         0.         0.         0.         0.\n",
      " 0.         0.         0.17647059 0.72941176 0.99215686 0.99215686\n",
      " 0.58823529 0.10588235 0.         0.         0.         0.\n",
      " 0.         0.         0.         0.         0.         0.\n",
      " 0.         0.         0.         0.         0.         0.\n",
      " 0.         0.         0.         0.         0.         0.\n",
      " 0.         0.0627451  0.36470588 0.98823529 0.99215686 0.73333333\n",
      " 0.         0.         0.         0.         0.         0.\n",
      " 0.         0.         0.         0.         0.         0.\n",
      " 0.         0.         0.         0.         0.         0.\n",
      " 0.         0.         0.         0.         0.         0.\n",
      " 0.         0.97647059 0.99215686 0.97647059 0.25098039 0.\n",
      " 0.         0.         0.         0.         0.         0.\n",
      " 0.         0.         0.         0.         0.         0.\n",
      " 0.         0.         0.         0.         0.         0.\n",
      " 0.         0.         0.18039216 0.50980392 0.71764706 0.99215686\n",
      " 0.99215686 0.81176471 0.00784314 0.         0.         0.\n",
      " 0.         0.         0.         0.         0.         0.\n",
      " 0.         0.         0.         0.         0.         0.\n",
      " 0.         0.         0.         0.         0.15294118 0.58039216\n",
      " 0.89803922 0.99215686 0.99215686 0.99215686 0.98039216 0.71372549\n",
      " 0.         0.         0.         0.         0.         0.\n",
      " 0.         0.         0.         0.         0.         0.\n",
      " 0.         0.         0.         0.         0.         0.\n",
      " 0.09411765 0.44705882 0.86666667 0.99215686 0.99215686 0.99215686\n",
      " 0.99215686 0.78823529 0.30588235 0.         0.         0.\n",
      " 0.         0.         0.         0.         0.         0.\n",
      " 0.         0.         0.         0.         0.         0.\n",
      " 0.         0.         0.09019608 0.25882353 0.83529412 0.99215686\n",
      " 0.99215686 0.99215686 0.99215686 0.77647059 0.31764706 0.00784314\n",
      " 0.         0.         0.         0.         0.         0.\n",
      " 0.         0.         0.         0.         0.         0.\n",
      " 0.         0.         0.         0.         0.07058824 0.67058824\n",
      " 0.85882353 0.99215686 0.99215686 0.99215686 0.99215686 0.76470588\n",
      " 0.31372549 0.03529412 0.         0.         0.         0.\n",
      " 0.         0.         0.         0.         0.         0.\n",
      " 0.         0.         0.         0.         0.         0.\n",
      " 0.21568627 0.6745098  0.88627451 0.99215686 0.99215686 0.99215686\n",
      " 0.99215686 0.95686275 0.52156863 0.04313725 0.         0.\n",
      " 0.         0.         0.         0.         0.         0.\n",
      " 0.         0.         0.         0.         0.         0.\n",
      " 0.         0.         0.         0.         0.53333333 0.99215686\n",
      " 0.99215686 0.99215686 0.83137255 0.52941176 0.51764706 0.0627451\n",
      " 0.         0.         0.         0.         0.         0.\n",
      " 0.         0.         0.         0.         0.         0.\n",
      " 0.         0.         0.         0.         0.         0.\n",
      " 0.         0.         0.         0.         0.         0.\n",
      " 0.         0.         0.         0.         0.         0.\n",
      " 0.         0.         0.         0.         0.         0.\n",
      " 0.         0.         0.         0.         0.         0.\n",
      " 0.         0.         0.         0.         0.         0.\n",
      " 0.         0.         0.         0.         0.         0.\n",
      " 0.         0.         0.         0.         0.         0.\n",
      " 0.         0.         0.         0.         0.         0.\n",
      " 0.         0.         0.         0.         0.         0.\n",
      " 0.         0.         0.         0.         0.         0.\n",
      " 0.         0.         0.         0.         0.         0.\n",
      " 0.         0.         0.         0.         0.         0.\n",
      " 0.         0.         0.         0.         0.         0.\n",
      " 0.         0.         0.         0.        ]\n"
     ]
    }
   ],
   "source": [
    "print(X_train[0])"
   ]
  },
  {
   "cell_type": "code",
   "execution_count": 12,
   "metadata": {
    "colab": {
     "base_uri": "https://localhost:8080/",
     "height": 33
    },
    "colab_type": "code",
    "id": "A54MFnlBQ7cP",
    "outputId": "422df368-164a-4030-a8fe-24ad3a60ef13"
   },
   "outputs": [
    {
     "name": "stdout",
     "output_type": "stream",
     "text": [
      "Class label of first image : 1\n"
     ]
    }
   ],
   "source": [
    "# here we are having a class number for each image\n",
    "print(\"Class label of first image :\", y_train[3])"
   ]
  },
  {
   "cell_type": "code",
   "execution_count": 13,
   "metadata": {
    "colab": {
     "base_uri": "https://localhost:8080/",
     "height": 33
    },
    "colab_type": "code",
    "id": "UTM9_P2dRIRl",
    "outputId": "37e2f429-50c2-4716-917d-4acdf9f2a90a"
   },
   "outputs": [
    {
     "name": "stdout",
     "output_type": "stream",
     "text": [
      "After converting the output into a vector :  [0. 1. 0. 0. 0. 0. 0. 0. 0. 0.]\n"
     ]
    }
   ],
   "source": [
    "# lets convert this into a 10 dimensional vector\n",
    "\n",
    "Y_train = np_utils.to_categorical(y_train, 10) \n",
    "Y_test = np_utils.to_categorical(y_test, 10)\n",
    "\n",
    "print(\"After converting the output into a vector : \",Y_train[3])"
   ]
  },
  {
   "cell_type": "code",
   "execution_count": 14,
   "metadata": {
    "colab": {},
    "colab_type": "code",
    "id": "Cv7W3AZHRXg4"
   },
   "outputs": [],
   "source": [
    "from keras.models import Sequential \n",
    "from keras.layers import Dense, Activation "
   ]
  },
  {
   "cell_type": "code",
   "execution_count": 15,
   "metadata": {
    "colab": {},
    "colab_type": "code",
    "id": "wn_zaEIIRsgZ"
   },
   "outputs": [],
   "source": [
    "# some model parameters\n",
    "\n",
    "output_dim = 10\n",
    "input_dim = X_train.shape[1]\n",
    "\n",
    "batch_size = 100 \n",
    "nb_epoch = 60"
   ]
  },
  {
   "cell_type": "markdown",
   "metadata": {
    "colab_type": "text",
    "id": "NlXhkEFJjc4r"
   },
   "source": [
    "# ** Architecture-1: input (784) - ReLu(512) - ReLu(256) - sigmoid**"
   ]
  },
  {
   "cell_type": "markdown",
   "metadata": {
    "colab_type": "text",
    "id": "iD2tVgNui7Yx"
   },
   "source": [
    "## **1.MLP + Batch-Norm on hidden Layers + AdamOptimizer**"
   ]
  },
  {
   "cell_type": "code",
   "execution_count": 15,
   "metadata": {
    "colab": {
     "base_uri": "https://localhost:8080/",
     "height": 370
    },
    "colab_type": "code",
    "id": "fQRKtqpGRwVU",
    "outputId": "dae14619-4b0a-4e96-dd64-dcf20cdbbee4"
   },
   "outputs": [
    {
     "name": "stdout",
     "output_type": "stream",
     "text": [
      "WARNING:tensorflow:From /usr/local/lib/python3.6/dist-packages/tensorflow/python/framework/op_def_library.py:263: colocate_with (from tensorflow.python.framework.ops) is deprecated and will be removed in a future version.\n",
      "Instructions for updating:\n",
      "Colocations handled automatically by placer.\n",
      "_________________________________________________________________\n",
      "Layer (type)                 Output Shape              Param #   \n",
      "=================================================================\n",
      "dense_1 (Dense)              (None, 512)               401920    \n",
      "_________________________________________________________________\n",
      "batch_normalization_1 (Batch (None, 512)               2048      \n",
      "_________________________________________________________________\n",
      "dense_2 (Dense)              (None, 256)               131328    \n",
      "_________________________________________________________________\n",
      "batch_normalization_2 (Batch (None, 256)               1024      \n",
      "_________________________________________________________________\n",
      "dense_3 (Dense)              (None, 10)                2570      \n",
      "=================================================================\n",
      "Total params: 538,890\n",
      "Trainable params: 537,354\n",
      "Non-trainable params: 1,536\n",
      "_________________________________________________________________\n"
     ]
    }
   ],
   "source": [
    "from keras.layers.normalization import BatchNormalization\n",
    "\n",
    "model_batch = Sequential()\n",
    "\n",
    "model_batch.add(Dense(512, activation='relu', input_shape=(input_dim,), kernel_initializer=RandomNormal(mean=0.0, stddev=0.039, seed=None)))\n",
    "model_batch.add(BatchNormalization())\n",
    "\n",
    "model_batch.add(Dense(256, activation='relu', kernel_initializer=RandomNormal(mean=0.0, stddev=0.55, seed=None)) )\n",
    "model_batch.add(BatchNormalization())\n",
    "\n",
    "model_batch.add(Dense(output_dim, activation='softmax'))\n",
    "\n",
    "\n",
    "model_batch.summary()"
   ]
  },
  {
   "cell_type": "code",
   "execution_count": 16,
   "metadata": {
    "colab": {
     "base_uri": "https://localhost:8080/",
     "height": 2103
    },
    "colab_type": "code",
    "collapsed": true,
    "id": "AANeaqcZS5eI",
    "outputId": "3ec8afce-ab29-4ded-8756-0547cf47bf93"
   },
   "outputs": [
    {
     "name": "stdout",
     "output_type": "stream",
     "text": [
      "WARNING:tensorflow:From /usr/local/lib/python3.6/dist-packages/tensorflow/python/ops/math_ops.py:3066: to_int32 (from tensorflow.python.ops.math_ops) is deprecated and will be removed in a future version.\n",
      "Instructions for updating:\n",
      "Use tf.cast instead.\n",
      "Train on 60000 samples, validate on 10000 samples\n",
      "Epoch 1/60\n",
      "60000/60000 [==============================] - 7s 114us/step - loss: 0.1799 - acc: 0.9454 - val_loss: 0.1045 - val_acc: 0.9657\n",
      "Epoch 2/60\n",
      "60000/60000 [==============================] - 5s 90us/step - loss: 0.0731 - acc: 0.9780 - val_loss: 0.0836 - val_acc: 0.9746\n",
      "Epoch 3/60\n",
      "60000/60000 [==============================] - 5s 91us/step - loss: 0.0486 - acc: 0.9852 - val_loss: 0.0749 - val_acc: 0.9762\n",
      "Epoch 4/60\n",
      "60000/60000 [==============================] - 6s 92us/step - loss: 0.0352 - acc: 0.9889 - val_loss: 0.0753 - val_acc: 0.9784\n",
      "Epoch 5/60\n",
      "60000/60000 [==============================] - 5s 91us/step - loss: 0.0274 - acc: 0.9914 - val_loss: 0.0767 - val_acc: 0.9761\n",
      "Epoch 6/60\n",
      "60000/60000 [==============================] - 5s 91us/step - loss: 0.0230 - acc: 0.9928 - val_loss: 0.0727 - val_acc: 0.9773\n",
      "Epoch 7/60\n",
      "60000/60000 [==============================] - 5s 91us/step - loss: 0.0209 - acc: 0.9931 - val_loss: 0.0792 - val_acc: 0.9769\n",
      "Epoch 8/60\n",
      "60000/60000 [==============================] - 5s 91us/step - loss: 0.0151 - acc: 0.9951 - val_loss: 0.0827 - val_acc: 0.9784\n",
      "Epoch 9/60\n",
      "60000/60000 [==============================] - 5s 91us/step - loss: 0.0160 - acc: 0.9949 - val_loss: 0.0810 - val_acc: 0.9786\n",
      "Epoch 10/60\n",
      "60000/60000 [==============================] - 5s 91us/step - loss: 0.0145 - acc: 0.9950 - val_loss: 0.0830 - val_acc: 0.9782\n",
      "Epoch 11/60\n",
      "60000/60000 [==============================] - 5s 91us/step - loss: 0.0127 - acc: 0.9960 - val_loss: 0.0940 - val_acc: 0.9757\n",
      "Epoch 12/60\n",
      "60000/60000 [==============================] - 5s 91us/step - loss: 0.0127 - acc: 0.9958 - val_loss: 0.0726 - val_acc: 0.9824\n",
      "Epoch 13/60\n",
      "60000/60000 [==============================] - 5s 90us/step - loss: 0.0102 - acc: 0.9967 - val_loss: 0.0725 - val_acc: 0.9821\n",
      "Epoch 14/60\n",
      "60000/60000 [==============================] - 5s 90us/step - loss: 0.0089 - acc: 0.9973 - val_loss: 0.0767 - val_acc: 0.9815\n",
      "Epoch 15/60\n",
      "60000/60000 [==============================] - 5s 91us/step - loss: 0.0091 - acc: 0.9970 - val_loss: 0.0764 - val_acc: 0.9800\n",
      "Epoch 16/60\n",
      "60000/60000 [==============================] - 5s 91us/step - loss: 0.0101 - acc: 0.9965 - val_loss: 0.0881 - val_acc: 0.9788\n",
      "Epoch 17/60\n",
      "60000/60000 [==============================] - 5s 90us/step - loss: 0.0096 - acc: 0.9969 - val_loss: 0.0832 - val_acc: 0.9797\n",
      "Epoch 18/60\n",
      "60000/60000 [==============================] - 5s 91us/step - loss: 0.0090 - acc: 0.9971 - val_loss: 0.0836 - val_acc: 0.9808\n",
      "Epoch 19/60\n",
      "60000/60000 [==============================] - 5s 90us/step - loss: 0.0061 - acc: 0.9981 - val_loss: 0.0825 - val_acc: 0.9804\n",
      "Epoch 20/60\n",
      "60000/60000 [==============================] - 5s 91us/step - loss: 0.0071 - acc: 0.9978 - val_loss: 0.1030 - val_acc: 0.9766\n",
      "Epoch 21/60\n",
      "60000/60000 [==============================] - 5s 91us/step - loss: 0.0072 - acc: 0.9975 - val_loss: 0.0848 - val_acc: 0.9811\n",
      "Epoch 22/60\n",
      "60000/60000 [==============================] - 5s 91us/step - loss: 0.0069 - acc: 0.9979 - val_loss: 0.0831 - val_acc: 0.9818\n",
      "Epoch 23/60\n",
      "60000/60000 [==============================] - 5s 91us/step - loss: 0.0051 - acc: 0.9985 - val_loss: 0.0869 - val_acc: 0.9822\n",
      "Epoch 24/60\n",
      "60000/60000 [==============================] - 5s 90us/step - loss: 0.0049 - acc: 0.9987 - val_loss: 0.0840 - val_acc: 0.9822\n",
      "Epoch 25/60\n",
      "60000/60000 [==============================] - 5s 91us/step - loss: 0.0059 - acc: 0.9980 - val_loss: 0.0876 - val_acc: 0.9802\n",
      "Epoch 26/60\n",
      "60000/60000 [==============================] - 5s 91us/step - loss: 0.0066 - acc: 0.9978 - val_loss: 0.0867 - val_acc: 0.9805\n",
      "Epoch 27/60\n",
      "60000/60000 [==============================] - 5s 90us/step - loss: 0.0052 - acc: 0.9983 - val_loss: 0.0804 - val_acc: 0.9822\n",
      "Epoch 28/60\n",
      "60000/60000 [==============================] - 5s 91us/step - loss: 0.0041 - acc: 0.9986 - val_loss: 0.0836 - val_acc: 0.9828\n",
      "Epoch 29/60\n",
      "60000/60000 [==============================] - 5s 91us/step - loss: 0.0066 - acc: 0.9976 - val_loss: 0.0960 - val_acc: 0.9807\n",
      "Epoch 30/60\n",
      "60000/60000 [==============================] - 5s 91us/step - loss: 0.0051 - acc: 0.9984 - val_loss: 0.0912 - val_acc: 0.9804\n",
      "Epoch 31/60\n",
      "60000/60000 [==============================] - 5s 91us/step - loss: 0.0048 - acc: 0.9984 - val_loss: 0.0843 - val_acc: 0.9833\n",
      "Epoch 32/60\n",
      "60000/60000 [==============================] - 6s 92us/step - loss: 0.0056 - acc: 0.9981 - val_loss: 0.0936 - val_acc: 0.9819\n",
      "Epoch 33/60\n",
      "60000/60000 [==============================] - 5s 91us/step - loss: 0.0048 - acc: 0.9985 - val_loss: 0.0823 - val_acc: 0.9819\n",
      "Epoch 34/60\n",
      "60000/60000 [==============================] - 5s 90us/step - loss: 0.0039 - acc: 0.9988 - val_loss: 0.0846 - val_acc: 0.9827\n",
      "Epoch 35/60\n",
      "60000/60000 [==============================] - 5s 91us/step - loss: 0.0033 - acc: 0.9989 - val_loss: 0.0862 - val_acc: 0.9841\n",
      "Epoch 36/60\n",
      "60000/60000 [==============================] - 5s 91us/step - loss: 0.0039 - acc: 0.9987 - val_loss: 0.0961 - val_acc: 0.9824\n",
      "Epoch 37/60\n",
      "60000/60000 [==============================] - 5s 91us/step - loss: 0.0052 - acc: 0.9983 - val_loss: 0.0974 - val_acc: 0.9820\n",
      "Epoch 38/60\n",
      "60000/60000 [==============================] - 5s 91us/step - loss: 0.0039 - acc: 0.9987 - val_loss: 0.0865 - val_acc: 0.9832\n",
      "Epoch 39/60\n",
      "60000/60000 [==============================] - 5s 91us/step - loss: 0.0040 - acc: 0.9986 - val_loss: 0.0872 - val_acc: 0.9825\n",
      "Epoch 40/60\n",
      "60000/60000 [==============================] - 5s 91us/step - loss: 0.0052 - acc: 0.9984 - val_loss: 0.0917 - val_acc: 0.9831\n",
      "Epoch 41/60\n",
      "60000/60000 [==============================] - 5s 91us/step - loss: 0.0040 - acc: 0.9987 - val_loss: 0.0878 - val_acc: 0.9832\n",
      "Epoch 42/60\n",
      "60000/60000 [==============================] - 5s 91us/step - loss: 0.0036 - acc: 0.9988 - val_loss: 0.0809 - val_acc: 0.9843\n",
      "Epoch 43/60\n",
      "60000/60000 [==============================] - 5s 91us/step - loss: 0.0041 - acc: 0.9988 - val_loss: 0.0782 - val_acc: 0.9842\n",
      "Epoch 44/60\n",
      "60000/60000 [==============================] - 5s 92us/step - loss: 0.0034 - acc: 0.9989 - val_loss: 0.0896 - val_acc: 0.9834\n",
      "Epoch 45/60\n",
      "60000/60000 [==============================] - 5s 92us/step - loss: 0.0028 - acc: 0.9992 - val_loss: 0.0973 - val_acc: 0.9819\n",
      "Epoch 46/60\n",
      "60000/60000 [==============================] - 5s 90us/step - loss: 0.0032 - acc: 0.9990 - val_loss: 0.0880 - val_acc: 0.9827\n",
      "Epoch 47/60\n",
      "60000/60000 [==============================] - 5s 90us/step - loss: 0.0041 - acc: 0.9987 - val_loss: 0.0859 - val_acc: 0.9817\n",
      "Epoch 48/60\n",
      "60000/60000 [==============================] - 5s 91us/step - loss: 0.0040 - acc: 0.9986 - val_loss: 0.0873 - val_acc: 0.9818\n",
      "Epoch 49/60\n",
      "60000/60000 [==============================] - 5s 91us/step - loss: 0.0040 - acc: 0.9985 - val_loss: 0.0904 - val_acc: 0.9824\n",
      "Epoch 50/60\n",
      "60000/60000 [==============================] - 5s 91us/step - loss: 0.0041 - acc: 0.9986 - val_loss: 0.1009 - val_acc: 0.9813\n",
      "Epoch 51/60\n",
      "60000/60000 [==============================] - 5s 91us/step - loss: 0.0025 - acc: 0.9992 - val_loss: 0.0899 - val_acc: 0.9825\n",
      "Epoch 52/60\n",
      "60000/60000 [==============================] - 5s 92us/step - loss: 0.0019 - acc: 0.9994 - val_loss: 0.0843 - val_acc: 0.9837\n",
      "Epoch 53/60\n",
      "60000/60000 [==============================] - 5s 91us/step - loss: 0.0020 - acc: 0.9994 - val_loss: 0.0881 - val_acc: 0.9835\n",
      "Epoch 54/60\n",
      "60000/60000 [==============================] - 5s 91us/step - loss: 0.0033 - acc: 0.9989 - val_loss: 0.0901 - val_acc: 0.9838\n",
      "Epoch 55/60\n",
      "60000/60000 [==============================] - 5s 91us/step - loss: 0.0036 - acc: 0.9988 - val_loss: 0.1018 - val_acc: 0.9805\n",
      "Epoch 56/60\n",
      "60000/60000 [==============================] - 5s 90us/step - loss: 0.0033 - acc: 0.9991 - val_loss: 0.0835 - val_acc: 0.9841\n",
      "Epoch 57/60\n",
      "60000/60000 [==============================] - 5s 92us/step - loss: 0.0017 - acc: 0.9993 - val_loss: 0.0866 - val_acc: 0.9846\n",
      "Epoch 58/60\n",
      "60000/60000 [==============================] - 6s 92us/step - loss: 0.0030 - acc: 0.9989 - val_loss: 0.0944 - val_acc: 0.9830\n",
      "Epoch 59/60\n",
      "60000/60000 [==============================] - 5s 91us/step - loss: 0.0032 - acc: 0.9991 - val_loss: 0.0851 - val_acc: 0.9830\n",
      "Epoch 60/60\n",
      "60000/60000 [==============================] - 6s 93us/step - loss: 0.0025 - acc: 0.9992 - val_loss: 0.0919 - val_acc: 0.9830\n"
     ]
    }
   ],
   "source": [
    "model_batch.compile(optimizer='adam', loss='categorical_crossentropy', metrics=['accuracy'])\n",
    "\n",
    "history = model_batch.fit(X_train, Y_train, batch_size=batch_size, epochs=nb_epoch, verbose=1, validation_data=(X_test, Y_test))"
   ]
  },
  {
   "cell_type": "code",
   "execution_count": 17,
   "metadata": {
    "colab": {
     "base_uri": "https://localhost:8080/",
     "height": 394
    },
    "colab_type": "code",
    "id": "k0tvCi0XTcY3",
    "outputId": "6ea01741-a6ac-494f-9a9b-32a6f4651032"
   },
   "outputs": [
    {
     "name": "stdout",
     "output_type": "stream",
     "text": [
      "Test score: 0.09192510834604554\n",
      "Test accuracy: 0.983\n"
     ]
    },
    {
     "data": {
      "image/png": "[encoded data removed]",
      "text/plain": [
       "<Figure size 576x396 with 1 Axes>"
      ]
     },
     "metadata": {
      "tags": []
     },
     "output_type": "display_data"
    }
   ],
   "source": [
    "score = model_batch.evaluate(X_test, Y_test, verbose=0) \n",
    "print('Test score:', score[0]) \n",
    "print('Test accuracy:', score[1])\n",
    "\n",
    "fig,ax = plt.subplots(1,1)\n",
    "ax.set_xlabel('epoch') ; ax.set_ylabel('Categorical Crossentropy Loss')\n",
    "\n",
    "# list of epoch numbers\n",
    "x = list(range(1,nb_epoch+1))\n",
    "\n",
    "# print(history.history.keys())\n",
    "# dict_keys(['val_loss', 'val_acc', 'loss', 'acc'])\n",
    "# history = model_drop.fit(X_train, Y_train, batch_size=batch_size, epochs=nb_epoch, verbose=1, validation_data=(X_test, Y_test))\n",
    "\n",
    "# we will get val_loss and val_acc only when you pass the paramter validation_data\n",
    "# val_loss : validation loss\n",
    "# val_acc : validation accuracy\n",
    "\n",
    "# loss : training loss\n",
    "# acc : train accuracy\n",
    "# for each key in histrory.histrory we will have a list of length equal to number of epochs\n",
    "\n",
    "vy = history.history['val_loss']\n",
    "ty = history.history['loss']\n",
    "plt_dynamic(x, vy, ty, ax)"
   ]
  },
  {
   "cell_type": "markdown",
   "metadata": {
    "colab_type": "text",
    "id": "FNrQLdTrkEiK"
   },
   "source": [
    "## **2. MLP + Dropout + AdamOptimizer**"
   ]
  },
  {
   "cell_type": "code",
   "execution_count": 18,
   "metadata": {
    "colab": {
     "base_uri": "https://localhost:8080/",
     "height": 436
    },
    "colab_type": "code",
    "id": "vabRuDjYkSQw",
    "outputId": "77d4d686-6c84-4521-e6cb-ff84e21e68ca"
   },
   "outputs": [
    {
     "name": "stdout",
     "output_type": "stream",
     "text": [
      "WARNING:tensorflow:From /usr/local/lib/python3.6/dist-packages/keras/backend/tensorflow_backend.py:3445: calling dropout (from tensorflow.python.ops.nn_ops) with keep_prob is deprecated and will be removed in a future version.\n",
      "Instructions for updating:\n",
      "Please use `rate` instead of `keep_prob`. Rate should be set to `rate = 1 - keep_prob`.\n",
      "_________________________________________________________________\n",
      "Layer (type)                 Output Shape              Param #   \n",
      "=================================================================\n",
      "dense_4 (Dense)              (None, 512)               401920    \n",
      "_________________________________________________________________\n",
      "batch_normalization_3 (Batch (None, 512)               2048      \n",
      "_________________________________________________________________\n",
      "dropout_1 (Dropout)          (None, 512)               0         \n",
      "_________________________________________________________________\n",
      "dense_5 (Dense)              (None, 256)               131328    \n",
      "_________________________________________________________________\n",
      "batch_normalization_4 (Batch (None, 256)               1024      \n",
      "_________________________________________________________________\n",
      "dropout_2 (Dropout)          (None, 256)               0         \n",
      "_________________________________________________________________\n",
      "dense_6 (Dense)              (None, 10)                2570      \n",
      "=================================================================\n",
      "Total params: 538,890\n",
      "Trainable params: 537,354\n",
      "Non-trainable params: 1,536\n",
      "_________________________________________________________________\n"
     ]
    }
   ],
   "source": [
    "from keras.layers import Dropout\n",
    "\n",
    "model_drop = Sequential()\n",
    "\n",
    "model_drop.add(Dense(512, activation='relu', input_shape=(input_dim,), kernel_initializer=RandomNormal(mean=0.0, stddev=0.039, seed=None)))\n",
    "model_drop.add(BatchNormalization())\n",
    "model_drop.add(Dropout(0.5))\n",
    "\n",
    "model_drop.add(Dense(256, activation='relu', kernel_initializer=RandomNormal(mean=0.0, stddev=0.55, seed=None)) )\n",
    "model_drop.add(BatchNormalization())\n",
    "model_drop.add(Dropout(0.5))\n",
    "\n",
    "model_drop.add(Dense(output_dim, activation='softmax'))\n",
    "\n",
    "\n",
    "model_drop.summary()"
   ]
  },
  {
   "cell_type": "code",
   "execution_count": 19,
   "metadata": {
    "colab": {
     "base_uri": "https://localhost:8080/",
     "height": 2033
    },
    "colab_type": "code",
    "id": "yoEIAVGkknA9",
    "outputId": "8b36fa09-8e39-4be4-a03c-41b57d097354",
    "scrolled": false
   },
   "outputs": [
    {
     "name": "stdout",
     "output_type": "stream",
     "text": [
      "Train on 60000 samples, validate on 10000 samples\n",
      "Epoch 1/60\n",
      "60000/60000 [==============================] - 6s 106us/step - loss: 0.4528 - acc: 0.8622 - val_loss: 0.1598 - val_acc: 0.9525\n",
      "Epoch 2/60\n",
      "60000/60000 [==============================] - 6s 95us/step - loss: 0.2362 - acc: 0.9277 - val_loss: 0.1314 - val_acc: 0.9566\n",
      "Epoch 3/60\n",
      "60000/60000 [==============================] - 6s 94us/step - loss: 0.1886 - acc: 0.9425 - val_loss: 0.1041 - val_acc: 0.9666\n",
      "Epoch 4/60\n",
      "60000/60000 [==============================] - 6s 94us/step - loss: 0.1674 - acc: 0.9488 - val_loss: 0.0946 - val_acc: 0.9697\n",
      "Epoch 5/60\n",
      "60000/60000 [==============================] - 6s 95us/step - loss: 0.1496 - acc: 0.9544 - val_loss: 0.0869 - val_acc: 0.9725\n",
      "Epoch 6/60\n",
      "60000/60000 [==============================] - 6s 95us/step - loss: 0.1377 - acc: 0.9582 - val_loss: 0.0780 - val_acc: 0.9757\n",
      "Epoch 7/60\n",
      "60000/60000 [==============================] - 6s 95us/step - loss: 0.1264 - acc: 0.9608 - val_loss: 0.0774 - val_acc: 0.9756\n",
      "Epoch 8/60\n",
      "60000/60000 [==============================] - 6s 95us/step - loss: 0.1155 - acc: 0.9639 - val_loss: 0.0738 - val_acc: 0.9773\n",
      "Epoch 9/60\n",
      "60000/60000 [==============================] - 6s 95us/step - loss: 0.1102 - acc: 0.9665 - val_loss: 0.0678 - val_acc: 0.9790\n",
      "Epoch 10/60\n",
      "60000/60000 [==============================] - 6s 94us/step - loss: 0.1057 - acc: 0.9671 - val_loss: 0.0697 - val_acc: 0.9782\n",
      "Epoch 11/60\n",
      "60000/60000 [==============================] - 6s 95us/step - loss: 0.0981 - acc: 0.9696 - val_loss: 0.0650 - val_acc: 0.9803\n",
      "Epoch 12/60\n",
      "60000/60000 [==============================] - 6s 95us/step - loss: 0.0938 - acc: 0.9703 - val_loss: 0.0655 - val_acc: 0.9788\n",
      "Epoch 13/60\n",
      "60000/60000 [==============================] - 6s 95us/step - loss: 0.0892 - acc: 0.9722 - val_loss: 0.0639 - val_acc: 0.9808\n",
      "Epoch 14/60\n",
      "60000/60000 [==============================] - 6s 93us/step - loss: 0.0837 - acc: 0.9740 - val_loss: 0.0607 - val_acc: 0.9815\n",
      "Epoch 15/60\n",
      "60000/60000 [==============================] - 6s 95us/step - loss: 0.0862 - acc: 0.9732 - val_loss: 0.0595 - val_acc: 0.9818\n",
      "Epoch 16/60\n",
      "60000/60000 [==============================] - 6s 95us/step - loss: 0.0807 - acc: 0.9743 - val_loss: 0.0621 - val_acc: 0.9823\n",
      "Epoch 17/60\n",
      "60000/60000 [==============================] - 6s 95us/step - loss: 0.0758 - acc: 0.9757 - val_loss: 0.0637 - val_acc: 0.9812\n",
      "Epoch 18/60\n",
      "60000/60000 [==============================] - 6s 94us/step - loss: 0.0729 - acc: 0.9770 - val_loss: 0.0573 - val_acc: 0.9832\n",
      "Epoch 19/60\n",
      "60000/60000 [==============================] - 6s 95us/step - loss: 0.0711 - acc: 0.9783 - val_loss: 0.0594 - val_acc: 0.9827\n",
      "Epoch 20/60\n",
      "60000/60000 [==============================] - 6s 94us/step - loss: 0.0654 - acc: 0.9790 - val_loss: 0.0590 - val_acc: 0.9837\n",
      "Epoch 21/60\n",
      "60000/60000 [==============================] - 6s 94us/step - loss: 0.0666 - acc: 0.9787 - val_loss: 0.0568 - val_acc: 0.9839\n",
      "Epoch 22/60\n",
      "60000/60000 [==============================] - 6s 95us/step - loss: 0.0643 - acc: 0.9794 - val_loss: 0.0607 - val_acc: 0.9828\n",
      "Epoch 23/60\n",
      "60000/60000 [==============================] - 6s 94us/step - loss: 0.0581 - acc: 0.9813 - val_loss: 0.0546 - val_acc: 0.9848\n",
      "Epoch 24/60\n",
      "60000/60000 [==============================] - 6s 94us/step - loss: 0.0586 - acc: 0.9814 - val_loss: 0.0568 - val_acc: 0.9840\n",
      "Epoch 25/60\n",
      "60000/60000 [==============================] - 6s 94us/step - loss: 0.0577 - acc: 0.9814 - val_loss: 0.0598 - val_acc: 0.9827\n",
      "Epoch 26/60\n",
      "60000/60000 [==============================] - 6s 95us/step - loss: 0.0571 - acc: 0.9812 - val_loss: 0.0544 - val_acc: 0.9841\n",
      "Epoch 27/60\n",
      "60000/60000 [==============================] - 6s 95us/step - loss: 0.0547 - acc: 0.9823 - val_loss: 0.0537 - val_acc: 0.9838\n",
      "Epoch 28/60\n",
      "60000/60000 [==============================] - 6s 95us/step - loss: 0.0518 - acc: 0.9831 - val_loss: 0.0554 - val_acc: 0.9850\n",
      "Epoch 29/60\n",
      "60000/60000 [==============================] - 6s 95us/step - loss: 0.0487 - acc: 0.9844 - val_loss: 0.0588 - val_acc: 0.9839\n",
      "Epoch 30/60\n",
      "60000/60000 [==============================] - 6s 95us/step - loss: 0.0513 - acc: 0.9831 - val_loss: 0.0544 - val_acc: 0.9846\n",
      "Epoch 31/60\n",
      "60000/60000 [==============================] - 6s 94us/step - loss: 0.0499 - acc: 0.9840 - val_loss: 0.0562 - val_acc: 0.9849\n",
      "Epoch 32/60\n",
      "60000/60000 [==============================] - 6s 94us/step - loss: 0.0469 - acc: 0.9850 - val_loss: 0.0565 - val_acc: 0.9839\n",
      "Epoch 33/60\n",
      "60000/60000 [==============================] - 6s 95us/step - loss: 0.0462 - acc: 0.9849 - val_loss: 0.0557 - val_acc: 0.9855\n",
      "Epoch 34/60\n",
      "60000/60000 [==============================] - 6s 93us/step - loss: 0.0463 - acc: 0.9845 - val_loss: 0.0555 - val_acc: 0.9856\n",
      "Epoch 35/60\n",
      "60000/60000 [==============================] - 6s 95us/step - loss: 0.0440 - acc: 0.9854 - val_loss: 0.0533 - val_acc: 0.9853\n",
      "Epoch 36/60\n",
      "60000/60000 [==============================] - 6s 94us/step - loss: 0.0447 - acc: 0.9856 - val_loss: 0.0532 - val_acc: 0.9845\n",
      "Epoch 37/60\n",
      "60000/60000 [==============================] - 6s 95us/step - loss: 0.0417 - acc: 0.9865 - val_loss: 0.0596 - val_acc: 0.9839\n",
      "Epoch 38/60\n",
      "60000/60000 [==============================] - 6s 95us/step - loss: 0.0414 - acc: 0.9868 - val_loss: 0.0572 - val_acc: 0.9849\n",
      "Epoch 39/60\n",
      "60000/60000 [==============================] - 6s 94us/step - loss: 0.0407 - acc: 0.9869 - val_loss: 0.0597 - val_acc: 0.9840\n",
      "Epoch 40/60\n",
      "60000/60000 [==============================] - 6s 95us/step - loss: 0.0405 - acc: 0.9867 - val_loss: 0.0555 - val_acc: 0.9850\n",
      "Epoch 41/60\n",
      "60000/60000 [==============================] - 6s 94us/step - loss: 0.0401 - acc: 0.9867 - val_loss: 0.0516 - val_acc: 0.9871\n",
      "Epoch 42/60\n",
      "60000/60000 [==============================] - 6s 93us/step - loss: 0.0396 - acc: 0.9869 - val_loss: 0.0538 - val_acc: 0.9849\n",
      "Epoch 43/60\n",
      "60000/60000 [==============================] - 6s 94us/step - loss: 0.0363 - acc: 0.9880 - val_loss: 0.0543 - val_acc: 0.9851\n",
      "Epoch 44/60\n",
      "60000/60000 [==============================] - 6s 94us/step - loss: 0.0357 - acc: 0.9881 - val_loss: 0.0581 - val_acc: 0.9845\n",
      "Epoch 45/60\n",
      "60000/60000 [==============================] - 6s 94us/step - loss: 0.0337 - acc: 0.9888 - val_loss: 0.0612 - val_acc: 0.9836\n",
      "Epoch 46/60\n",
      "60000/60000 [==============================] - 6s 94us/step - loss: 0.0348 - acc: 0.9884 - val_loss: 0.0520 - val_acc: 0.9855\n",
      "Epoch 47/60\n",
      "60000/60000 [==============================] - 6s 94us/step - loss: 0.0360 - acc: 0.9882 - val_loss: 0.0561 - val_acc: 0.9851\n",
      "Epoch 48/60\n",
      "60000/60000 [==============================] - 6s 94us/step - loss: 0.0355 - acc: 0.9883 - val_loss: 0.0537 - val_acc: 0.9862\n",
      "Epoch 49/60\n",
      "60000/60000 [==============================] - 6s 95us/step - loss: 0.0335 - acc: 0.9890 - val_loss: 0.0583 - val_acc: 0.9847\n",
      "Epoch 50/60\n",
      "60000/60000 [==============================] - 6s 94us/step - loss: 0.0328 - acc: 0.9888 - val_loss: 0.0595 - val_acc: 0.9850\n",
      "Epoch 51/60\n",
      "60000/60000 [==============================] - 6s 94us/step - loss: 0.0341 - acc: 0.9893 - val_loss: 0.0568 - val_acc: 0.9856\n",
      "Epoch 52/60\n",
      "60000/60000 [==============================] - 6s 94us/step - loss: 0.0341 - acc: 0.9884 - val_loss: 0.0559 - val_acc: 0.9847\n",
      "Epoch 53/60\n",
      "60000/60000 [==============================] - 6s 95us/step - loss: 0.0338 - acc: 0.9890 - val_loss: 0.0540 - val_acc: 0.9857\n",
      "Epoch 54/60\n",
      "60000/60000 [==============================] - 6s 94us/step - loss: 0.0318 - acc: 0.9897 - val_loss: 0.0533 - val_acc: 0.9857\n",
      "Epoch 55/60\n",
      "60000/60000 [==============================] - 6s 94us/step - loss: 0.0307 - acc: 0.9898 - val_loss: 0.0566 - val_acc: 0.9841\n",
      "Epoch 56/60\n",
      "60000/60000 [==============================] - 6s 94us/step - loss: 0.0292 - acc: 0.9906 - val_loss: 0.0551 - val_acc: 0.9851\n",
      "Epoch 57/60\n",
      "60000/60000 [==============================] - 6s 95us/step - loss: 0.0285 - acc: 0.9905 - val_loss: 0.0543 - val_acc: 0.9847\n",
      "Epoch 58/60\n",
      "60000/60000 [==============================] - 6s 94us/step - loss: 0.0295 - acc: 0.9900 - val_loss: 0.0546 - val_acc: 0.9857\n",
      "Epoch 59/60\n",
      "60000/60000 [==============================] - 6s 94us/step - loss: 0.0294 - acc: 0.9902 - val_loss: 0.0559 - val_acc: 0.9863\n",
      "Epoch 60/60\n",
      "60000/60000 [==============================] - 6s 94us/step - loss: 0.0259 - acc: 0.9912 - val_loss: 0.0567 - val_acc: 0.9855\n"
     ]
    }
   ],
   "source": [
    "model_drop.compile(optimizer='adam', loss='categorical_crossentropy', metrics=['accuracy'])\n",
    "\n",
    "history = model_drop.fit(X_train, Y_train, batch_size=batch_size, epochs=nb_epoch, verbose=1, validation_data=(X_test, Y_test))"
   ]
  },
  {
   "cell_type": "code",
   "execution_count": 20,
   "metadata": {
    "colab": {
     "base_uri": "https://localhost:8080/",
     "height": 394
    },
    "colab_type": "code",
    "id": "psEefoqVnK_t",
    "outputId": "5e933c4c-47ac-404d-9757-2abf12b5b59d"
   },
   "outputs": [
    {
     "name": "stdout",
     "output_type": "stream",
     "text": [
      "Test score: 0.05668292018135808\n",
      "Test accuracy: 0.9855\n"
     ]
    },
    {
     "data": {
      "image/png": "[encoded data removed]",
      "text/plain": [
       "<Figure size 576x396 with 1 Axes>"
      ]
     },
     "metadata": {
      "tags": []
     },
     "output_type": "display_data"
    }
   ],
   "source": [
    "score = model_drop.evaluate(X_test, Y_test, verbose=0) \n",
    "print('Test score:', score[0]) \n",
    "print('Test accuracy:', score[1])\n",
    "\n",
    "fig,ax = plt.subplots(1,1)\n",
    "ax.set_xlabel('epoch') ; ax.set_ylabel('Categorical Crossentropy Loss')\n",
    "\n",
    "vy = history.history['val_loss']\n",
    "ty = history.history['loss']\n",
    "plt_dynamic(x, vy, ty, ax)"
   ]
  },
  {
   "cell_type": "markdown",
   "metadata": {
    "colab_type": "text",
    "id": "n9NNOIspoDQX"
   },
   "source": [
    "# **Architecture-2: input (784) - ReLu(1024) - ReLu(512)-Relu(256)- sigmoid**"
   ]
  },
  {
   "cell_type": "markdown",
   "metadata": {
    "colab_type": "text",
    "id": "qHf7PZt5oU9q"
   },
   "source": [
    "##**1.MLP + Batch-Norm on hidden Layers + AdamOptimizer**"
   ]
  },
  {
   "cell_type": "code",
   "execution_count": 22,
   "metadata": {
    "colab": {
     "base_uri": "https://localhost:8080/",
     "height": 366
    },
    "colab_type": "code",
    "id": "5j9wdLQPoPnG",
    "outputId": "269635f0-ae84-490b-a9bc-05620a6e0f59"
   },
   "outputs": [
    {
     "name": "stdout",
     "output_type": "stream",
     "text": [
      "_________________________________________________________________\n",
      "Layer (type)                 Output Shape              Param #   \n",
      "=================================================================\n",
      "dense_7 (Dense)              (None, 1024)              803840    \n",
      "_________________________________________________________________\n",
      "batch_normalization_5 (Batch (None, 1024)              4096      \n",
      "_________________________________________________________________\n",
      "dense_8 (Dense)              (None, 512)               524800    \n",
      "_________________________________________________________________\n",
      "batch_normalization_6 (Batch (None, 512)               2048      \n",
      "_________________________________________________________________\n",
      "dense_9 (Dense)              (None, 256)               131328    \n",
      "_________________________________________________________________\n",
      "batch_normalization_7 (Batch (None, 256)               1024      \n",
      "_________________________________________________________________\n",
      "dense_10 (Dense)             (None, 10)                2570      \n",
      "=================================================================\n",
      "Total params: 1,469,706\n",
      "Trainable params: 1,466,122\n",
      "Non-trainable params: 3,584\n",
      "_________________________________________________________________\n"
     ]
    }
   ],
   "source": [
    "model_batch = Sequential()\n",
    "\n",
    "model_batch.add(Dense(1024, activation='relu', input_shape=(input_dim,), kernel_initializer=RandomNormal(mean=0.0, stddev=0.039, seed=None)))\n",
    "model_batch.add(BatchNormalization())\n",
    "\n",
    "model_batch.add(Dense(512, activation='relu', kernel_initializer=RandomNormal(mean=0.0, stddev=0.55, seed=None)) )\n",
    "model_batch.add(BatchNormalization())\n",
    "\n",
    "model_batch.add(Dense(256, activation='relu', kernel_initializer=RandomNormal(mean=0.0, stddev=0.55, seed=None)) )\n",
    "model_batch.add(BatchNormalization())\n",
    "\n",
    "model_batch.add(Dense(output_dim, activation='softmax'))\n",
    "\n",
    "\n",
    "model_batch.summary()"
   ]
  },
  {
   "cell_type": "code",
   "execution_count": 23,
   "metadata": {
    "colab": {
     "base_uri": "https://localhost:8080/",
     "height": 2033
    },
    "colab_type": "code",
    "id": "1ZVMo_4LouL-",
    "outputId": "ff8fc3fd-fe2c-40f0-e989-a84b1d1093d6",
    "scrolled": false
   },
   "outputs": [
    {
     "name": "stdout",
     "output_type": "stream",
     "text": [
      "Train on 60000 samples, validate on 10000 samples\n",
      "Epoch 1/60\n",
      "60000/60000 [==============================] - 9s 154us/step - loss: 0.1723 - acc: 0.9483 - val_loss: 0.1034 - val_acc: 0.9691\n",
      "Epoch 2/60\n",
      "60000/60000 [==============================] - 8s 136us/step - loss: 0.0668 - acc: 0.9799 - val_loss: 0.0872 - val_acc: 0.9740\n",
      "Epoch 3/60\n",
      "60000/60000 [==============================] - 8s 137us/step - loss: 0.0433 - acc: 0.9868 - val_loss: 0.0809 - val_acc: 0.9742\n",
      "Epoch 4/60\n",
      "60000/60000 [==============================] - 8s 136us/step - loss: 0.0344 - acc: 0.9887 - val_loss: 0.0768 - val_acc: 0.9786\n",
      "Epoch 5/60\n",
      "60000/60000 [==============================] - 8s 136us/step - loss: 0.0257 - acc: 0.9920 - val_loss: 0.0860 - val_acc: 0.9752\n",
      "Epoch 6/60\n",
      "60000/60000 [==============================] - 8s 136us/step - loss: 0.0228 - acc: 0.9925 - val_loss: 0.0829 - val_acc: 0.9747\n",
      "Epoch 7/60\n",
      "60000/60000 [==============================] - 8s 137us/step - loss: 0.0195 - acc: 0.9933 - val_loss: 0.0635 - val_acc: 0.9815\n",
      "Epoch 8/60\n",
      "60000/60000 [==============================] - 8s 135us/step - loss: 0.0204 - acc: 0.9930 - val_loss: 0.0769 - val_acc: 0.9782\n",
      "Epoch 9/60\n",
      "60000/60000 [==============================] - 8s 137us/step - loss: 0.0176 - acc: 0.9939 - val_loss: 0.0711 - val_acc: 0.9805\n",
      "Epoch 10/60\n",
      "60000/60000 [==============================] - 8s 137us/step - loss: 0.0141 - acc: 0.9951 - val_loss: 0.0884 - val_acc: 0.9756\n",
      "Epoch 11/60\n",
      "60000/60000 [==============================] - 8s 136us/step - loss: 0.0145 - acc: 0.9951 - val_loss: 0.0785 - val_acc: 0.9792\n",
      "Epoch 12/60\n",
      "60000/60000 [==============================] - 8s 137us/step - loss: 0.0128 - acc: 0.9955 - val_loss: 0.0659 - val_acc: 0.9825\n",
      "Epoch 13/60\n",
      "60000/60000 [==============================] - 8s 136us/step - loss: 0.0132 - acc: 0.9956 - val_loss: 0.0788 - val_acc: 0.9805\n",
      "Epoch 14/60\n",
      "60000/60000 [==============================] - 8s 136us/step - loss: 0.0111 - acc: 0.9965 - val_loss: 0.0804 - val_acc: 0.9811\n",
      "Epoch 15/60\n",
      "60000/60000 [==============================] - 8s 136us/step - loss: 0.0113 - acc: 0.9965 - val_loss: 0.0796 - val_acc: 0.9796\n",
      "Epoch 16/60\n",
      "60000/60000 [==============================] - 8s 136us/step - loss: 0.0119 - acc: 0.9962 - val_loss: 0.0711 - val_acc: 0.9819\n",
      "Epoch 17/60\n",
      "60000/60000 [==============================] - 8s 136us/step - loss: 0.0097 - acc: 0.9967 - val_loss: 0.0771 - val_acc: 0.9803\n",
      "Epoch 18/60\n",
      "60000/60000 [==============================] - 8s 134us/step - loss: 0.0085 - acc: 0.9972 - val_loss: 0.0653 - val_acc: 0.9830\n",
      "Epoch 19/60\n",
      "60000/60000 [==============================] - 8s 137us/step - loss: 0.0070 - acc: 0.9976 - val_loss: 0.0752 - val_acc: 0.9823\n",
      "Epoch 20/60\n",
      "60000/60000 [==============================] - 8s 136us/step - loss: 0.0092 - acc: 0.9971 - val_loss: 0.0811 - val_acc: 0.9818\n",
      "Epoch 21/60\n",
      "60000/60000 [==============================] - 8s 136us/step - loss: 0.0083 - acc: 0.9973 - val_loss: 0.0860 - val_acc: 0.9800\n",
      "Epoch 22/60\n",
      "60000/60000 [==============================] - 8s 137us/step - loss: 0.0066 - acc: 0.9979 - val_loss: 0.0853 - val_acc: 0.9785\n",
      "Epoch 23/60\n",
      "60000/60000 [==============================] - 8s 136us/step - loss: 0.0076 - acc: 0.9972 - val_loss: 0.0761 - val_acc: 0.9813\n",
      "Epoch 24/60\n",
      "60000/60000 [==============================] - 8s 137us/step - loss: 0.0078 - acc: 0.9976 - val_loss: 0.0874 - val_acc: 0.9812\n",
      "Epoch 25/60\n",
      "60000/60000 [==============================] - 8s 135us/step - loss: 0.0061 - acc: 0.9981 - val_loss: 0.0832 - val_acc: 0.9810\n",
      "Epoch 26/60\n",
      "60000/60000 [==============================] - 8s 138us/step - loss: 0.0066 - acc: 0.9979 - val_loss: 0.0859 - val_acc: 0.9818\n",
      "Epoch 27/60\n",
      "60000/60000 [==============================] - 8s 136us/step - loss: 0.0049 - acc: 0.9984 - val_loss: 0.0885 - val_acc: 0.9812\n",
      "Epoch 28/60\n",
      "60000/60000 [==============================] - 8s 137us/step - loss: 0.0061 - acc: 0.9981 - val_loss: 0.0774 - val_acc: 0.9825\n",
      "Epoch 29/60\n",
      "60000/60000 [==============================] - 8s 137us/step - loss: 0.0062 - acc: 0.9979 - val_loss: 0.0813 - val_acc: 0.9826\n",
      "Epoch 30/60\n",
      "60000/60000 [==============================] - 8s 136us/step - loss: 0.0041 - acc: 0.9987 - val_loss: 0.0800 - val_acc: 0.9827\n",
      "Epoch 31/60\n",
      "60000/60000 [==============================] - 8s 136us/step - loss: 0.0041 - acc: 0.9987 - val_loss: 0.0757 - val_acc: 0.9832\n",
      "Epoch 32/60\n",
      "60000/60000 [==============================] - 8s 136us/step - loss: 0.0060 - acc: 0.9981 - val_loss: 0.0827 - val_acc: 0.9811\n",
      "Epoch 33/60\n",
      "60000/60000 [==============================] - 8s 136us/step - loss: 0.0073 - acc: 0.9978 - val_loss: 0.0818 - val_acc: 0.9823\n",
      "Epoch 34/60\n",
      "60000/60000 [==============================] - 8s 137us/step - loss: 0.0053 - acc: 0.9985 - val_loss: 0.0774 - val_acc: 0.9847\n",
      "Epoch 35/60\n",
      "60000/60000 [==============================] - 8s 137us/step - loss: 0.0037 - acc: 0.9987 - val_loss: 0.0880 - val_acc: 0.9824\n",
      "Epoch 36/60\n",
      "60000/60000 [==============================] - 8s 137us/step - loss: 0.0036 - acc: 0.9990 - val_loss: 0.0791 - val_acc: 0.9842\n",
      "Epoch 37/60\n",
      "60000/60000 [==============================] - 8s 137us/step - loss: 0.0051 - acc: 0.9986 - val_loss: 0.0821 - val_acc: 0.9824\n",
      "Epoch 38/60\n",
      "60000/60000 [==============================] - 8s 137us/step - loss: 0.0060 - acc: 0.9980 - val_loss: 0.0833 - val_acc: 0.9820\n",
      "Epoch 39/60\n",
      "60000/60000 [==============================] - 8s 137us/step - loss: 0.0038 - acc: 0.9987 - val_loss: 0.0761 - val_acc: 0.9842\n",
      "Epoch 40/60\n",
      "60000/60000 [==============================] - 8s 137us/step - loss: 0.0027 - acc: 0.9991 - val_loss: 0.0931 - val_acc: 0.9815\n",
      "Epoch 41/60\n",
      "60000/60000 [==============================] - 8s 136us/step - loss: 0.0051 - acc: 0.9983 - val_loss: 0.0788 - val_acc: 0.9843\n",
      "Epoch 42/60\n",
      "60000/60000 [==============================] - 8s 137us/step - loss: 0.0049 - acc: 0.9983 - val_loss: 0.0789 - val_acc: 0.9852\n",
      "Epoch 43/60\n",
      "60000/60000 [==============================] - 8s 136us/step - loss: 0.0049 - acc: 0.9986 - val_loss: 0.0837 - val_acc: 0.9830\n",
      "Epoch 44/60\n",
      "60000/60000 [==============================] - 8s 137us/step - loss: 0.0037 - acc: 0.9988 - val_loss: 0.0732 - val_acc: 0.9853\n",
      "Epoch 45/60\n",
      "60000/60000 [==============================] - 8s 137us/step - loss: 0.0034 - acc: 0.9989 - val_loss: 0.0799 - val_acc: 0.9839\n",
      "Epoch 46/60\n",
      "60000/60000 [==============================] - 8s 137us/step - loss: 0.0047 - acc: 0.9987 - val_loss: 0.0881 - val_acc: 0.9840\n",
      "Epoch 47/60\n",
      "60000/60000 [==============================] - 8s 136us/step - loss: 0.0038 - acc: 0.9987 - val_loss: 0.0899 - val_acc: 0.9837\n",
      "Epoch 48/60\n",
      "60000/60000 [==============================] - 8s 138us/step - loss: 0.0035 - acc: 0.9988 - val_loss: 0.0850 - val_acc: 0.9834\n",
      "Epoch 49/60\n",
      "60000/60000 [==============================] - 8s 136us/step - loss: 0.0027 - acc: 0.9991 - val_loss: 0.0801 - val_acc: 0.9849\n",
      "Epoch 50/60\n",
      "60000/60000 [==============================] - 8s 136us/step - loss: 0.0030 - acc: 0.9990 - val_loss: 0.0803 - val_acc: 0.9845\n",
      "Epoch 51/60\n",
      "60000/60000 [==============================] - 8s 136us/step - loss: 0.0042 - acc: 0.9986 - val_loss: 0.0747 - val_acc: 0.9845\n",
      "Epoch 52/60\n",
      "60000/60000 [==============================] - 8s 137us/step - loss: 0.0044 - acc: 0.9986 - val_loss: 0.0836 - val_acc: 0.9827\n",
      "Epoch 53/60\n",
      "60000/60000 [==============================] - 8s 136us/step - loss: 0.0052 - acc: 0.9985 - val_loss: 0.0794 - val_acc: 0.9845\n",
      "Epoch 54/60\n",
      "60000/60000 [==============================] - 8s 137us/step - loss: 0.0030 - acc: 0.9990 - val_loss: 0.0834 - val_acc: 0.9843\n",
      "Epoch 55/60\n",
      "60000/60000 [==============================] - 8s 136us/step - loss: 0.0023 - acc: 0.9992 - val_loss: 0.0895 - val_acc: 0.9843\n",
      "Epoch 56/60\n",
      "60000/60000 [==============================] - 8s 135us/step - loss: 0.0027 - acc: 0.9990 - val_loss: 0.0872 - val_acc: 0.9842\n",
      "Epoch 57/60\n",
      "60000/60000 [==============================] - 8s 136us/step - loss: 0.0027 - acc: 0.9990 - val_loss: 0.0873 - val_acc: 0.9846\n",
      "Epoch 58/60\n",
      "60000/60000 [==============================] - 8s 136us/step - loss: 0.0032 - acc: 0.9990 - val_loss: 0.0937 - val_acc: 0.9844\n",
      "Epoch 59/60\n",
      "60000/60000 [==============================] - 8s 137us/step - loss: 0.0036 - acc: 0.9988 - val_loss: 0.0850 - val_acc: 0.9845\n",
      "Epoch 60/60\n",
      "60000/60000 [==============================] - 8s 136us/step - loss: 0.0023 - acc: 0.9992 - val_loss: 0.0934 - val_acc: 0.9826\n"
     ]
    }
   ],
   "source": [
    "model_batch.compile(optimizer='adam', loss='categorical_crossentropy', metrics=['accuracy'])\n",
    "\n",
    "history = model_batch.fit(X_train, Y_train, batch_size=batch_size, epochs=nb_epoch, verbose=1, validation_data=(X_test, Y_test))"
   ]
  },
  {
   "cell_type": "code",
   "execution_count": 24,
   "metadata": {
    "colab": {
     "base_uri": "https://localhost:8080/",
     "height": 394
    },
    "colab_type": "code",
    "id": "70Ya_4WQrZQa",
    "outputId": "88c21486-a602-4301-9ca4-bf6f54c34871"
   },
   "outputs": [
    {
     "name": "stdout",
     "output_type": "stream",
     "text": [
      "Test score: 0.05668292018135808\n",
      "Test accuracy: 0.9855\n"
     ]
    },
    {
     "data": {
      "image/png": "[encoded data removed]",
      "text/plain": [
       "<Figure size 576x396 with 1 Axes>"
      ]
     },
     "metadata": {
      "tags": []
     },
     "output_type": "display_data"
    }
   ],
   "source": [
    "score = model_drop.evaluate(X_test, Y_test, verbose=0) \n",
    "print('Test score:', score[0]) \n",
    "print('Test accuracy:', score[1])\n",
    "\n",
    "fig,ax = plt.subplots(1,1)\n",
    "ax.set_xlabel('epoch') ; ax.set_ylabel('Categorical Crossentropy Loss')\n",
    "\n",
    "vy = history.history['val_loss']\n",
    "ty = history.history['loss']\n",
    "plt_dynamic(x, vy, ty, ax)"
   ]
  },
  {
   "cell_type": "markdown",
   "metadata": {
    "colab_type": "text",
    "id": "R9VaPQx7wKzV"
   },
   "source": [
    "## **2. MLP + Dropout + AdamOptimizer**"
   ]
  },
  {
   "cell_type": "code",
   "execution_count": 25,
   "metadata": {
    "colab": {
     "base_uri": "https://localhost:8080/",
     "height": 466
    },
    "colab_type": "code",
    "id": "ZyHeev58wIkh",
    "outputId": "b7e66fdc-fa30-4829-ab3a-edea3ecb26e9"
   },
   "outputs": [
    {
     "name": "stdout",
     "output_type": "stream",
     "text": [
      "_________________________________________________________________\n",
      "Layer (type)                 Output Shape              Param #   \n",
      "=================================================================\n",
      "dense_11 (Dense)             (None, 1024)              803840    \n",
      "_________________________________________________________________\n",
      "batch_normalization_8 (Batch (None, 1024)              4096      \n",
      "_________________________________________________________________\n",
      "dropout_3 (Dropout)          (None, 1024)              0         \n",
      "_________________________________________________________________\n",
      "dense_12 (Dense)             (None, 512)               524800    \n",
      "_________________________________________________________________\n",
      "batch_normalization_9 (Batch (None, 512)               2048      \n",
      "_________________________________________________________________\n",
      "dropout_4 (Dropout)          (None, 512)               0         \n",
      "_________________________________________________________________\n",
      "dense_13 (Dense)             (None, 256)               131328    \n",
      "_________________________________________________________________\n",
      "batch_normalization_10 (Batc (None, 256)               1024      \n",
      "_________________________________________________________________\n",
      "dropout_5 (Dropout)          (None, 256)               0         \n",
      "_________________________________________________________________\n",
      "dense_14 (Dense)             (None, 10)                2570      \n",
      "=================================================================\n",
      "Total params: 1,469,706\n",
      "Trainable params: 1,466,122\n",
      "Non-trainable params: 3,584\n",
      "_________________________________________________________________\n"
     ]
    }
   ],
   "source": [
    "model_drop = Sequential()\n",
    "\n",
    "model_drop.add(Dense(1024, activation='relu', input_shape=(input_dim,), kernel_initializer=RandomNormal(mean=0.0, stddev=0.039, seed=None)))\n",
    "model_drop.add(BatchNormalization())\n",
    "model_drop.add(Dropout(0.5))\n",
    "\n",
    "model_drop.add(Dense(512, activation='relu', kernel_initializer=RandomNormal(mean=0.0, stddev=0.55, seed=None)) )\n",
    "model_drop.add(BatchNormalization())\n",
    "model_drop.add(Dropout(0.5))\n",
    "\n",
    "model_drop.add(Dense(256, activation='relu', kernel_initializer=RandomNormal(mean=0.0, stddev=0.55, seed=None)) )\n",
    "model_drop.add(BatchNormalization())\n",
    "model_drop.add(Dropout(0.5))\n",
    "\n",
    "model_drop.add(Dense(output_dim, activation='softmax'))\n",
    "\n",
    "\n",
    "model_drop.summary()"
   ]
  },
  {
   "cell_type": "code",
   "execution_count": 26,
   "metadata": {
    "colab": {
     "base_uri": "https://localhost:8080/",
     "height": 2033
    },
    "colab_type": "code",
    "id": "VdFH_x8pwhFN",
    "outputId": "71c05eca-8392-4e7d-e13c-be8043856564",
    "scrolled": false
   },
   "outputs": [
    {
     "name": "stdout",
     "output_type": "stream",
     "text": [
      "Train on 60000 samples, validate on 10000 samples\n",
      "Epoch 1/60\n",
      "60000/60000 [==============================] - 10s 164us/step - loss: 0.5917 - acc: 0.8182 - val_loss: 0.1716 - val_acc: 0.9440\n",
      "Epoch 2/60\n",
      "60000/60000 [==============================] - 8s 141us/step - loss: 0.2722 - acc: 0.9175 - val_loss: 0.1379 - val_acc: 0.9550\n",
      "Epoch 3/60\n",
      "60000/60000 [==============================] - 8s 140us/step - loss: 0.2157 - acc: 0.9360 - val_loss: 0.1088 - val_acc: 0.9644\n",
      "Epoch 4/60\n",
      "60000/60000 [==============================] - 8s 140us/step - loss: 0.1818 - acc: 0.9452 - val_loss: 0.1062 - val_acc: 0.9663\n",
      "Epoch 5/60\n",
      "60000/60000 [==============================] - 8s 139us/step - loss: 0.1587 - acc: 0.9517 - val_loss: 0.0955 - val_acc: 0.9708\n",
      "Epoch 6/60\n",
      "60000/60000 [==============================] - 8s 141us/step - loss: 0.1448 - acc: 0.9564 - val_loss: 0.0857 - val_acc: 0.9725\n",
      "Epoch 7/60\n",
      "60000/60000 [==============================] - 8s 140us/step - loss: 0.1328 - acc: 0.9600 - val_loss: 0.0751 - val_acc: 0.9782\n",
      "Epoch 8/60\n",
      "60000/60000 [==============================] - 8s 141us/step - loss: 0.1251 - acc: 0.9610 - val_loss: 0.0744 - val_acc: 0.9776\n",
      "Epoch 9/60\n",
      "60000/60000 [==============================] - 8s 141us/step - loss: 0.1139 - acc: 0.9641 - val_loss: 0.0705 - val_acc: 0.9794\n",
      "Epoch 10/60\n",
      "60000/60000 [==============================] - 8s 141us/step - loss: 0.1058 - acc: 0.9681 - val_loss: 0.0713 - val_acc: 0.9777\n",
      "Epoch 11/60\n",
      "60000/60000 [==============================] - 9s 143us/step - loss: 0.1018 - acc: 0.9686 - val_loss: 0.0687 - val_acc: 0.9798\n",
      "Epoch 12/60\n",
      "60000/60000 [==============================] - 8s 141us/step - loss: 0.0941 - acc: 0.9704 - val_loss: 0.0660 - val_acc: 0.9820\n",
      "Epoch 13/60\n",
      "60000/60000 [==============================] - 8s 142us/step - loss: 0.0904 - acc: 0.9720 - val_loss: 0.0642 - val_acc: 0.9812\n",
      "Epoch 14/60\n",
      "60000/60000 [==============================] - 8s 140us/step - loss: 0.0848 - acc: 0.9738 - val_loss: 0.0603 - val_acc: 0.9823\n",
      "Epoch 15/60\n",
      "60000/60000 [==============================] - 8s 140us/step - loss: 0.0833 - acc: 0.9738 - val_loss: 0.0621 - val_acc: 0.9822\n",
      "Epoch 16/60\n",
      "60000/60000 [==============================] - 8s 141us/step - loss: 0.0790 - acc: 0.9755 - val_loss: 0.0608 - val_acc: 0.9826\n",
      "Epoch 17/60\n",
      "60000/60000 [==============================] - 8s 141us/step - loss: 0.0748 - acc: 0.9764 - val_loss: 0.0638 - val_acc: 0.9823\n",
      "Epoch 18/60\n",
      "60000/60000 [==============================] - 8s 140us/step - loss: 0.0730 - acc: 0.9775 - val_loss: 0.0610 - val_acc: 0.9821\n",
      "Epoch 19/60\n",
      "60000/60000 [==============================] - 8s 139us/step - loss: 0.0672 - acc: 0.9793 - val_loss: 0.0593 - val_acc: 0.9835\n",
      "Epoch 20/60\n",
      "60000/60000 [==============================] - 8s 140us/step - loss: 0.0632 - acc: 0.9803 - val_loss: 0.0568 - val_acc: 0.9836\n",
      "Epoch 21/60\n",
      "60000/60000 [==============================] - 8s 141us/step - loss: 0.0619 - acc: 0.9801 - val_loss: 0.0596 - val_acc: 0.9841\n",
      "Epoch 22/60\n",
      "60000/60000 [==============================] - 8s 140us/step - loss: 0.0636 - acc: 0.9798 - val_loss: 0.0578 - val_acc: 0.9840\n",
      "Epoch 23/60\n",
      "60000/60000 [==============================] - 8s 141us/step - loss: 0.0573 - acc: 0.9814 - val_loss: 0.0567 - val_acc: 0.9842\n",
      "Epoch 24/60\n",
      "60000/60000 [==============================] - 8s 141us/step - loss: 0.0570 - acc: 0.9819 - val_loss: 0.0525 - val_acc: 0.9859\n",
      "Epoch 25/60\n",
      "60000/60000 [==============================] - 9s 144us/step - loss: 0.0548 - acc: 0.9823 - val_loss: 0.0530 - val_acc: 0.9851\n",
      "Epoch 26/60\n",
      "60000/60000 [==============================] - 9s 144us/step - loss: 0.0532 - acc: 0.9829 - val_loss: 0.0567 - val_acc: 0.9843\n",
      "Epoch 27/60\n",
      "60000/60000 [==============================] - 9s 146us/step - loss: 0.0533 - acc: 0.9832 - val_loss: 0.0508 - val_acc: 0.9859\n",
      "Epoch 28/60\n",
      "60000/60000 [==============================] - 9s 148us/step - loss: 0.0481 - acc: 0.9843 - val_loss: 0.0573 - val_acc: 0.9850\n",
      "Epoch 29/60\n",
      "60000/60000 [==============================] - 9s 144us/step - loss: 0.0476 - acc: 0.9847 - val_loss: 0.0548 - val_acc: 0.9852\n",
      "Epoch 30/60\n",
      "60000/60000 [==============================] - 9s 145us/step - loss: 0.0469 - acc: 0.9852 - val_loss: 0.0530 - val_acc: 0.9861\n",
      "Epoch 31/60\n",
      "60000/60000 [==============================] - 9s 146us/step - loss: 0.0443 - acc: 0.9857 - val_loss: 0.0510 - val_acc: 0.9855\n",
      "Epoch 32/60\n",
      "60000/60000 [==============================] - 9s 145us/step - loss: 0.0426 - acc: 0.9860 - val_loss: 0.0542 - val_acc: 0.9849\n",
      "Epoch 33/60\n",
      "60000/60000 [==============================] - 9s 147us/step - loss: 0.0423 - acc: 0.9863 - val_loss: 0.0531 - val_acc: 0.9860\n",
      "Epoch 34/60\n",
      "60000/60000 [==============================] - 9s 147us/step - loss: 0.0409 - acc: 0.9865 - val_loss: 0.0507 - val_acc: 0.9862\n",
      "Epoch 35/60\n",
      "60000/60000 [==============================] - 9s 148us/step - loss: 0.0436 - acc: 0.9858 - val_loss: 0.0534 - val_acc: 0.9853\n",
      "Epoch 36/60\n",
      "60000/60000 [==============================] - 9s 143us/step - loss: 0.0416 - acc: 0.9867 - val_loss: 0.0550 - val_acc: 0.9850\n",
      "Epoch 37/60\n",
      "60000/60000 [==============================] - 9s 146us/step - loss: 0.0401 - acc: 0.9876 - val_loss: 0.0557 - val_acc: 0.9846\n",
      "Epoch 38/60\n",
      "60000/60000 [==============================] - 9s 145us/step - loss: 0.0375 - acc: 0.9881 - val_loss: 0.0516 - val_acc: 0.9864\n",
      "Epoch 39/60\n",
      "60000/60000 [==============================] - 9s 145us/step - loss: 0.0371 - acc: 0.9877 - val_loss: 0.0540 - val_acc: 0.9849\n",
      "Epoch 40/60\n",
      "60000/60000 [==============================] - 9s 145us/step - loss: 0.0359 - acc: 0.9884 - val_loss: 0.0537 - val_acc: 0.9860\n",
      "Epoch 41/60\n",
      "60000/60000 [==============================] - 9s 146us/step - loss: 0.0336 - acc: 0.9890 - val_loss: 0.0548 - val_acc: 0.9863\n",
      "Epoch 42/60\n",
      "60000/60000 [==============================] - 9s 146us/step - loss: 0.0331 - acc: 0.9892 - val_loss: 0.0625 - val_acc: 0.9851\n",
      "Epoch 43/60\n",
      "60000/60000 [==============================] - 9s 146us/step - loss: 0.0356 - acc: 0.9885 - val_loss: 0.0583 - val_acc: 0.9848\n",
      "Epoch 44/60\n",
      "60000/60000 [==============================] - 9s 145us/step - loss: 0.0340 - acc: 0.9891 - val_loss: 0.0557 - val_acc: 0.9858\n",
      "Epoch 45/60\n",
      "60000/60000 [==============================] - 9s 145us/step - loss: 0.0327 - acc: 0.9892 - val_loss: 0.0516 - val_acc: 0.9860\n",
      "Epoch 46/60\n",
      "60000/60000 [==============================] - 9s 145us/step - loss: 0.0301 - acc: 0.9900 - val_loss: 0.0552 - val_acc: 0.9860\n",
      "Epoch 47/60\n",
      "60000/60000 [==============================] - 9s 145us/step - loss: 0.0331 - acc: 0.9898 - val_loss: 0.0548 - val_acc: 0.9854\n",
      "Epoch 48/60\n",
      "60000/60000 [==============================] - 9s 145us/step - loss: 0.0302 - acc: 0.9901 - val_loss: 0.0546 - val_acc: 0.9861\n",
      "Epoch 49/60\n",
      "60000/60000 [==============================] - 9s 144us/step - loss: 0.0318 - acc: 0.9899 - val_loss: 0.0562 - val_acc: 0.9863\n",
      "Epoch 50/60\n",
      "60000/60000 [==============================] - 9s 145us/step - loss: 0.0292 - acc: 0.9905 - val_loss: 0.0580 - val_acc: 0.9852\n",
      "Epoch 51/60\n",
      "60000/60000 [==============================] - 9s 145us/step - loss: 0.0286 - acc: 0.9906 - val_loss: 0.0596 - val_acc: 0.9863\n",
      "Epoch 52/60\n",
      "60000/60000 [==============================] - 9s 142us/step - loss: 0.0285 - acc: 0.9898 - val_loss: 0.0592 - val_acc: 0.9860\n",
      "Epoch 53/60\n",
      "60000/60000 [==============================] - 8s 141us/step - loss: 0.0272 - acc: 0.9911 - val_loss: 0.0548 - val_acc: 0.9865\n",
      "Epoch 54/60\n",
      "60000/60000 [==============================] - 8s 141us/step - loss: 0.0296 - acc: 0.9905 - val_loss: 0.0532 - val_acc: 0.9864\n",
      "Epoch 55/60\n",
      "60000/60000 [==============================] - 9s 144us/step - loss: 0.0276 - acc: 0.9909 - val_loss: 0.0541 - val_acc: 0.9862\n",
      "Epoch 56/60\n",
      "60000/60000 [==============================] - 9s 145us/step - loss: 0.0252 - acc: 0.9918 - val_loss: 0.0499 - val_acc: 0.9869\n",
      "Epoch 57/60\n",
      "60000/60000 [==============================] - 9s 145us/step - loss: 0.0263 - acc: 0.9914 - val_loss: 0.0509 - val_acc: 0.9874\n",
      "Epoch 58/60\n",
      "60000/60000 [==============================] - 9s 144us/step - loss: 0.0254 - acc: 0.9919 - val_loss: 0.0536 - val_acc: 0.9868\n",
      "Epoch 59/60\n",
      "60000/60000 [==============================] - 9s 144us/step - loss: 0.0247 - acc: 0.9917 - val_loss: 0.0574 - val_acc: 0.9863\n",
      "Epoch 60/60\n",
      "60000/60000 [==============================] - 9s 144us/step - loss: 0.0245 - acc: 0.9919 - val_loss: 0.0597 - val_acc: 0.9864\n"
     ]
    }
   ],
   "source": [
    "model_drop.compile(optimizer='adam', loss='categorical_crossentropy', metrics=['accuracy'])\n",
    "\n",
    "history = model_drop.fit(X_train, Y_train, batch_size=batch_size, epochs=nb_epoch, verbose=1, validation_data=(X_test, Y_test))"
   ]
  },
  {
   "cell_type": "code",
   "execution_count": 27,
   "metadata": {
    "colab": {
     "base_uri": "https://localhost:8080/",
     "height": 394
    },
    "colab_type": "code",
    "id": "gcGZ7ndIwus_",
    "outputId": "c7ceab04-2434-47cb-b6a9-04300c41e8bb"
   },
   "outputs": [
    {
     "name": "stdout",
     "output_type": "stream",
     "text": [
      "Test score: 0.059668766928038346\n",
      "Test accuracy: 0.9864\n"
     ]
    },
    {
     "data": {
      "image/png": "[encoded data removed]",
      "text/plain": [
       "<Figure size 576x396 with 1 Axes>"
      ]
     },
     "metadata": {
      "tags": []
     },
     "output_type": "display_data"
    }
   ],
   "source": [
    "score = model_drop.evaluate(X_test, Y_test, verbose=0) \n",
    "print('Test score:', score[0]) \n",
    "print('Test accuracy:', score[1])\n",
    "\n",
    "fig,ax = plt.subplots(1,1)\n",
    "ax.set_xlabel('epoch') ; ax.set_ylabel('Categorical Crossentropy Loss')\n",
    "\n",
    "vy = history.history['val_loss']\n",
    "ty = history.history['loss']\n",
    "plt_dynamic(x, vy, ty, ax)"
   ]
  },
  {
   "cell_type": "markdown",
   "metadata": {
    "colab_type": "text",
    "id": "wpGRB8Wq3Fxd"
   },
   "source": [
    "# **Architecture 3: input (784) - ReLu(1024) - ReLu(512)-Relu(256)-Relu(128)-Relu(64)- sigmoid**"
   ]
  },
  {
   "cell_type": "markdown",
   "metadata": {
    "colab_type": "text",
    "id": "ZwhIJFpy3eVI"
   },
   "source": [
    "## **1.MLP + Batch-Norm on hidden Layers + AdamOptimizer**"
   ]
  },
  {
   "cell_type": "code",
   "execution_count": 28,
   "metadata": {
    "colab": {
     "base_uri": "https://localhost:8080/",
     "height": 500
    },
    "colab_type": "code",
    "id": "WJAfOXkc3dCm",
    "outputId": "ad7e9399-26db-4328-ba9d-6881a80ce043"
   },
   "outputs": [
    {
     "name": "stdout",
     "output_type": "stream",
     "text": [
      "_________________________________________________________________\n",
      "Layer (type)                 Output Shape              Param #   \n",
      "=================================================================\n",
      "dense_15 (Dense)             (None, 1024)              803840    \n",
      "_________________________________________________________________\n",
      "batch_normalization_11 (Batc (None, 1024)              4096      \n",
      "_________________________________________________________________\n",
      "dense_16 (Dense)             (None, 512)               524800    \n",
      "_________________________________________________________________\n",
      "batch_normalization_12 (Batc (None, 512)               2048      \n",
      "_________________________________________________________________\n",
      "dense_17 (Dense)             (None, 256)               131328    \n",
      "_________________________________________________________________\n",
      "batch_normalization_13 (Batc (None, 256)               1024      \n",
      "_________________________________________________________________\n",
      "dense_18 (Dense)             (None, 128)               32896     \n",
      "_________________________________________________________________\n",
      "batch_normalization_14 (Batc (None, 128)               512       \n",
      "_________________________________________________________________\n",
      "dense_19 (Dense)             (None, 64)                8256      \n",
      "_________________________________________________________________\n",
      "batch_normalization_15 (Batc (None, 64)                256       \n",
      "_________________________________________________________________\n",
      "dense_20 (Dense)             (None, 10)                650       \n",
      "=================================================================\n",
      "Total params: 1,509,706\n",
      "Trainable params: 1,505,738\n",
      "Non-trainable params: 3,968\n",
      "_________________________________________________________________\n"
     ]
    }
   ],
   "source": [
    "model_batch = Sequential()\n",
    "\n",
    "model_batch.add(Dense(1024, activation='relu', input_shape=(input_dim,), kernel_initializer=RandomNormal(mean=0.0, stddev=0.039, seed=None)))\n",
    "model_batch.add(BatchNormalization())\n",
    "\n",
    "model_batch.add(Dense(512, activation='relu', kernel_initializer=RandomNormal(mean=0.0, stddev=0.55, seed=None)) )\n",
    "model_batch.add(BatchNormalization())\n",
    "\n",
    "model_batch.add(Dense(256, activation='relu', kernel_initializer=RandomNormal(mean=0.0, stddev=0.55, seed=None)) )\n",
    "model_batch.add(BatchNormalization())\n",
    "\n",
    "model_batch.add(Dense(128, activation='relu', kernel_initializer=RandomNormal(mean=0.0, stddev=0.55, seed=None)) )\n",
    "model_batch.add(BatchNormalization())\n",
    "\n",
    "model_batch.add(Dense(64, activation='relu', kernel_initializer=RandomNormal(mean=0.0, stddev=0.55, seed=None)) )\n",
    "model_batch.add(BatchNormalization())\n",
    "\n",
    "model_batch.add(Dense(output_dim, activation='softmax'))\n",
    "\n",
    "\n",
    "model_batch.summary()"
   ]
  },
  {
   "cell_type": "code",
   "execution_count": 29,
   "metadata": {
    "colab": {
     "base_uri": "https://localhost:8080/",
     "height": 2033
    },
    "colab_type": "code",
    "id": "rlHyNcxq30wa",
    "outputId": "9c5656ea-a0eb-4c7c-cc30-31b1babfc987",
    "scrolled": false
   },
   "outputs": [
    {
     "name": "stdout",
     "output_type": "stream",
     "text": [
      "Train on 60000 samples, validate on 10000 samples\n",
      "Epoch 1/60\n",
      "60000/60000 [==============================] - 13s 224us/step - loss: 0.2293 - acc: 0.9339 - val_loss: 0.1111 - val_acc: 0.9653\n",
      "Epoch 2/60\n",
      "60000/60000 [==============================] - 11s 187us/step - loss: 0.0847 - acc: 0.9743 - val_loss: 0.1002 - val_acc: 0.9690\n",
      "Epoch 3/60\n",
      "60000/60000 [==============================] - 11s 187us/step - loss: 0.0593 - acc: 0.9812 - val_loss: 0.0974 - val_acc: 0.9710\n",
      "Epoch 4/60\n",
      "60000/60000 [==============================] - 11s 188us/step - loss: 0.0459 - acc: 0.9853 - val_loss: 0.0895 - val_acc: 0.9747\n",
      "Epoch 5/60\n",
      "60000/60000 [==============================] - 11s 189us/step - loss: 0.0373 - acc: 0.9883 - val_loss: 0.0884 - val_acc: 0.9751\n",
      "Epoch 6/60\n",
      "60000/60000 [==============================] - 11s 183us/step - loss: 0.0317 - acc: 0.9899 - val_loss: 0.0764 - val_acc: 0.9782\n",
      "Epoch 7/60\n",
      "60000/60000 [==============================] - 11s 186us/step - loss: 0.0276 - acc: 0.9911 - val_loss: 0.0823 - val_acc: 0.9769\n",
      "Epoch 8/60\n",
      "60000/60000 [==============================] - 11s 188us/step - loss: 0.0225 - acc: 0.9928 - val_loss: 0.0813 - val_acc: 0.9757\n",
      "Epoch 9/60\n",
      "60000/60000 [==============================] - 11s 190us/step - loss: 0.0223 - acc: 0.9925 - val_loss: 0.0929 - val_acc: 0.9751\n",
      "Epoch 10/60\n",
      "60000/60000 [==============================] - 11s 190us/step - loss: 0.0234 - acc: 0.9919 - val_loss: 0.0817 - val_acc: 0.9783\n",
      "Epoch 11/60\n",
      "60000/60000 [==============================] - 11s 191us/step - loss: 0.0180 - acc: 0.9944 - val_loss: 0.0889 - val_acc: 0.9767\n",
      "Epoch 12/60\n",
      "60000/60000 [==============================] - 11s 190us/step - loss: 0.0140 - acc: 0.9951 - val_loss: 0.0831 - val_acc: 0.9788\n",
      "Epoch 13/60\n",
      "60000/60000 [==============================] - 11s 189us/step - loss: 0.0140 - acc: 0.9955 - val_loss: 0.0790 - val_acc: 0.9789\n",
      "Epoch 14/60\n",
      "60000/60000 [==============================] - 11s 186us/step - loss: 0.0173 - acc: 0.9941 - val_loss: 0.0830 - val_acc: 0.9788\n",
      "Epoch 15/60\n",
      "60000/60000 [==============================] - 11s 187us/step - loss: 0.0137 - acc: 0.9953 - val_loss: 0.0791 - val_acc: 0.9805\n",
      "Epoch 16/60\n",
      "60000/60000 [==============================] - 11s 188us/step - loss: 0.0114 - acc: 0.9963 - val_loss: 0.0773 - val_acc: 0.9805\n",
      "Epoch 17/60\n",
      "60000/60000 [==============================] - 11s 186us/step - loss: 0.0129 - acc: 0.9955 - val_loss: 0.0819 - val_acc: 0.9789\n",
      "Epoch 18/60\n",
      "60000/60000 [==============================] - 11s 187us/step - loss: 0.0117 - acc: 0.9959 - val_loss: 0.0789 - val_acc: 0.9794\n",
      "Epoch 19/60\n",
      "60000/60000 [==============================] - 11s 186us/step - loss: 0.0108 - acc: 0.9963 - val_loss: 0.0804 - val_acc: 0.9783\n",
      "Epoch 20/60\n",
      "60000/60000 [==============================] - 11s 186us/step - loss: 0.0102 - acc: 0.9966 - val_loss: 0.0785 - val_acc: 0.9803\n",
      "Epoch 21/60\n",
      "60000/60000 [==============================] - 11s 187us/step - loss: 0.0116 - acc: 0.9964 - val_loss: 0.0954 - val_acc: 0.9768\n",
      "Epoch 22/60\n",
      "60000/60000 [==============================] - 11s 184us/step - loss: 0.0089 - acc: 0.9970 - val_loss: 0.0829 - val_acc: 0.9794\n",
      "Epoch 23/60\n",
      "60000/60000 [==============================] - 11s 181us/step - loss: 0.0086 - acc: 0.9972 - val_loss: 0.0871 - val_acc: 0.9801\n",
      "Epoch 24/60\n",
      "60000/60000 [==============================] - 11s 184us/step - loss: 0.0073 - acc: 0.9976 - val_loss: 0.0859 - val_acc: 0.9807\n",
      "Epoch 25/60\n",
      "60000/60000 [==============================] - 11s 188us/step - loss: 0.0099 - acc: 0.9965 - val_loss: 0.0921 - val_acc: 0.9798\n",
      "Epoch 26/60\n",
      "60000/60000 [==============================] - 11s 189us/step - loss: 0.0086 - acc: 0.9971 - val_loss: 0.0905 - val_acc: 0.9801\n",
      "Epoch 27/60\n",
      "60000/60000 [==============================] - 11s 187us/step - loss: 0.0074 - acc: 0.9976 - val_loss: 0.0863 - val_acc: 0.9814\n",
      "Epoch 28/60\n",
      "60000/60000 [==============================] - 11s 188us/step - loss: 0.0091 - acc: 0.9968 - val_loss: 0.0805 - val_acc: 0.9826\n",
      "Epoch 29/60\n",
      "60000/60000 [==============================] - 11s 188us/step - loss: 0.0069 - acc: 0.9979 - val_loss: 0.0916 - val_acc: 0.9791\n",
      "Epoch 30/60\n",
      "60000/60000 [==============================] - 11s 187us/step - loss: 0.0061 - acc: 0.9981 - val_loss: 0.0808 - val_acc: 0.9822\n",
      "Epoch 31/60\n",
      "60000/60000 [==============================] - 11s 187us/step - loss: 0.0069 - acc: 0.9978 - val_loss: 0.0841 - val_acc: 0.9809\n",
      "Epoch 32/60\n",
      "60000/60000 [==============================] - 11s 187us/step - loss: 0.0077 - acc: 0.9974 - val_loss: 0.0786 - val_acc: 0.9822\n",
      "Epoch 33/60\n",
      "60000/60000 [==============================] - 11s 186us/step - loss: 0.0059 - acc: 0.9982 - val_loss: 0.0855 - val_acc: 0.9807\n",
      "Epoch 34/60\n",
      "60000/60000 [==============================] - 11s 185us/step - loss: 0.0059 - acc: 0.9982 - val_loss: 0.0867 - val_acc: 0.9804\n",
      "Epoch 35/60\n",
      "60000/60000 [==============================] - 11s 186us/step - loss: 0.0064 - acc: 0.9979 - val_loss: 0.0878 - val_acc: 0.9822\n",
      "Epoch 36/60\n",
      "60000/60000 [==============================] - 11s 185us/step - loss: 0.0057 - acc: 0.9981 - val_loss: 0.0827 - val_acc: 0.9811\n",
      "Epoch 37/60\n",
      "60000/60000 [==============================] - 11s 183us/step - loss: 0.0062 - acc: 0.9978 - val_loss: 0.0854 - val_acc: 0.9818\n",
      "Epoch 38/60\n",
      "60000/60000 [==============================] - 11s 183us/step - loss: 0.0049 - acc: 0.9984 - val_loss: 0.0819 - val_acc: 0.9822\n",
      "Epoch 39/60\n",
      "60000/60000 [==============================] - 11s 189us/step - loss: 0.0056 - acc: 0.9982 - val_loss: 0.0874 - val_acc: 0.9816\n",
      "Epoch 40/60\n",
      "60000/60000 [==============================] - 11s 188us/step - loss: 0.0061 - acc: 0.9980 - val_loss: 0.0807 - val_acc: 0.9834\n",
      "Epoch 41/60\n",
      "60000/60000 [==============================] - 11s 187us/step - loss: 0.0054 - acc: 0.9983 - val_loss: 0.0953 - val_acc: 0.9806\n",
      "Epoch 42/60\n",
      "60000/60000 [==============================] - 11s 187us/step - loss: 0.0057 - acc: 0.9981 - val_loss: 0.0835 - val_acc: 0.9834\n",
      "Epoch 43/60\n",
      "60000/60000 [==============================] - 11s 188us/step - loss: 0.0051 - acc: 0.9983 - val_loss: 0.0882 - val_acc: 0.9818\n",
      "Epoch 44/60\n",
      "60000/60000 [==============================] - 11s 187us/step - loss: 0.0053 - acc: 0.9982 - val_loss: 0.1100 - val_acc: 0.9801\n",
      "Epoch 45/60\n",
      "60000/60000 [==============================] - 11s 188us/step - loss: 0.0050 - acc: 0.9986 - val_loss: 0.0804 - val_acc: 0.9842\n",
      "Epoch 46/60\n",
      "60000/60000 [==============================] - 11s 185us/step - loss: 0.0034 - acc: 0.9990 - val_loss: 0.0871 - val_acc: 0.9824\n",
      "Epoch 47/60\n",
      "60000/60000 [==============================] - 11s 188us/step - loss: 0.0051 - acc: 0.9983 - val_loss: 0.0976 - val_acc: 0.9829\n",
      "Epoch 48/60\n",
      "60000/60000 [==============================] - 11s 189us/step - loss: 0.0052 - acc: 0.9985 - val_loss: 0.0895 - val_acc: 0.9840\n",
      "Epoch 49/60\n",
      "60000/60000 [==============================] - 11s 188us/step - loss: 0.0047 - acc: 0.9986 - val_loss: 0.0804 - val_acc: 0.9838\n",
      "Epoch 50/60\n",
      "60000/60000 [==============================] - 11s 188us/step - loss: 0.0047 - acc: 0.9986 - val_loss: 0.0800 - val_acc: 0.9829\n",
      "Epoch 51/60\n",
      "60000/60000 [==============================] - 11s 186us/step - loss: 0.0033 - acc: 0.9991 - val_loss: 0.0766 - val_acc: 0.9842\n",
      "Epoch 52/60\n",
      "60000/60000 [==============================] - 11s 187us/step - loss: 0.0042 - acc: 0.9986 - val_loss: 0.0804 - val_acc: 0.9820\n",
      "Epoch 53/60\n",
      "60000/60000 [==============================] - 11s 187us/step - loss: 0.0043 - acc: 0.9985 - val_loss: 0.0886 - val_acc: 0.9820\n",
      "Epoch 54/60\n",
      "60000/60000 [==============================] - 11s 187us/step - loss: 0.0055 - acc: 0.9982 - val_loss: 0.0893 - val_acc: 0.9822\n",
      "Epoch 55/60\n",
      "60000/60000 [==============================] - 11s 185us/step - loss: 0.0036 - acc: 0.9987 - val_loss: 0.0907 - val_acc: 0.9818\n",
      "Epoch 56/60\n",
      "60000/60000 [==============================] - 11s 181us/step - loss: 0.0031 - acc: 0.9992 - val_loss: 0.0855 - val_acc: 0.9828\n",
      "Epoch 57/60\n",
      "60000/60000 [==============================] - 11s 182us/step - loss: 0.0043 - acc: 0.9987 - val_loss: 0.0825 - val_acc: 0.9823\n",
      "Epoch 58/60\n",
      "60000/60000 [==============================] - 11s 182us/step - loss: 0.0029 - acc: 0.9990 - val_loss: 0.0818 - val_acc: 0.9844\n",
      "Epoch 59/60\n",
      "60000/60000 [==============================] - 11s 182us/step - loss: 0.0027 - acc: 0.9993 - val_loss: 0.0832 - val_acc: 0.9834\n",
      "Epoch 60/60\n",
      "60000/60000 [==============================] - 11s 181us/step - loss: 0.0039 - acc: 0.9988 - val_loss: 0.0933 - val_acc: 0.9820\n"
     ]
    }
   ],
   "source": [
    "model_batch.compile(optimizer='adam', loss='categorical_crossentropy', metrics=['accuracy'])\n",
    "\n",
    "history = model_batch.fit(X_train, Y_train, batch_size=batch_size, epochs=nb_epoch, verbose=1, validation_data=(X_test, Y_test))"
   ]
  },
  {
   "cell_type": "code",
   "execution_count": 30,
   "metadata": {
    "colab": {
     "base_uri": "https://localhost:8080/",
     "height": 394
    },
    "colab_type": "code",
    "id": "KDHCQxZz4HN3",
    "outputId": "8136433b-422b-4c9f-c28f-6dc75e1ced58"
   },
   "outputs": [
    {
     "name": "stdout",
     "output_type": "stream",
     "text": [
      "Test score: 0.059668766928038346\n",
      "Test accuracy: 0.9864\n"
     ]
    },
    {
     "data": {
      "image/png": "[encoded data removed]",
      "text/plain": [
       "<Figure size 576x396 with 1 Axes>"
      ]
     },
     "metadata": {
      "tags": []
     },
     "output_type": "display_data"
    }
   ],
   "source": [
    "score = model_drop.evaluate(X_test, Y_test, verbose=0) \n",
    "print('Test score:', score[0]) \n",
    "print('Test accuracy:', score[1])\n",
    "\n",
    "fig,ax = plt.subplots(1,1)\n",
    "ax.set_xlabel('epoch') ; ax.set_ylabel('Categorical Crossentropy Loss')\n",
    "\n",
    "vy = history.history['val_loss']\n",
    "ty = history.history['loss']\n",
    "plt_dynamic(x, vy, ty, ax)"
   ]
  },
  {
   "cell_type": "markdown",
   "metadata": {
    "colab_type": "text",
    "id": "RZ0buD-h4Pzp"
   },
   "source": [
    "## **2. MLP + Dropout + AdamOptimizer**"
   ]
  },
  {
   "cell_type": "code",
   "execution_count": 31,
   "metadata": {
    "colab": {
     "base_uri": "https://localhost:8080/",
     "height": 666
    },
    "colab_type": "code",
    "id": "ZgZNCLyR4XNy",
    "outputId": "15346456-1fe0-41b5-e3d7-20ff9b12b745"
   },
   "outputs": [
    {
     "name": "stdout",
     "output_type": "stream",
     "text": [
      "_________________________________________________________________\n",
      "Layer (type)                 Output Shape              Param #   \n",
      "=================================================================\n",
      "dense_21 (Dense)             (None, 1024)              803840    \n",
      "_________________________________________________________________\n",
      "batch_normalization_16 (Batc (None, 1024)              4096      \n",
      "_________________________________________________________________\n",
      "dropout_6 (Dropout)          (None, 1024)              0         \n",
      "_________________________________________________________________\n",
      "dense_22 (Dense)             (None, 512)               524800    \n",
      "_________________________________________________________________\n",
      "batch_normalization_17 (Batc (None, 512)               2048      \n",
      "_________________________________________________________________\n",
      "dropout_7 (Dropout)          (None, 512)               0         \n",
      "_________________________________________________________________\n",
      "dense_23 (Dense)             (None, 256)               131328    \n",
      "_________________________________________________________________\n",
      "batch_normalization_18 (Batc (None, 256)               1024      \n",
      "_________________________________________________________________\n",
      "dropout_8 (Dropout)          (None, 256)               0         \n",
      "_________________________________________________________________\n",
      "dense_24 (Dense)             (None, 128)               32896     \n",
      "_________________________________________________________________\n",
      "batch_normalization_19 (Batc (None, 128)               512       \n",
      "_________________________________________________________________\n",
      "dropout_9 (Dropout)          (None, 128)               0         \n",
      "_________________________________________________________________\n",
      "dense_25 (Dense)             (None, 64)                8256      \n",
      "_________________________________________________________________\n",
      "batch_normalization_20 (Batc (None, 64)                256       \n",
      "_________________________________________________________________\n",
      "dropout_10 (Dropout)         (None, 64)                0         \n",
      "_________________________________________________________________\n",
      "dense_26 (Dense)             (None, 10)                650       \n",
      "=================================================================\n",
      "Total params: 1,509,706\n",
      "Trainable params: 1,505,738\n",
      "Non-trainable params: 3,968\n",
      "_________________________________________________________________\n"
     ]
    }
   ],
   "source": [
    "model_drop = Sequential()\n",
    "\n",
    "model_drop.add(Dense(1024, activation='relu', input_shape=(input_dim,), kernel_initializer=RandomNormal(mean=0.0, stddev=0.039, seed=None)))\n",
    "model_drop.add(BatchNormalization())\n",
    "model_drop.add(Dropout(0.5))\n",
    "\n",
    "model_drop.add(Dense(512, activation='relu', kernel_initializer=RandomNormal(mean=0.0, stddev=0.55, seed=None)) )\n",
    "model_drop.add(BatchNormalization())\n",
    "model_drop.add(Dropout(0.5))\n",
    "\n",
    "model_drop.add(Dense(256, activation='relu', kernel_initializer=RandomNormal(mean=0.0, stddev=0.55, seed=None)) )\n",
    "model_drop.add(BatchNormalization())\n",
    "model_drop.add(Dropout(0.5))\n",
    "\n",
    "model_drop.add(Dense(128, activation='relu', kernel_initializer=RandomNormal(mean=0.0, stddev=0.55, seed=None)) )\n",
    "model_drop.add(BatchNormalization())\n",
    "model_drop.add(Dropout(0.5))\n",
    "\n",
    "model_drop.add(Dense(64, activation='relu', kernel_initializer=RandomNormal(mean=0.0, stddev=0.55, seed=None)) )\n",
    "model_drop.add(BatchNormalization())\n",
    "model_drop.add(Dropout(0.5))\n",
    "\n",
    "model_drop.add(Dense(output_dim, activation='softmax'))\n",
    "\n",
    "\n",
    "model_drop.summary()"
   ]
  },
  {
   "cell_type": "code",
   "execution_count": 36,
   "metadata": {
    "colab": {
     "base_uri": "https://localhost:8080/",
     "height": 2033
    },
    "colab_type": "code",
    "id": "x11Q-ld54jxo",
    "outputId": "7b359c74-10ca-4ce3-c66f-3399cd3ed782",
    "scrolled": false
   },
   "outputs": [
    {
     "name": "stdout",
     "output_type": "stream",
     "text": [
      "Train on 60000 samples, validate on 10000 samples\n",
      "Epoch 1/60\n",
      "60000/60000 [==============================] - 14s 234us/step - loss: 1.6017 - acc: 0.4863 - val_loss: 0.3765 - val_acc: 0.9044\n",
      "Epoch 2/60\n",
      "60000/60000 [==============================] - 11s 189us/step - loss: 0.6338 - acc: 0.8033 - val_loss: 0.2279 - val_acc: 0.9319\n",
      "Epoch 3/60\n",
      "60000/60000 [==============================] - 11s 189us/step - loss: 0.4424 - acc: 0.8710 - val_loss: 0.1846 - val_acc: 0.9499\n",
      "Epoch 4/60\n",
      "60000/60000 [==============================] - 11s 189us/step - loss: 0.3453 - acc: 0.9036 - val_loss: 0.1547 - val_acc: 0.9566\n",
      "Epoch 5/60\n",
      "60000/60000 [==============================] - 11s 189us/step - loss: 0.2850 - acc: 0.9216 - val_loss: 0.1354 - val_acc: 0.9623\n",
      "Epoch 6/60\n",
      "60000/60000 [==============================] - 11s 188us/step - loss: 0.2492 - acc: 0.9336 - val_loss: 0.1176 - val_acc: 0.9680\n",
      "Epoch 7/60\n",
      "60000/60000 [==============================] - 11s 189us/step - loss: 0.2317 - acc: 0.9369 - val_loss: 0.1143 - val_acc: 0.9702\n",
      "Epoch 8/60\n",
      "60000/60000 [==============================] - 11s 189us/step - loss: 0.2115 - acc: 0.9440 - val_loss: 0.1074 - val_acc: 0.9720\n",
      "Epoch 9/60\n",
      "60000/60000 [==============================] - 11s 189us/step - loss: 0.1979 - acc: 0.9475 - val_loss: 0.0971 - val_acc: 0.9738\n",
      "Epoch 10/60\n",
      "60000/60000 [==============================] - 11s 188us/step - loss: 0.1833 - acc: 0.9519 - val_loss: 0.0942 - val_acc: 0.9761\n",
      "Epoch 11/60\n",
      "60000/60000 [==============================] - 11s 188us/step - loss: 0.1692 - acc: 0.9553 - val_loss: 0.0955 - val_acc: 0.9752\n",
      "Epoch 12/60\n",
      "60000/60000 [==============================] - 11s 188us/step - loss: 0.1573 - acc: 0.9579 - val_loss: 0.0907 - val_acc: 0.9769\n",
      "Epoch 13/60\n",
      "60000/60000 [==============================] - 11s 188us/step - loss: 0.1501 - acc: 0.9609 - val_loss: 0.0879 - val_acc: 0.9780\n",
      "Epoch 14/60\n",
      "60000/60000 [==============================] - 11s 189us/step - loss: 0.1453 - acc: 0.9617 - val_loss: 0.0870 - val_acc: 0.9779\n",
      "Epoch 15/60\n",
      "60000/60000 [==============================] - 11s 188us/step - loss: 0.1363 - acc: 0.9649 - val_loss: 0.0829 - val_acc: 0.9789\n",
      "Epoch 16/60\n",
      "60000/60000 [==============================] - 11s 188us/step - loss: 0.1321 - acc: 0.9650 - val_loss: 0.0776 - val_acc: 0.9805\n",
      "Epoch 17/60\n",
      "60000/60000 [==============================] - 11s 188us/step - loss: 0.1267 - acc: 0.9672 - val_loss: 0.0788 - val_acc: 0.9798\n",
      "Epoch 18/60\n",
      "60000/60000 [==============================] - 11s 188us/step - loss: 0.1187 - acc: 0.9692 - val_loss: 0.0792 - val_acc: 0.9812\n",
      "Epoch 19/60\n",
      "60000/60000 [==============================] - 11s 189us/step - loss: 0.1161 - acc: 0.9697 - val_loss: 0.0741 - val_acc: 0.9813\n",
      "Epoch 20/60\n",
      "60000/60000 [==============================] - 11s 188us/step - loss: 0.1135 - acc: 0.9710 - val_loss: 0.0792 - val_acc: 0.9810\n",
      "Epoch 21/60\n",
      "60000/60000 [==============================] - 11s 190us/step - loss: 0.1111 - acc: 0.9712 - val_loss: 0.0704 - val_acc: 0.9823\n",
      "Epoch 22/60\n",
      "60000/60000 [==============================] - 11s 189us/step - loss: 0.1038 - acc: 0.9724 - val_loss: 0.0742 - val_acc: 0.9823\n",
      "Epoch 23/60\n",
      "60000/60000 [==============================] - 11s 189us/step - loss: 0.1015 - acc: 0.9733 - val_loss: 0.0715 - val_acc: 0.9834\n",
      "Epoch 24/60\n",
      "60000/60000 [==============================] - 11s 189us/step - loss: 0.0974 - acc: 0.9740 - val_loss: 0.0733 - val_acc: 0.9820\n",
      "Epoch 25/60\n",
      "60000/60000 [==============================] - 11s 189us/step - loss: 0.0952 - acc: 0.9753 - val_loss: 0.0716 - val_acc: 0.9819\n",
      "Epoch 26/60\n",
      "60000/60000 [==============================] - 11s 189us/step - loss: 0.0927 - acc: 0.9758 - val_loss: 0.0696 - val_acc: 0.9824\n",
      "Epoch 27/60\n",
      "60000/60000 [==============================] - 11s 189us/step - loss: 0.0928 - acc: 0.9758 - val_loss: 0.0679 - val_acc: 0.9833\n",
      "Epoch 28/60\n",
      "60000/60000 [==============================] - 11s 189us/step - loss: 0.0894 - acc: 0.9764 - val_loss: 0.0681 - val_acc: 0.9833\n",
      "Epoch 29/60\n",
      "60000/60000 [==============================] - 11s 188us/step - loss: 0.0831 - acc: 0.9785 - val_loss: 0.0690 - val_acc: 0.9838\n",
      "Epoch 30/60\n",
      "60000/60000 [==============================] - 11s 189us/step - loss: 0.0851 - acc: 0.9774 - val_loss: 0.0662 - val_acc: 0.9846\n",
      "Epoch 31/60\n",
      "60000/60000 [==============================] - 11s 189us/step - loss: 0.0792 - acc: 0.9796 - val_loss: 0.0721 - val_acc: 0.9844\n",
      "Epoch 32/60\n",
      "60000/60000 [==============================] - 11s 188us/step - loss: 0.0815 - acc: 0.9785 - val_loss: 0.0703 - val_acc: 0.9833\n",
      "Epoch 33/60\n",
      "60000/60000 [==============================] - 11s 190us/step - loss: 0.0770 - acc: 0.9796 - val_loss: 0.0651 - val_acc: 0.9852\n",
      "Epoch 34/60\n",
      "60000/60000 [==============================] - 11s 189us/step - loss: 0.0740 - acc: 0.9805 - val_loss: 0.0663 - val_acc: 0.9853\n",
      "Epoch 35/60\n",
      "60000/60000 [==============================] - 11s 189us/step - loss: 0.0735 - acc: 0.9808 - val_loss: 0.0672 - val_acc: 0.9862\n",
      "Epoch 36/60\n",
      "60000/60000 [==============================] - 11s 188us/step - loss: 0.0721 - acc: 0.9809 - val_loss: 0.0621 - val_acc: 0.9856\n",
      "Epoch 37/60\n",
      "60000/60000 [==============================] - 11s 189us/step - loss: 0.0689 - acc: 0.9821 - val_loss: 0.0624 - val_acc: 0.9866\n",
      "Epoch 38/60\n",
      "60000/60000 [==============================] - 11s 189us/step - loss: 0.0700 - acc: 0.9812 - val_loss: 0.0676 - val_acc: 0.9854\n",
      "Epoch 39/60\n",
      "60000/60000 [==============================] - 11s 189us/step - loss: 0.0657 - acc: 0.9821 - val_loss: 0.0699 - val_acc: 0.9846\n",
      "Epoch 40/60\n",
      "60000/60000 [==============================] - 11s 188us/step - loss: 0.0629 - acc: 0.9830 - val_loss: 0.0662 - val_acc: 0.9851\n",
      "Epoch 41/60\n",
      "60000/60000 [==============================] - 11s 188us/step - loss: 0.0608 - acc: 0.9833 - val_loss: 0.0663 - val_acc: 0.9857\n",
      "Epoch 42/60\n",
      "60000/60000 [==============================] - 11s 191us/step - loss: 0.0635 - acc: 0.9835 - val_loss: 0.0674 - val_acc: 0.9846\n",
      "Epoch 43/60\n",
      "60000/60000 [==============================] - 11s 189us/step - loss: 0.0644 - acc: 0.9829 - val_loss: 0.0654 - val_acc: 0.9847\n",
      "Epoch 44/60\n",
      "60000/60000 [==============================] - 11s 190us/step - loss: 0.0595 - acc: 0.9846 - val_loss: 0.0641 - val_acc: 0.9857\n",
      "Epoch 45/60\n",
      "60000/60000 [==============================] - 11s 189us/step - loss: 0.0556 - acc: 0.9853 - val_loss: 0.0690 - val_acc: 0.9851\n",
      "Epoch 46/60\n",
      "60000/60000 [==============================] - 11s 190us/step - loss: 0.0612 - acc: 0.9836 - val_loss: 0.0660 - val_acc: 0.9854\n",
      "Epoch 47/60\n",
      "60000/60000 [==============================] - 11s 190us/step - loss: 0.0584 - acc: 0.9844 - val_loss: 0.0694 - val_acc: 0.9850\n",
      "Epoch 48/60\n",
      "60000/60000 [==============================] - 11s 190us/step - loss: 0.0562 - acc: 0.9856 - val_loss: 0.0612 - val_acc: 0.9863\n",
      "Epoch 49/60\n",
      "60000/60000 [==============================] - 11s 189us/step - loss: 0.0595 - acc: 0.9844 - val_loss: 0.0614 - val_acc: 0.9854\n",
      "Epoch 50/60\n",
      "60000/60000 [==============================] - 11s 190us/step - loss: 0.0558 - acc: 0.9850 - val_loss: 0.0630 - val_acc: 0.9859\n",
      "Epoch 51/60\n",
      "60000/60000 [==============================] - 11s 191us/step - loss: 0.0546 - acc: 0.9855 - val_loss: 0.0626 - val_acc: 0.9865\n",
      "Epoch 52/60\n",
      "60000/60000 [==============================] - 11s 190us/step - loss: 0.0528 - acc: 0.9862 - val_loss: 0.0619 - val_acc: 0.9858\n",
      "Epoch 53/60\n",
      "60000/60000 [==============================] - 11s 190us/step - loss: 0.0521 - acc: 0.9862 - val_loss: 0.0667 - val_acc: 0.9850\n",
      "Epoch 54/60\n",
      "60000/60000 [==============================] - 11s 190us/step - loss: 0.0531 - acc: 0.9856 - val_loss: 0.0654 - val_acc: 0.9860\n",
      "Epoch 55/60\n",
      "60000/60000 [==============================] - 11s 191us/step - loss: 0.0469 - acc: 0.9878 - val_loss: 0.0643 - val_acc: 0.9852\n",
      "Epoch 56/60\n",
      "60000/60000 [==============================] - 11s 189us/step - loss: 0.0489 - acc: 0.9871 - val_loss: 0.0689 - val_acc: 0.9851\n",
      "Epoch 57/60\n",
      "60000/60000 [==============================] - 11s 190us/step - loss: 0.0456 - acc: 0.9881 - val_loss: 0.0673 - val_acc: 0.9857\n",
      "Epoch 58/60\n",
      "60000/60000 [==============================] - 11s 189us/step - loss: 0.0496 - acc: 0.9867 - val_loss: 0.0657 - val_acc: 0.9864\n",
      "Epoch 59/60\n",
      "60000/60000 [==============================] - 11s 190us/step - loss: 0.0498 - acc: 0.9871 - val_loss: 0.0620 - val_acc: 0.9862\n",
      "Epoch 60/60\n",
      "60000/60000 [==============================] - 11s 190us/step - loss: 0.0483 - acc: 0.9874 - val_loss: 0.0626 - val_acc: 0.9873\n"
     ]
    }
   ],
   "source": [
    "model_drop.compile(optimizer='adam', loss='categorical_crossentropy', metrics=['accuracy'])\n",
    "\n",
    "history = model_drop.fit(X_train, Y_train, batch_size=batch_size, epochs=nb_epoch, verbose=1, validation_data=(X_test, Y_test))"
   ]
  },
  {
   "cell_type": "code",
   "execution_count": 37,
   "metadata": {
    "colab": {
     "base_uri": "https://localhost:8080/",
     "height": 394
    },
    "colab_type": "code",
    "id": "lIGeYPlU4qtz",
    "outputId": "274157f9-da65-45c4-849f-24d86fcdda25"
   },
   "outputs": [
    {
     "name": "stdout",
     "output_type": "stream",
     "text": [
      "Test score: 0.06261478376485174\n",
      "Test accuracy: 0.9873\n"
     ]
    },
    {
     "data": {
      "image/png": "[encoded data removed]",
      "text/plain": [
       "<Figure size 576x396 with 1 Axes>"
      ]
     },
     "metadata": {
      "tags": []
     },
     "output_type": "display_data"
    }
   ],
   "source": [
    "score = model_drop.evaluate(X_test, Y_test, verbose=0) \n",
    "print('Test score:', score[0]) \n",
    "print('Test accuracy:', score[1])\n",
    "\n",
    "fig,ax = plt.subplots(1,1)\n",
    "ax.set_xlabel('epoch') ; ax.set_ylabel('Categorical Crossentropy Loss')\n",
    "\n",
    "vy = h istory.history['val_loss']\n",
    "ty = history.history['loss']\n",
    "plt_dynamic(x, vy, ty, ax)"
   ]
  },
  {
   "cell_type": "markdown",
   "metadata": {
    "colab_type": "text",
    "id": "6ge7xUvEQMEY"
   },
   "source": [
    "# Conclution :"
   ]
  },
  {
   "cell_type": "code",
   "execution_count": 17,
   "metadata": {
    "colab": {},
    "colab_type": "code",
    "id": "KXs6iKn9M2lW"
   },
   "outputs": [],
   "source": [
    "from prettytable import PrettyTable"
   ]
  },
  {
   "cell_type": "code",
   "execution_count": 24,
   "metadata": {
    "colab": {
     "base_uri": "https://localhost:8080/",
     "height": 183
    },
    "colab_type": "code",
    "id": "hQgZsVrJNE6m",
    "outputId": "74329223-262f-4e1d-a39f-a7c25e68e2da"
   },
   "outputs": [
    {
     "name": "stdout",
     "output_type": "stream",
     "text": [
      "+----------------------------------+-------------------------+------------+---------------+--------+\n",
      "|           Architecture           |          Model          | Test_Score | Test_Accuracy | Epochs |\n",
      "+----------------------------------+-------------------------+------------+---------------+--------+\n",
      "|     1 : 784-512-256 Sigmoid      |   MLP + BN + Adam Opt   |   0.091    |     0.983     |   >60  |\n",
      "|     1 : 784-512-256 Sigmoid      | MLP + AdamOpt + Dropout |   0.056    |     0.985     |   24   |\n",
      "|   2 : 784-1024-512-256 Sigmoid   |   MLP + BN + Adam Opt   |   0.056    |     0.985     |   >60  |\n",
      "|   2 : 784-1024-512-256 Sigmoid   |     BN with Dropout     |   0.059    |     0.986     |   23   |\n",
      "| 3 : 784-1024-512-256-128 Sigmoid |   MLP + BN + Adam Opt   |   0.059    |     0.986     |   >60  |\n",
      "| 3 : 784-1024-512-256-128 Sigmoid | MLP + AdamOpt + Dropout |   0.062    |     0.987     |   31   |\n",
      "+----------------------------------+-------------------------+------------+---------------+--------+\n"
     ]
    }
   ],
   "source": [
    "x = PrettyTable()\n",
    "\n",
    "x.field_names = [\"Architecture\",\"Model\",\"Test_Score\", \"Test_Accuracy\", \"Epochs\"]\n",
    "\n",
    "x.add_row([\"1 : 784-512-256 Sigmoid\",\"MLP + BN + Adam Opt\",\"0.091\",\"0.983\",\" >60\"])\n",
    "x.add_row([\"1 : 784-512-256 Sigmoid\",\"MLP + AdamOpt + Dropout\",\"0.056\",\"0.985\",\"24\"])\n",
    "x.add_row([\"2 : 784-1024-512-256 Sigmoid\",\"MLP + BN + Adam Opt\",\"0.056\",\"0.985\",\" >60\"])\n",
    "x.add_row([\"2 : 784-1024-512-256 Sigmoid\",\"BN with Dropout\",\"0.059\",\"0.986\",\"23\"])\n",
    "x.add_row([\"3 : 784-1024-512-256-128 Sigmoid\",\"MLP + BN + Adam Opt\",\"0.059\",\"0.986\",\" >60\"])\n",
    "x.add_row([\"3 : 784-1024-512-256-128 Sigmoid\",\"MLP + AdamOpt + Dropout\",\"0.062\",\"0.987\",\"31\"])\n",
    "\n",
    "print(x)"
   ]
  },
  {
   "cell_type": "code",
   "execution_count": null,
   "metadata": {},
   "outputs": [],
   "source": []
  }
 ],
 "metadata": {
  "accelerator": "GPU",
  "colab": {
   "collapsed_sections": [],
   "name": "Keras-MNIST assignment",
   "provenance": [],
   "version": "0.3.2"
  },
  "kernelspec": {
   "display_name": "Python 3",
   "language": "python",
   "name": "python3"
  },
  "language_info": {
   "codemirror_mode": {
    "name": "ipython",
    "version": 3
   },
   "file_extension": ".py",
   "mimetype": "text/x-python",
   "name": "python",
   "nbconvert_exporter": "python",
   "pygments_lexer": "ipython3",
   "version": "3.6.5"
  }
 },
 "nbformat": 4,
 "nbformat_minor": 1
}
