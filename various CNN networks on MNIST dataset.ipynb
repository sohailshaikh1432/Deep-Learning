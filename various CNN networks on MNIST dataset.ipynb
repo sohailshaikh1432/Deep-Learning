{
 "cells": [
  {
   "cell_type": "markdown",
   "metadata": {},
   "source": [
    "# Assignment No 13 : Various CNN Networks on MNIST Dataset"
   ]
  },
  {
   "cell_type": "markdown",
   "metadata": {},
   "source": [
    "### Resources :"
   ]
  },
  {
   "cell_type": "markdown",
   "metadata": {},
   "source": [
    "- Thanks AAIC Team\n",
    "- Google Search ,Kaggle,Sklearn\n",
    "- KrushitReddy\n",
    "- https://www.appliedaicourse.com/lecture/11/applied-machine-learning-online-course/3428/assignment-try-various-cnn-networks-on-mnist-dataset/8/module-8-neural-networks-computer-vision-and-deep-learning\n",
    "- https://github.com/krushithreddy\n",
    "- https://scikit-learn.org/stable/index.html\n",
    "- https://www.kaggle.com/"
   ]
  },
  {
   "cell_type": "code",
   "execution_count": 1,
   "metadata": {
    "colab": {
     "base_uri": "https://localhost:8080/",
     "height": 33
    },
    "colab_type": "code",
    "id": "11s0Q9kpkhOi",
    "outputId": "07a294fd-c30f-42e5-9dd0-064ece3efdaf"
   },
   "outputs": [
    {
     "name": "stderr",
     "output_type": "stream",
     "text": [
      "Using TensorFlow backend.\n"
     ]
    }
   ],
   "source": [
    "from __future__ import print_function\n",
    "import keras\n",
    "from keras.datasets import mnist\n",
    "from keras.models import Sequential\n",
    "from keras.layers import Dense, Dropout, Flatten\n",
    "from keras.layers import Conv2D, MaxPooling2D\n",
    "from keras import backend as K\n"
   ]
  },
  {
   "cell_type": "code",
   "execution_count": 2,
   "metadata": {
    "colab": {
     "base_uri": "https://localhost:8080/",
     "height": 533
    },
    "colab_type": "code",
    "id": "guvKG97_kAlt",
    "outputId": "b7101828-8d4e-48c5-c763-247d93c2abae"
   },
   "outputs": [
    {
     "name": "stdout",
     "output_type": "stream",
     "text": [
      "[name: \"/device:CPU:0\"\n",
      "device_type: \"CPU\"\n",
      "memory_limit: 268435456\n",
      "locality {\n",
      "}\n",
      "incarnation: 2569300072973465564\n",
      ", name: \"/device:XLA_CPU:0\"\n",
      "device_type: \"XLA_CPU\"\n",
      "memory_limit: 17179869184\n",
      "locality {\n",
      "}\n",
      "incarnation: 3073183043060002416\n",
      "physical_device_desc: \"device: XLA_CPU device\"\n",
      ", name: \"/device:XLA_GPU:0\"\n",
      "device_type: \"XLA_GPU\"\n",
      "memory_limit: 17179869184\n",
      "locality {\n",
      "}\n",
      "incarnation: 4280592809299709593\n",
      "physical_device_desc: \"device: XLA_GPU device\"\n",
      ", name: \"/device:GPU:0\"\n",
      "device_type: \"GPU\"\n",
      "memory_limit: 11276946637\n",
      "locality {\n",
      "  bus_id: 1\n",
      "  links {\n",
      "  }\n",
      "}\n",
      "incarnation: 747777203186092895\n",
      "physical_device_desc: \"device: 0, name: Tesla K80, pci bus id: 0000:00:04.0, compute capability: 3.7\"\n",
      "]\n"
     ]
    }
   ],
   "source": [
    "import tensorflow as tf\n",
    "from tensorflow.python.client import device_lib\n",
    "print(device_lib.list_local_devices())"
   ]
  },
  {
   "cell_type": "code",
   "execution_count": 3,
   "metadata": {
    "colab": {
     "base_uri": "https://localhost:8080/",
     "height": 50
    },
    "colab_type": "code",
    "id": "L5XpQ0KcvKh6",
    "outputId": "aae3d6e0-9055-41d1-d1af-e3f4f6cd9203"
   },
   "outputs": [
    {
     "name": "stdout",
     "output_type": "stream",
     "text": [
      "Downloading data from https://s3.amazonaws.com/img-datasets/mnist.npz\n",
      "11493376/11490434 [==============================] - 2s 0us/step\n"
     ]
    }
   ],
   "source": [
    "# input image dimensions\n",
    "img_rows, img_cols = 28, 28\n",
    "\n",
    "# the data, split between train and test sets\n",
    "(x_train, y_train), (x_test, y_test) = mnist.load_data()"
   ]
  },
  {
   "cell_type": "code",
   "execution_count": 0,
   "metadata": {
    "colab": {},
    "colab_type": "code",
    "id": "KoFrpMTqlnUd"
   },
   "outputs": [],
   "source": [
    "batch_size = 50\n",
    "num_classes = 10\n",
    "epochs = 30"
   ]
  },
  {
   "cell_type": "code",
   "execution_count": 0,
   "metadata": {
    "colab": {},
    "colab_type": "code",
    "id": "RkyfIx9kvPFF"
   },
   "outputs": [],
   "source": [
    "if K.image_data_format() == 'channels_first':\n",
    "    x_train = x_train.reshape(x_train.shape[0], 1, img_rows, img_cols)\n",
    "    x_test = x_test.reshape(x_test.shape[0], 1, img_rows, img_cols)\n",
    "    input_shape = (1, img_rows, img_cols)\n",
    "else:\n",
    "    x_train = x_train.reshape(x_train.shape[0], img_rows, img_cols, 1)\n",
    "    x_test = x_test.reshape(x_test.shape[0], img_rows, img_cols, 1)\n",
    "    input_shape = (img_rows, img_cols, 1)"
   ]
  },
  {
   "cell_type": "code",
   "execution_count": 0,
   "metadata": {
    "colab": {},
    "colab_type": "code",
    "id": "G2T-OZCjvXlo"
   },
   "outputs": [],
   "source": [
    "x_train = x_train.astype('float32')\n",
    "x_test = x_test.astype('float32')\n",
    "x_train /= 255\n",
    "x_test /= 255"
   ]
  },
  {
   "cell_type": "code",
   "execution_count": 7,
   "metadata": {
    "colab": {
     "base_uri": "https://localhost:8080/",
     "height": 66
    },
    "colab_type": "code",
    "id": "OF9NIMQavcE9",
    "outputId": "57206fda-5335-468b-d49c-521c665027bb"
   },
   "outputs": [
    {
     "name": "stdout",
     "output_type": "stream",
     "text": [
      "x_train shape: (60000, 28, 28, 1)\n",
      "60000 train samples\n",
      "10000 test samples\n"
     ]
    }
   ],
   "source": [
    "print('x_train shape:', x_train.shape)\n",
    "print(x_train.shape[0], 'train samples')\n",
    "print(x_test.shape[0], 'test samples')"
   ]
  },
  {
   "cell_type": "code",
   "execution_count": 0,
   "metadata": {
    "colab": {},
    "colab_type": "code",
    "id": "ow0JY89yvf4P"
   },
   "outputs": [],
   "source": [
    "y_train = keras.utils.to_categorical(y_train)\n",
    "y_test = keras.utils.to_categorical(y_test)"
   ]
  },
  {
   "cell_type": "code",
   "execution_count": 0,
   "metadata": {
    "colab": {},
    "colab_type": "code",
    "id": "MmkIgU8zm-i5"
   },
   "outputs": [],
   "source": [
    "def plt_dynamic(x, vy, ty, ax, colors=['b']):\n",
    "  ax.plot(x,vy,'b',label=\"Validation Loss\")\n",
    "  ax.plot(x,ty,'r',label=\"Train Loss\")\n",
    "  plt.legend()\n",
    "  plt.grid()\n",
    "  fig.canvas.draw()\n",
    " "
   ]
  },
  {
   "cell_type": "markdown",
   "metadata": {
    "colab_type": "text",
    "id": "AnJAD3Oiz8Wn"
   },
   "source": [
    "#**MODEL-1 :  3-LAYER ARCHITECTURE**"
   ]
  },
  {
   "cell_type": "code",
   "execution_count": 12,
   "metadata": {
    "colab": {
     "base_uri": "https://localhost:8080/",
     "height": 400
    },
    "colab_type": "code",
    "id": "zduRMJmu0hoT",
    "outputId": "fb082c81-e12c-4f38-b06c-fd4c99e7f0ad"
   },
   "outputs": [
    {
     "name": "stdout",
     "output_type": "stream",
     "text": [
      "_________________________________________________________________\n",
      "Layer (type)                 Output Shape              Param #   \n",
      "=================================================================\n",
      "conv2d_4 (Conv2D)            (None, 26, 26, 32)        320       \n",
      "_________________________________________________________________\n",
      "conv2d_5 (Conv2D)            (None, 24, 24, 64)        18496     \n",
      "_________________________________________________________________\n",
      "max_pooling2d_2 (MaxPooling2 (None, 12, 12, 64)        0         \n",
      "_________________________________________________________________\n",
      "conv2d_6 (Conv2D)            (None, 10, 10, 128)       73856     \n",
      "_________________________________________________________________\n",
      "flatten_2 (Flatten)          (None, 12800)             0         \n",
      "_________________________________________________________________\n",
      "dense_3 (Dense)              (None, 256)               3277056   \n",
      "_________________________________________________________________\n",
      "dropout_2 (Dropout)          (None, 256)               0         \n",
      "_________________________________________________________________\n",
      "dense_4 (Dense)              (None, 10)                2570      \n",
      "=================================================================\n",
      "Total params: 3,372,298\n",
      "Trainable params: 3,372,298\n",
      "Non-trainable params: 0\n",
      "_________________________________________________________________\n"
     ]
    }
   ],
   "source": [
    "model = Sequential()\n",
    "model.add(Conv2D(32, kernel_size=(3, 3),activation='relu',input_shape=input_shape))\n",
    "model.add(Conv2D(64, (3, 3), activation='relu'))\n",
    "model.add(MaxPooling2D(pool_size=(2, 2)))\n",
    "#model.add(Dropout(0.25))\n",
    "model.add(Conv2D(128, (3, 3), activation='relu'))\n",
    "model.add(Flatten())\n",
    "model.add(Dense(256, activation='relu'))\n",
    "model.add(Dropout(0.5))\n",
    "model.add(Dense(num_classes, activation='softmax'))\n",
    "model.summary()"
   ]
  },
  {
   "cell_type": "code",
   "execution_count": 13,
   "metadata": {
    "colab": {
     "base_uri": "https://localhost:8080/",
     "height": 1103
    },
    "colab_type": "code",
    "id": "iuaX8d6O0z4_",
    "outputId": "a01f9a42-7bef-48ce-b01e-a40ed86f2ad0"
   },
   "outputs": [
    {
     "name": "stdout",
     "output_type": "stream",
     "text": [
      "WARNING:tensorflow:From /usr/local/lib/python3.6/dist-packages/tensorflow/python/ops/math_ops.py:3066: to_int32 (from tensorflow.python.ops.math_ops) is deprecated and will be removed in a future version.\n",
      "Instructions for updating:\n",
      "Use tf.cast instead.\n",
      "Train on 60000 samples, validate on 10000 samples\n",
      "Epoch 1/30\n",
      "60000/60000 [==============================] - 23s 385us/step - loss: 0.1326 - acc: 0.9597 - val_loss: 0.0385 - val_acc: 0.9874\n",
      "Epoch 2/30\n",
      "60000/60000 [==============================] - 20s 330us/step - loss: 0.0491 - acc: 0.9857 - val_loss: 0.0279 - val_acc: 0.9907\n",
      "Epoch 3/30\n",
      "60000/60000 [==============================] - 20s 328us/step - loss: 0.0337 - acc: 0.9896 - val_loss: 0.0277 - val_acc: 0.9905\n",
      "Epoch 4/30\n",
      "60000/60000 [==============================] - 20s 330us/step - loss: 0.0267 - acc: 0.9919 - val_loss: 0.0249 - val_acc: 0.9926\n",
      "Epoch 5/30\n",
      "60000/60000 [==============================] - 20s 330us/step - loss: 0.0204 - acc: 0.9937 - val_loss: 0.0199 - val_acc: 0.9942\n",
      "Epoch 6/30\n",
      "60000/60000 [==============================] - 20s 330us/step - loss: 0.0167 - acc: 0.9947 - val_loss: 0.0241 - val_acc: 0.9928\n",
      "Epoch 7/30\n",
      "60000/60000 [==============================] - 20s 330us/step - loss: 0.0167 - acc: 0.9948 - val_loss: 0.0229 - val_acc: 0.9926\n",
      "Epoch 8/30\n",
      "60000/60000 [==============================] - 20s 330us/step - loss: 0.0123 - acc: 0.9961 - val_loss: 0.0289 - val_acc: 0.9920\n",
      "Epoch 9/30\n",
      "60000/60000 [==============================] - 20s 329us/step - loss: 0.0115 - acc: 0.9961 - val_loss: 0.0295 - val_acc: 0.9930\n",
      "Epoch 10/30\n",
      "60000/60000 [==============================] - 20s 329us/step - loss: 0.0107 - acc: 0.9968 - val_loss: 0.0251 - val_acc: 0.9938\n",
      "Epoch 11/30\n",
      "60000/60000 [==============================] - 20s 329us/step - loss: 0.0089 - acc: 0.9973 - val_loss: 0.0262 - val_acc: 0.9940\n",
      "Epoch 12/30\n",
      "60000/60000 [==============================] - 20s 329us/step - loss: 0.0082 - acc: 0.9974 - val_loss: 0.0296 - val_acc: 0.9930\n",
      "Epoch 13/30\n",
      "60000/60000 [==============================] - 20s 329us/step - loss: 0.0081 - acc: 0.9974 - val_loss: 0.0402 - val_acc: 0.9913\n",
      "Epoch 14/30\n",
      "60000/60000 [==============================] - 20s 330us/step - loss: 0.0077 - acc: 0.9976 - val_loss: 0.0334 - val_acc: 0.9936\n",
      "Epoch 15/30\n",
      "60000/60000 [==============================] - 20s 329us/step - loss: 0.0060 - acc: 0.9981 - val_loss: 0.0350 - val_acc: 0.9919\n",
      "Epoch 16/30\n",
      "60000/60000 [==============================] - 20s 329us/step - loss: 0.0063 - acc: 0.9980 - val_loss: 0.0339 - val_acc: 0.9931\n",
      "Epoch 17/30\n",
      "60000/60000 [==============================] - 20s 330us/step - loss: 0.0057 - acc: 0.9983 - val_loss: 0.0367 - val_acc: 0.9935\n",
      "Epoch 18/30\n",
      "60000/60000 [==============================] - 20s 330us/step - loss: 0.0057 - acc: 0.9984 - val_loss: 0.0427 - val_acc: 0.9918\n",
      "Epoch 19/30\n",
      "60000/60000 [==============================] - 20s 328us/step - loss: 0.0057 - acc: 0.9984 - val_loss: 0.0402 - val_acc: 0.9930\n",
      "Epoch 20/30\n",
      "60000/60000 [==============================] - 20s 330us/step - loss: 0.0058 - acc: 0.9984 - val_loss: 0.0342 - val_acc: 0.9933\n",
      "Epoch 21/30\n",
      "60000/60000 [==============================] - 20s 330us/step - loss: 0.0047 - acc: 0.9987 - val_loss: 0.0319 - val_acc: 0.9936\n",
      "Epoch 22/30\n",
      "60000/60000 [==============================] - 20s 329us/step - loss: 0.0050 - acc: 0.9987 - val_loss: 0.0305 - val_acc: 0.9942\n",
      "Epoch 23/30\n",
      "60000/60000 [==============================] - 20s 330us/step - loss: 0.0041 - acc: 0.9989 - val_loss: 0.0399 - val_acc: 0.9931\n",
      "Epoch 24/30\n",
      "60000/60000 [==============================] - 20s 328us/step - loss: 0.0061 - acc: 0.9984 - val_loss: 0.0440 - val_acc: 0.9932\n",
      "Epoch 25/30\n",
      "60000/60000 [==============================] - 20s 327us/step - loss: 0.0047 - acc: 0.9988 - val_loss: 0.0347 - val_acc: 0.9933\n",
      "Epoch 26/30\n",
      "60000/60000 [==============================] - 20s 329us/step - loss: 0.0046 - acc: 0.9986 - val_loss: 0.0403 - val_acc: 0.9937\n",
      "Epoch 27/30\n",
      "60000/60000 [==============================] - 20s 329us/step - loss: 0.0058 - acc: 0.9984 - val_loss: 0.0496 - val_acc: 0.9929\n",
      "Epoch 28/30\n",
      "60000/60000 [==============================] - 20s 329us/step - loss: 0.0047 - acc: 0.9987 - val_loss: 0.0422 - val_acc: 0.9935\n",
      "Epoch 29/30\n",
      "60000/60000 [==============================] - 20s 329us/step - loss: 0.0050 - acc: 0.9986 - val_loss: 0.0357 - val_acc: 0.9941\n",
      "Epoch 30/30\n",
      "60000/60000 [==============================] - 20s 329us/step - loss: 0.0055 - acc: 0.9985 - val_loss: 0.0536 - val_acc: 0.9929\n"
     ]
    }
   ],
   "source": [
    "model.compile(loss=keras.losses.categorical_crossentropy,\n",
    "              optimizer=keras.optimizers.Adam(),\n",
    "              metrics=['accuracy'])\n",
    "\n",
    "history = model.fit(x_train, y_train,batch_size=batch_size,epochs=epochs,verbose=1,validation_data=(x_test, y_test))"
   ]
  },
  {
   "cell_type": "code",
   "execution_count": 17,
   "metadata": {
    "colab": {
     "base_uri": "https://localhost:8080/",
     "height": 394
    },
    "colab_type": "code",
    "id": "dPSZknfSm2fZ",
    "outputId": "3409af9e-646e-43f2-af8d-eb8d1efbd74a"
   },
   "outputs": [
    {
     "name": "stdout",
     "output_type": "stream",
     "text": [
      "Test score: 0.053601732978990756\n",
      "Test accuracy: 0.9929\n"
     ]
    },
    {
     "data": {
      "image/png": "[encoded data removed]",
      "text/plain": [
       "<Figure size 576x396 with 1 Axes>"
      ]
     },
     "metadata": {
      "tags": []
     },
     "output_type": "display_data"
    }
   ],
   "source": [
    "import matplotlib.pyplot as plt\n",
    "score = model.evaluate(x_test, y_test, verbose=0) \n",
    "print('Test score:', score[0]) \n",
    "print('Test accuracy:', score[1])\n",
    "\n",
    "x = list(range(1,epochs+1))\n",
    "fig,ax = plt.subplots(1,1)\n",
    "ax.set_xlabel('epoch') ; ax.set_ylabel('Categorical Crossentropy Loss')\n",
    "\n",
    "vy = history.history['val_loss']\n",
    "ty = history.history['loss']\n",
    "plt_dynamic(x, vy, ty, ax)"
   ]
  },
  {
   "cell_type": "markdown",
   "metadata": {
    "colab_type": "text",
    "id": "zqPL6P920mwm"
   },
   "source": [
    "#**MODEL-2 : 5-LAYER ARCHITECTURE**"
   ]
  },
  {
   "cell_type": "code",
   "execution_count": 18,
   "metadata": {
    "colab": {
     "base_uri": "https://localhost:8080/",
     "height": 500
    },
    "colab_type": "code",
    "id": "0KnZOYXQmqZ2",
    "outputId": "ed3cf734-1d81-477b-b67c-95e08ce51759"
   },
   "outputs": [
    {
     "name": "stdout",
     "output_type": "stream",
     "text": [
      "_________________________________________________________________\n",
      "Layer (type)                 Output Shape              Param #   \n",
      "=================================================================\n",
      "conv2d_7 (Conv2D)            (None, 24, 24, 32)        832       \n",
      "_________________________________________________________________\n",
      "conv2d_8 (Conv2D)            (None, 20, 20, 64)        51264     \n",
      "_________________________________________________________________\n",
      "conv2d_9 (Conv2D)            (None, 16, 16, 128)       204928    \n",
      "_________________________________________________________________\n",
      "max_pooling2d_3 (MaxPooling2 (None, 5, 5, 128)         0         \n",
      "_________________________________________________________________\n",
      "conv2d_10 (Conv2D)           (None, 4, 4, 64)          32832     \n",
      "_________________________________________________________________\n",
      "max_pooling2d_4 (MaxPooling2 (None, 2, 2, 64)          0         \n",
      "_________________________________________________________________\n",
      "conv2d_11 (Conv2D)           (None, 1, 1, 32)          8224      \n",
      "_________________________________________________________________\n",
      "flatten_3 (Flatten)          (None, 32)                0         \n",
      "_________________________________________________________________\n",
      "dense_5 (Dense)              (None, 256)               8448      \n",
      "_________________________________________________________________\n",
      "dropout_3 (Dropout)          (None, 256)               0         \n",
      "_________________________________________________________________\n",
      "dense_6 (Dense)              (None, 10)                2570      \n",
      "=================================================================\n",
      "Total params: 309,098\n",
      "Trainable params: 309,098\n",
      "Non-trainable params: 0\n",
      "_________________________________________________________________\n"
     ]
    }
   ],
   "source": [
    "model = Sequential()\n",
    "model.add(Conv2D(32, kernel_size=(5, 5),activation='relu',input_shape=input_shape))\n",
    "\n",
    "model.add(Conv2D(64, (5, 5), activation='relu'))\n",
    "\n",
    "model.add(Conv2D(128, (5, 5), activation='relu'))\n",
    "model.add(MaxPooling2D(pool_size=(3, 3)))\n",
    "#model.add(Dropout(0.5))\n",
    "\n",
    "model.add(Conv2D(64, (2, 2), activation='relu'))\n",
    "model.add(MaxPooling2D(pool_size=(2, 2)))\n",
    "model.add(Conv2D(32, (2, 2), activation='relu'))\n",
    "\n",
    "model.add(Flatten())\n",
    "model.add(Dense(256, activation='relu'))\n",
    "model.add(Dropout(0.5))\n",
    "model.add(Dense(num_classes, activation='softmax'))\n",
    "model.summary()"
   ]
  },
  {
   "cell_type": "code",
   "execution_count": 19,
   "metadata": {
    "colab": {
     "base_uri": "https://localhost:8080/",
     "height": 1033
    },
    "colab_type": "code",
    "id": "FXxFvpbSrAs_",
    "outputId": "6404fcb5-6267-4baa-a991-7b29d88d4d74"
   },
   "outputs": [
    {
     "name": "stdout",
     "output_type": "stream",
     "text": [
      "Train on 60000 samples, validate on 10000 samples\n",
      "Epoch 1/30\n",
      "60000/60000 [==============================] - 23s 381us/step - loss: 0.2053 - acc: 0.9358 - val_loss: 0.0510 - val_acc: 0.9855\n",
      "Epoch 2/30\n",
      "60000/60000 [==============================] - 22s 369us/step - loss: 0.0623 - acc: 0.9822 - val_loss: 0.0449 - val_acc: 0.9852\n",
      "Epoch 3/30\n",
      "60000/60000 [==============================] - 22s 370us/step - loss: 0.0470 - acc: 0.9866 - val_loss: 0.0398 - val_acc: 0.9879\n",
      "Epoch 4/30\n",
      "60000/60000 [==============================] - 22s 364us/step - loss: 0.0380 - acc: 0.9893 - val_loss: 0.0317 - val_acc: 0.9906\n",
      "Epoch 5/30\n",
      "60000/60000 [==============================] - 22s 362us/step - loss: 0.0327 - acc: 0.9903 - val_loss: 0.0451 - val_acc: 0.9866\n",
      "Epoch 6/30\n",
      "60000/60000 [==============================] - 22s 362us/step - loss: 0.0279 - acc: 0.9919 - val_loss: 0.0260 - val_acc: 0.9924\n",
      "Epoch 7/30\n",
      "60000/60000 [==============================] - 22s 361us/step - loss: 0.0260 - acc: 0.9927 - val_loss: 0.0231 - val_acc: 0.9924\n",
      "Epoch 8/30\n",
      "60000/60000 [==============================] - 22s 361us/step - loss: 0.0216 - acc: 0.9939 - val_loss: 0.0272 - val_acc: 0.9919\n",
      "Epoch 9/30\n",
      "60000/60000 [==============================] - 22s 362us/step - loss: 0.0199 - acc: 0.9944 - val_loss: 0.0312 - val_acc: 0.9914\n",
      "Epoch 10/30\n",
      "60000/60000 [==============================] - 22s 361us/step - loss: 0.0191 - acc: 0.9946 - val_loss: 0.0302 - val_acc: 0.9924\n",
      "Epoch 11/30\n",
      "60000/60000 [==============================] - 22s 361us/step - loss: 0.0166 - acc: 0.9949 - val_loss: 0.0465 - val_acc: 0.9905\n",
      "Epoch 12/30\n",
      "60000/60000 [==============================] - 22s 362us/step - loss: 0.0158 - acc: 0.9956 - val_loss: 0.0284 - val_acc: 0.9921\n",
      "Epoch 13/30\n",
      "60000/60000 [==============================] - 22s 361us/step - loss: 0.0156 - acc: 0.9957 - val_loss: 0.0303 - val_acc: 0.9926\n",
      "Epoch 14/30\n",
      "60000/60000 [==============================] - 22s 362us/step - loss: 0.0115 - acc: 0.9968 - val_loss: 0.0306 - val_acc: 0.9935\n",
      "Epoch 15/30\n",
      "60000/60000 [==============================] - 22s 361us/step - loss: 0.0139 - acc: 0.9964 - val_loss: 0.0369 - val_acc: 0.9918\n",
      "Epoch 16/30\n",
      "60000/60000 [==============================] - 22s 359us/step - loss: 0.0145 - acc: 0.9961 - val_loss: 0.0527 - val_acc: 0.9890\n",
      "Epoch 17/30\n",
      "60000/60000 [==============================] - 22s 361us/step - loss: 0.0095 - acc: 0.9971 - val_loss: 0.0379 - val_acc: 0.9910\n",
      "Epoch 18/30\n",
      "60000/60000 [==============================] - 22s 360us/step - loss: 0.0130 - acc: 0.9967 - val_loss: 0.0318 - val_acc: 0.9925\n",
      "Epoch 19/30\n",
      "60000/60000 [==============================] - 22s 360us/step - loss: 0.0143 - acc: 0.9962 - val_loss: 0.0332 - val_acc: 0.9922\n",
      "Epoch 20/30\n",
      "60000/60000 [==============================] - 22s 360us/step - loss: 0.0097 - acc: 0.9974 - val_loss: 0.0363 - val_acc: 0.9930\n",
      "Epoch 21/30\n",
      "60000/60000 [==============================] - 22s 361us/step - loss: 0.0108 - acc: 0.9972 - val_loss: 0.0406 - val_acc: 0.9933\n",
      "Epoch 22/30\n",
      "60000/60000 [==============================] - 22s 361us/step - loss: 0.0121 - acc: 0.9972 - val_loss: 0.0399 - val_acc: 0.9927\n",
      "Epoch 23/30\n",
      "60000/60000 [==============================] - 22s 360us/step - loss: 0.0127 - acc: 0.9969 - val_loss: 0.0393 - val_acc: 0.9931\n",
      "Epoch 24/30\n",
      "60000/60000 [==============================] - 22s 362us/step - loss: 0.0079 - acc: 0.9980 - val_loss: 0.0486 - val_acc: 0.9923\n",
      "Epoch 25/30\n",
      "60000/60000 [==============================] - 22s 363us/step - loss: 0.0112 - acc: 0.9972 - val_loss: 0.0528 - val_acc: 0.9914\n",
      "Epoch 26/30\n",
      "60000/60000 [==============================] - 22s 363us/step - loss: 0.0104 - acc: 0.9973 - val_loss: 0.0399 - val_acc: 0.9923\n",
      "Epoch 27/30\n",
      "60000/60000 [==============================] - 22s 361us/step - loss: 0.0095 - acc: 0.9973 - val_loss: 0.0397 - val_acc: 0.9934\n",
      "Epoch 28/30\n",
      "60000/60000 [==============================] - 22s 361us/step - loss: 0.0106 - acc: 0.9973 - val_loss: 0.0357 - val_acc: 0.9940\n",
      "Epoch 29/30\n",
      "60000/60000 [==============================] - 22s 361us/step - loss: 0.0084 - acc: 0.9980 - val_loss: 0.0527 - val_acc: 0.9916\n",
      "Epoch 30/30\n",
      "60000/60000 [==============================] - 22s 360us/step - loss: 0.0127 - acc: 0.9973 - val_loss: 0.0339 - val_acc: 0.9930\n"
     ]
    }
   ],
   "source": [
    "\n",
    "model.compile(loss=keras.losses.categorical_crossentropy,optimizer=keras.optimizers.Adam(),metrics=['accuracy'])\n",
    "\n",
    "history = model.fit(x_train, y_train,batch_size=batch_size,epochs=epochs,verbose=1,validation_data=(x_test, y_test))"
   ]
  },
  {
   "cell_type": "code",
   "execution_count": 20,
   "metadata": {
    "colab": {
     "base_uri": "https://localhost:8080/",
     "height": 394
    },
    "colab_type": "code",
    "id": "xjpFSGgPrLul",
    "outputId": "3fe43628-290c-421f-c404-e4274ae7b4b3"
   },
   "outputs": [
    {
     "name": "stdout",
     "output_type": "stream",
     "text": [
      "Test score: 0.03388008741546946\n",
      "Test accuracy: 0.993\n"
     ]
    },
    {
     "data": {
      "image/png": "[encoded data removed]",
      "text/plain": [
       "<Figure size 576x396 with 1 Axes>"
      ]
     },
     "metadata": {
      "tags": []
     },
     "output_type": "display_data"
    }
   ],
   "source": [
    "score = model.evaluate(x_test, y_test, verbose=0) \n",
    "print('Test score:', score[0]) \n",
    "print('Test accuracy:', score[1])\n",
    "\n",
    "x = list(range(1,epochs+1))\n",
    "fig,ax = plt.subplots(1,1)\n",
    "ax.set_xlabel('epoch') ; ax.set_ylabel('Categorical Crossentropy Loss')\n",
    "\n",
    "vy = history.history['val_loss']\n",
    "ty = history.history['loss']\n",
    "plt_dynamic(x, vy, ty, ax)"
   ]
  },
  {
   "cell_type": "markdown",
   "metadata": {
    "colab_type": "text",
    "id": "20DK2SE70vBH"
   },
   "source": [
    "#**MODEL-3 : 7-LAYER ARCHITECTURE**"
   ]
  },
  {
   "cell_type": "code",
   "execution_count": 29,
   "metadata": {
    "colab": {
     "base_uri": "https://localhost:8080/",
     "height": 600
    },
    "colab_type": "code",
    "id": "awrCjQrZwk7x",
    "outputId": "bdf64b30-52cb-4fbd-ccbe-51c95148d315"
   },
   "outputs": [
    {
     "name": "stdout",
     "output_type": "stream",
     "text": [
      "_________________________________________________________________\n",
      "Layer (type)                 Output Shape              Param #   \n",
      "=================================================================\n",
      "conv2d_46 (Conv2D)           (None, 22, 22, 32)        1600      \n",
      "_________________________________________________________________\n",
      "conv2d_47 (Conv2D)           (None, 16, 16, 64)        100416    \n",
      "_________________________________________________________________\n",
      "conv2d_48 (Conv2D)           (None, 10, 10, 128)       401536    \n",
      "_________________________________________________________________\n",
      "max_pooling2d_13 (MaxPooling (None, 10, 10, 128)       0         \n",
      "_________________________________________________________________\n",
      "conv2d_49 (Conv2D)           (None, 6, 6, 256)         819456    \n",
      "_________________________________________________________________\n",
      "conv2d_50 (Conv2D)           (None, 4, 4, 128)         295040    \n",
      "_________________________________________________________________\n",
      "conv2d_51 (Conv2D)           (None, 2, 2, 64)          73792     \n",
      "_________________________________________________________________\n",
      "max_pooling2d_14 (MaxPooling (None, 2, 2, 64)          0         \n",
      "_________________________________________________________________\n",
      "dropout_4 (Dropout)          (None, 2, 2, 64)          0         \n",
      "_________________________________________________________________\n",
      "conv2d_52 (Conv2D)           (None, 1, 1, 32)          8224      \n",
      "_________________________________________________________________\n",
      "flatten_4 (Flatten)          (None, 32)                0         \n",
      "_________________________________________________________________\n",
      "dense_7 (Dense)              (None, 256)               8448      \n",
      "_________________________________________________________________\n",
      "dropout_5 (Dropout)          (None, 256)               0         \n",
      "_________________________________________________________________\n",
      "dense_8 (Dense)              (None, 10)                2570      \n",
      "=================================================================\n",
      "Total params: 1,711,082\n",
      "Trainable params: 1,711,082\n",
      "Non-trainable params: 0\n",
      "_________________________________________________________________\n"
     ]
    }
   ],
   "source": [
    "model = Sequential()\n",
    "model.add(Conv2D(32, kernel_size=(7, 7),activation='relu',input_shape=input_shape))\n",
    "\n",
    "model.add(Conv2D(64, (7, 7), activation='relu'))\n",
    "\n",
    "model.add(Conv2D(128, (7, 7), activation='relu'))\n",
    "model.add(MaxPooling2D(pool_size=(1, 1)))\n",
    "#model.add(Dropout(0.5))\n",
    "\n",
    "model.add(Conv2D(256, (5, 5), activation='relu'))\n",
    "\n",
    "model.add(Conv2D(128, (3, 3), activation='relu'))\n",
    "\n",
    "model.add(Conv2D(64, (3, 3), activation='relu'))\n",
    "model.add(MaxPooling2D(pool_size=(1, 1)))\n",
    "model.add(Dropout(0.5))\n",
    "\n",
    "model.add(Conv2D(32, (2, 2), activation='relu'))\n",
    "\n",
    "model.add(Flatten())\n",
    "model.add(Dense(256, activation='relu'))\n",
    "model.add(Dropout(0.5))\n",
    "model.add(Dense(num_classes, activation='softmax'))\n",
    "model.summary()"
   ]
  },
  {
   "cell_type": "code",
   "execution_count": 30,
   "metadata": {
    "colab": {
     "base_uri": "https://localhost:8080/",
     "height": 1033
    },
    "colab_type": "code",
    "id": "TvwFIw2Ux1H1",
    "outputId": "efab3b02-966f-433b-bebf-67caa8b48763"
   },
   "outputs": [
    {
     "name": "stdout",
     "output_type": "stream",
     "text": [
      "Train on 60000 samples, validate on 10000 samples\n",
      "Epoch 1/30\n",
      "60000/60000 [==============================] - 34s 563us/step - loss: 0.5734 - acc: 0.8059 - val_loss: 0.1081 - val_acc: 0.9745\n",
      "Epoch 2/30\n",
      "60000/60000 [==============================] - 32s 540us/step - loss: 0.1136 - acc: 0.9726 - val_loss: 0.0887 - val_acc: 0.9779\n",
      "Epoch 3/30\n",
      "60000/60000 [==============================] - 32s 541us/step - loss: 0.0862 - acc: 0.9791 - val_loss: 0.0664 - val_acc: 0.9826\n",
      "Epoch 4/30\n",
      "60000/60000 [==============================] - 32s 539us/step - loss: 0.0761 - acc: 0.9818 - val_loss: 0.0550 - val_acc: 0.9846\n",
      "Epoch 5/30\n",
      "60000/60000 [==============================] - 32s 540us/step - loss: 0.0654 - acc: 0.9846 - val_loss: 0.0488 - val_acc: 0.9873\n",
      "Epoch 6/30\n",
      "60000/60000 [==============================] - 32s 541us/step - loss: 0.0631 - acc: 0.9858 - val_loss: 0.0584 - val_acc: 0.9872\n",
      "Epoch 7/30\n",
      "60000/60000 [==============================] - 32s 540us/step - loss: 0.0599 - acc: 0.9863 - val_loss: 0.0676 - val_acc: 0.9860\n",
      "Epoch 8/30\n",
      "60000/60000 [==============================] - 32s 540us/step - loss: 0.0515 - acc: 0.9882 - val_loss: 0.0364 - val_acc: 0.9911\n",
      "Epoch 9/30\n",
      "60000/60000 [==============================] - 32s 540us/step - loss: 0.0461 - acc: 0.9892 - val_loss: 0.0496 - val_acc: 0.9880\n",
      "Epoch 10/30\n",
      "60000/60000 [==============================] - 32s 540us/step - loss: 0.0446 - acc: 0.9895 - val_loss: 0.0661 - val_acc: 0.9862\n",
      "Epoch 11/30\n",
      "60000/60000 [==============================] - 32s 540us/step - loss: 0.0476 - acc: 0.9890 - val_loss: 0.0451 - val_acc: 0.9896\n",
      "Epoch 12/30\n",
      "60000/60000 [==============================] - 32s 541us/step - loss: 0.0436 - acc: 0.9905 - val_loss: 0.0400 - val_acc: 0.9908\n",
      "Epoch 13/30\n",
      "60000/60000 [==============================] - 32s 541us/step - loss: 0.0447 - acc: 0.9900 - val_loss: 0.0508 - val_acc: 0.9893\n",
      "Epoch 14/30\n",
      "60000/60000 [==============================] - 32s 538us/step - loss: 0.0395 - acc: 0.9916 - val_loss: 0.0378 - val_acc: 0.9916\n",
      "Epoch 15/30\n",
      "60000/60000 [==============================] - 32s 541us/step - loss: 0.0497 - acc: 0.9896 - val_loss: 0.0516 - val_acc: 0.9879\n",
      "Epoch 16/30\n",
      "60000/60000 [==============================] - 32s 541us/step - loss: 0.0321 - acc: 0.9930 - val_loss: 0.0382 - val_acc: 0.9917\n",
      "Epoch 17/30\n",
      "60000/60000 [==============================] - 32s 540us/step - loss: 0.0377 - acc: 0.9918 - val_loss: 0.0416 - val_acc: 0.9905\n",
      "Epoch 18/30\n",
      "60000/60000 [==============================] - 32s 540us/step - loss: 0.0380 - acc: 0.9915 - val_loss: 0.0437 - val_acc: 0.9910\n",
      "Epoch 19/30\n",
      "60000/60000 [==============================] - 32s 540us/step - loss: 0.0382 - acc: 0.9920 - val_loss: 0.0368 - val_acc: 0.9908\n",
      "Epoch 20/30\n",
      "60000/60000 [==============================] - 32s 540us/step - loss: 0.0443 - acc: 0.9915 - val_loss: 0.0661 - val_acc: 0.9859\n",
      "Epoch 21/30\n",
      "60000/60000 [==============================] - 32s 540us/step - loss: 0.0408 - acc: 0.9919 - val_loss: 0.0614 - val_acc: 0.9904\n",
      "Epoch 22/30\n",
      "60000/60000 [==============================] - 32s 540us/step - loss: 0.0395 - acc: 0.9921 - val_loss: 0.0650 - val_acc: 0.9881\n",
      "Epoch 23/30\n",
      "60000/60000 [==============================] - 32s 537us/step - loss: 0.0352 - acc: 0.9929 - val_loss: 0.0508 - val_acc: 0.9902\n",
      "Epoch 24/30\n",
      "60000/60000 [==============================] - 32s 540us/step - loss: 0.0338 - acc: 0.9930 - val_loss: 0.0599 - val_acc: 0.9902\n",
      "Epoch 25/30\n",
      "60000/60000 [==============================] - 32s 540us/step - loss: 0.0373 - acc: 0.9927 - val_loss: 0.0522 - val_acc: 0.9908\n",
      "Epoch 26/30\n",
      "60000/60000 [==============================] - 32s 539us/step - loss: 0.0454 - acc: 0.9913 - val_loss: 0.0593 - val_acc: 0.9905\n",
      "Epoch 27/30\n",
      "60000/60000 [==============================] - 32s 540us/step - loss: 0.0382 - acc: 0.9926 - val_loss: 0.0686 - val_acc: 0.9887\n",
      "Epoch 28/30\n",
      "60000/60000 [==============================] - 32s 540us/step - loss: 0.0441 - acc: 0.9920 - val_loss: 0.0576 - val_acc: 0.9905\n",
      "Epoch 29/30\n",
      "60000/60000 [==============================] - 32s 539us/step - loss: 0.0425 - acc: 0.9916 - val_loss: 0.0504 - val_acc: 0.9909\n",
      "Epoch 30/30\n",
      "60000/60000 [==============================] - 32s 539us/step - loss: 0.0397 - acc: 0.9933 - val_loss: 0.0659 - val_acc: 0.9885\n"
     ]
    }
   ],
   "source": [
    "model.compile(loss=keras.losses.categorical_crossentropy,optimizer=keras.optimizers.Adam(),metrics=['accuracy'])\n",
    "\n",
    "history = model.fit(x_train, y_train,batch_size=batch_size,epochs=epochs,verbose=1,validation_data=(x_test, y_test))"
   ]
  },
  {
   "cell_type": "code",
   "execution_count": 31,
   "metadata": {
    "colab": {
     "base_uri": "https://localhost:8080/",
     "height": 397
    },
    "colab_type": "code",
    "id": "bUQvsHqUx4iK",
    "outputId": "d8fd0244-5552-43dd-95e2-334baf3d2758"
   },
   "outputs": [
    {
     "name": "stdout",
     "output_type": "stream",
     "text": [
      "Test score: 0.06585598365341304\n",
      "Test accuracy: 0.9885\n"
     ]
    },
    {
     "data": {
      "image/png": "[encoded data removed]",
      "text/plain": [
       "<Figure size 576x396 with 1 Axes>"
      ]
     },
     "metadata": {
      "tags": []
     },
     "output_type": "display_data"
    }
   ],
   "source": [
    "score = model.evaluate(x_test, y_test, verbose=0) \n",
    "print('Test score:', score[0]) \n",
    "print('Test accuracy:', score[1])\n",
    "\n",
    "x = list(range(1,epochs+1))\n",
    "fig,ax = plt.subplots(1,1)\n",
    "ax.set_xlabel('epoch') ; ax.set_ylabel('Categorical Crossentropy Loss')\n",
    "\n",
    "vy = history.history['val_loss']\n",
    "ty = history.history['loss']\n",
    "plt_dynamic(x, vy, ty, ax)"
   ]
  },
  {
   "cell_type": "markdown",
   "metadata": {
    "colab_type": "text",
    "id": "Lp_YbS7o01ss"
   },
   "source": [
    "# Conclution :"
   ]
  },
  {
   "cell_type": "code",
   "execution_count": 2,
   "metadata": {
    "colab": {
     "base_uri": "https://localhost:8080/",
     "height": 133
    },
    "colab_type": "code",
    "id": "zRCw4ACZ052v",
    "outputId": "653b3531-f386-4615-a72b-7d9ed0375d9f"
   },
   "outputs": [
    {
     "name": "stdout",
     "output_type": "stream",
     "text": [
      "+-------+------------+---------------+--------+\n",
      "| Model | Test-score | Test-accuracy | Epochs |\n",
      "+-------+------------+---------------+--------+\n",
      "|   1   |   0.053    |     0.992     |   5    |\n",
      "|   2   |   0.033    |     0.993     |   7    |\n",
      "|   3   |   0.065    |     0.988     |   11   |\n",
      "+-------+------------+---------------+--------+\n"
     ]
    }
   ],
   "source": [
    "from prettytable import PrettyTable\n",
    "\n",
    "x = PrettyTable()\n",
    "\n",
    "x.field_names = [\"Model\",\"Test-score\", \"Test-accuracy\",\"Epochs\"]\n",
    "\n",
    "x.add_row([\"1\",\"0.053\",\"0.992\",\"5\"])\n",
    "\n",
    "x.add_row([\"2\",\"0.033\",\"0.993\",\"7\"])\n",
    "\n",
    "x.add_row([\"3\",\"0.065\",\"0.988\",\"11\"])\n",
    "\n",
    "print(x)"
   ]
  },
  {
   "cell_type": "markdown",
   "metadata": {
    "colab_type": "text",
    "id": "Rf9tpztKFCal"
   },
   "source": [
    "1. As we can see in the error plots Model 1 and Model 2 are overfitting.\n",
    "2. Model 3 seems to be working well even model 3 has less test-accurarcy compared to model 1&2 but model 3 is not overfitting. "
   ]
  },
  {
   "cell_type": "code",
   "execution_count": 0,
   "metadata": {
    "colab": {},
    "colab_type": "code",
    "id": "SBnrQP7FF4Oe"
   },
   "outputs": [],
   "source": []
  }
 ],
 "metadata": {
  "accelerator": "GPU",
  "colab": {
   "collapsed_sections": [],
   "name": "CNN-MNIST_assignment.ipynb",
   "provenance": [],
   "version": "0.3.2"
  },
  "kernelspec": {
   "display_name": "Python 3",
   "language": "python",
   "name": "python3"
  },
  "language_info": {
   "codemirror_mode": {
    "name": "ipython",
    "version": 3
   },
   "file_extension": ".py",
   "mimetype": "text/x-python",
   "name": "python",
   "nbconvert_exporter": "python",
   "pygments_lexer": "ipython3",
   "version": "3.6.5"
  }
 },
 "nbformat": 4,
 "nbformat_minor": 1
}
