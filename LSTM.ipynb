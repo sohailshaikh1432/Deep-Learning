{
 "cells": [
  {
   "cell_type": "markdown",
   "metadata": {},
   "source": [
    "# Assignment No 14 : LSTM"
   ]
  },
  {
   "cell_type": "markdown",
   "metadata": {},
   "source": [
    "### Resources :"
   ]
  },
  {
   "cell_type": "markdown",
   "metadata": {},
   "source": [
    "- Thanks AAIC Team\n",
    "- Google Search ,Kaggle,Sklearn\n",
    "- KrushitReddy\n",
    "- https://www.appliedaicourse.com/lecture/11/applied-machine-learning-online-course/3428/assignment-try-various-cnn-networks-on-mnist-dataset/8/module-8-neural-networks-computer-vision-and-deep-learning\n",
    "- https://github.com/krushithreddy\n",
    "- https://scikit-learn.org/stable/index.html\n",
    "- https://www.kaggle.com/"
   ]
  },
  {
   "cell_type": "code",
   "execution_count": 1,
   "metadata": {
    "colab": {
     "base_uri": "https://localhost:8080/",
     "height": 120
    },
    "colab_type": "code",
    "id": "yiY2njA3461j",
    "outputId": "8354826d-d966-4275-9aad-0ae6c55373f8"
   },
   "outputs": [
    {
     "name": "stdout",
     "output_type": "stream",
     "text": [
      "Go to this URL in a browser: https://accounts.google.com/o/oauth2/auth?client_id=947318989803-6bn6qk8qdgf4n4g3pfee6491hc0brc4i.apps.googleusercontent.com&redirect_uri=urn%3Aietf%3Awg%3Aoauth%3A2.0%3Aoob&scope=email%20https%3A%2F%2Fwww.googleapis.com%2Fauth%2Fdocs.test%20https%3A%2F%2Fwww.googleapis.com%2Fauth%2Fdrive%20https%3A%2F%2Fwww.googleapis.com%2Fauth%2Fdrive.photos.readonly%20https%3A%2F%2Fwww.googleapis.com%2Fauth%2Fpeopleapi.readonly&response_type=code\n",
      "\n",
      "Enter your authorization code:\n",
      "··········\n",
      "Mounted at /content/gdrive\n"
     ]
    }
   ],
   "source": [
    "from google.colab import drive\n",
    "drive.mount('/content/gdrive')"
   ]
  },
  {
   "cell_type": "code",
   "execution_count": 2,
   "metadata": {
    "colab": {
     "base_uri": "https://localhost:8080/",
     "height": 33
    },
    "colab_type": "code",
    "id": "Ems21cj9SoTO",
    "outputId": "04114e4a-2810-46e7-c4a4-7521340a77a3"
   },
   "outputs": [
    {
     "name": "stderr",
     "output_type": "stream",
     "text": [
      "Using TensorFlow backend.\n"
     ]
    }
   ],
   "source": [
    "import numpy\n",
    "import pandas as pd\n",
    "from keras.preprocessing.text import Tokenizer\n",
    "from keras.models import Sequential\n",
    "from keras.layers import Dense\n",
    "from keras.layers import LSTM\n",
    "from keras.layers import Dropout\n",
    "from keras.layers.embeddings import Embedding\n",
    "from keras.preprocessing import sequence"
   ]
  },
  {
   "cell_type": "code",
   "execution_count": 0,
   "metadata": {
    "colab": {},
    "colab_type": "code",
    "id": "Ev7oEFFjQAId"
   },
   "outputs": [],
   "source": [
    "import pickle\n",
    "\n",
    "with open('/content/gdrive/My Drive/Colab Notebooks/final.pkl', 'rb') as f:\n",
    "    data = pickle.load(f)"
   ]
  },
  {
   "cell_type": "code",
   "execution_count": 4,
   "metadata": {
    "colab": {
     "base_uri": "https://localhost:8080/",
     "height": 531
    },
    "colab_type": "code",
    "id": "D0G3tJUDQN26",
    "outputId": "a206b55a-2950-4636-c066-70bc519accc6"
   },
   "outputs": [
    {
     "data": {
      "text/html": [
       "<div>\n",
       "<style scoped>\n",
       "    .dataframe tbody tr th:only-of-type {\n",
       "        vertical-align: middle;\n",
       "    }\n",
       "\n",
       "    .dataframe tbody tr th {\n",
       "        vertical-align: top;\n",
       "    }\n",
       "\n",
       "    .dataframe thead th {\n",
       "        text-align: right;\n",
       "    }\n",
       "</style>\n",
       "<table border=\"1\" class=\"dataframe\">\n",
       "  <thead>\n",
       "    <tr style=\"text-align: right;\">\n",
       "      <th></th>\n",
       "      <th>Id</th>\n",
       "      <th>ProductId</th>\n",
       "      <th>UserId</th>\n",
       "      <th>ProfileName</th>\n",
       "      <th>HelpfulnessNumerator</th>\n",
       "      <th>HelpfulnessDenominator</th>\n",
       "      <th>Score</th>\n",
       "      <th>Time</th>\n",
       "      <th>Summary</th>\n",
       "      <th>Text</th>\n",
       "      <th>CleanedText</th>\n",
       "      <th>CleanedSummary</th>\n",
       "    </tr>\n",
       "  </thead>\n",
       "  <tbody>\n",
       "    <tr>\n",
       "      <th>138706</th>\n",
       "      <td>150524</td>\n",
       "      <td>0006641040</td>\n",
       "      <td>ACITT7DI6IDDL</td>\n",
       "      <td>shari zychinski</td>\n",
       "      <td>0</td>\n",
       "      <td>0</td>\n",
       "      <td>1</td>\n",
       "      <td>939340800</td>\n",
       "      <td>EVERY book is educational</td>\n",
       "      <td>this witty little book makes my son laugh at l...</td>\n",
       "      <td>witti littl book make son laugh loud recit car...</td>\n",
       "      <td>everi book educ</td>\n",
       "    </tr>\n",
       "    <tr>\n",
       "      <th>138688</th>\n",
       "      <td>150506</td>\n",
       "      <td>0006641040</td>\n",
       "      <td>A2IW4PEEKO2R0U</td>\n",
       "      <td>Tracy</td>\n",
       "      <td>1</td>\n",
       "      <td>1</td>\n",
       "      <td>1</td>\n",
       "      <td>1194739200</td>\n",
       "      <td>Love the book, miss the hard cover version</td>\n",
       "      <td>I grew up reading these Sendak books, and watc...</td>\n",
       "      <td>grew read sendak book watch realli rosi movi i...</td>\n",
       "      <td>love book miss hard cover version</td>\n",
       "    </tr>\n",
       "    <tr>\n",
       "      <th>138689</th>\n",
       "      <td>150507</td>\n",
       "      <td>0006641040</td>\n",
       "      <td>A1S4A3IQ2MU7V4</td>\n",
       "      <td>sally sue \"sally sue\"</td>\n",
       "      <td>1</td>\n",
       "      <td>1</td>\n",
       "      <td>1</td>\n",
       "      <td>1191456000</td>\n",
       "      <td>chicken soup with rice months</td>\n",
       "      <td>This is a fun way for children to learn their ...</td>\n",
       "      <td>fun way children learn month year learn poem t...</td>\n",
       "      <td>chicken soup rice month</td>\n",
       "    </tr>\n",
       "    <tr>\n",
       "      <th>138690</th>\n",
       "      <td>150508</td>\n",
       "      <td>0006641040</td>\n",
       "      <td>AZGXZ2UUK6X</td>\n",
       "      <td>Catherine Hallberg \"(Kate)\"</td>\n",
       "      <td>1</td>\n",
       "      <td>1</td>\n",
       "      <td>1</td>\n",
       "      <td>1076025600</td>\n",
       "      <td>a good swingy rhythm for reading aloud</td>\n",
       "      <td>This is a great little book to read aloud- it ...</td>\n",
       "      <td>great littl book read nice rhythm well good re...</td>\n",
       "      <td>good swingi rhythm read aloud</td>\n",
       "    </tr>\n",
       "    <tr>\n",
       "      <th>138691</th>\n",
       "      <td>150509</td>\n",
       "      <td>0006641040</td>\n",
       "      <td>A3CMRKGE0P909G</td>\n",
       "      <td>Teresa</td>\n",
       "      <td>3</td>\n",
       "      <td>4</td>\n",
       "      <td>1</td>\n",
       "      <td>1018396800</td>\n",
       "      <td>A great way to learn the months</td>\n",
       "      <td>This is a book of poetry about the months of t...</td>\n",
       "      <td>book poetri month year goe month cute littl po...</td>\n",
       "      <td>great way learn month</td>\n",
       "    </tr>\n",
       "  </tbody>\n",
       "</table>\n",
       "</div>"
      ],
      "text/plain": [
       "            Id   ProductId          UserId                  ProfileName  \\\n",
       "138706  150524  0006641040   ACITT7DI6IDDL              shari zychinski   \n",
       "138688  150506  0006641040  A2IW4PEEKO2R0U                        Tracy   \n",
       "138689  150507  0006641040  A1S4A3IQ2MU7V4        sally sue \"sally sue\"   \n",
       "138690  150508  0006641040     AZGXZ2UUK6X  Catherine Hallberg \"(Kate)\"   \n",
       "138691  150509  0006641040  A3CMRKGE0P909G                       Teresa   \n",
       "\n",
       "        HelpfulnessNumerator  HelpfulnessDenominator  Score        Time  \\\n",
       "138706                     0                       0      1   939340800   \n",
       "138688                     1                       1      1  1194739200   \n",
       "138689                     1                       1      1  1191456000   \n",
       "138690                     1                       1      1  1076025600   \n",
       "138691                     3                       4      1  1018396800   \n",
       "\n",
       "                                           Summary  \\\n",
       "138706                   EVERY book is educational   \n",
       "138688  Love the book, miss the hard cover version   \n",
       "138689               chicken soup with rice months   \n",
       "138690      a good swingy rhythm for reading aloud   \n",
       "138691             A great way to learn the months   \n",
       "\n",
       "                                                     Text  \\\n",
       "138706  this witty little book makes my son laugh at l...   \n",
       "138688  I grew up reading these Sendak books, and watc...   \n",
       "138689  This is a fun way for children to learn their ...   \n",
       "138690  This is a great little book to read aloud- it ...   \n",
       "138691  This is a book of poetry about the months of t...   \n",
       "\n",
       "                                              CleanedText  \\\n",
       "138706  witti littl book make son laugh loud recit car...   \n",
       "138688  grew read sendak book watch realli rosi movi i...   \n",
       "138689  fun way children learn month year learn poem t...   \n",
       "138690  great littl book read nice rhythm well good re...   \n",
       "138691  book poetri month year goe month cute littl po...   \n",
       "\n",
       "                           CleanedSummary  \n",
       "138706                    everi book educ  \n",
       "138688  love book miss hard cover version  \n",
       "138689            chicken soup rice month  \n",
       "138690      good swingi rhythm read aloud  \n",
       "138691              great way learn month  "
      ]
     },
     "execution_count": 4,
     "metadata": {
      "tags": []
     },
     "output_type": "execute_result"
    }
   ],
   "source": [
    "data.head()"
   ]
  },
  {
   "cell_type": "code",
   "execution_count": 5,
   "metadata": {
    "colab": {
     "base_uri": "https://localhost:8080/",
     "height": 1050
    },
    "colab_type": "code",
    "id": "iuv2twJaQTR_",
    "outputId": "35cc9d4b-80be-48a8-e555-fe52c3a01b3b"
   },
   "outputs": [
    {
     "data": {
      "text/plain": [
       "138706     939340800\n",
       "138683     940809600\n",
       "417839     944092800\n",
       "346055     944438400\n",
       "417838     946857600\n",
       "346116     947376000\n",
       "346041     948240000\n",
       "70688      948672000\n",
       "346141     951523200\n",
       "346094     959990400\n",
       "417883     959990400\n",
       "1146       961718400\n",
       "1145       962236800\n",
       "121041     965001600\n",
       "138001     965779200\n",
       "138017     965779200\n",
       "346115     966297600\n",
       "346102     970531200\n",
       "138000     975974400\n",
       "346078     977184000\n",
       "346054     978134400\n",
       "138018     982800000\n",
       "417901     992217600\n",
       "346037     997228800\n",
       "346140    1001289600\n",
       "138020    1003795200\n",
       "346033    1004054400\n",
       "138682    1009324800\n",
       "333930    1010275200\n",
       "346032    1012780800\n",
       "             ...    \n",
       "5472      1351209600\n",
       "443952    1351209600\n",
       "189914    1351209600\n",
       "116874    1351209600\n",
       "442739    1351209600\n",
       "510670    1351209600\n",
       "138478    1351209600\n",
       "479033    1351209600\n",
       "190494    1351209600\n",
       "479530    1351209600\n",
       "340517    1351209600\n",
       "157477    1351209600\n",
       "510455    1351209600\n",
       "236715    1351209600\n",
       "441646    1351209600\n",
       "344476    1351209600\n",
       "113341    1351209600\n",
       "302755    1351209600\n",
       "426410    1351209600\n",
       "136439    1351209600\n",
       "90340     1351209600\n",
       "391396    1351209600\n",
       "304749    1351209600\n",
       "433753    1351209600\n",
       "275846    1351209600\n",
       "511105    1351209600\n",
       "282454    1351209600\n",
       "311138    1351209600\n",
       "524273    1351209600\n",
       "355171    1351209600\n",
       "Name: Time, Length: 364171, dtype: int64"
      ]
     },
     "execution_count": 5,
     "metadata": {
      "tags": []
     },
     "output_type": "execute_result"
    }
   ],
   "source": [
    "data[\"Time\"].sort_values()"
   ]
  },
  {
   "cell_type": "code",
   "execution_count": 0,
   "metadata": {
    "colab": {},
    "colab_type": "code",
    "id": "PD0cnO8qQjUT"
   },
   "outputs": [],
   "source": [
    "data = data.tail(70000)"
   ]
  },
  {
   "cell_type": "code",
   "execution_count": 0,
   "metadata": {
    "colab": {},
    "colab_type": "code",
    "id": "9mdaBaDmQ9Uc"
   },
   "outputs": [],
   "source": [
    "train = data.head(60000)\n",
    "test = data.tail(10000)"
   ]
  },
  {
   "cell_type": "code",
   "execution_count": 0,
   "metadata": {
    "colab": {},
    "colab_type": "code",
    "id": "VZfJ6o6ZRHLP"
   },
   "outputs": [],
   "source": [
    "x_train = train[\"CleanedText\"]"
   ]
  },
  {
   "cell_type": "code",
   "execution_count": 0,
   "metadata": {
    "colab": {},
    "colab_type": "code",
    "id": "MqxIzyYHRVFg"
   },
   "outputs": [],
   "source": [
    "y_train = train[\"Score\"]\n",
    "x_test = test[\"CleanedText\"]"
   ]
  },
  {
   "cell_type": "code",
   "execution_count": 0,
   "metadata": {
    "colab": {},
    "colab_type": "code",
    "id": "vU7OQ_mxbJTo"
   },
   "outputs": [],
   "source": [
    "y_test = test[\"Score\"]"
   ]
  },
  {
   "cell_type": "code",
   "execution_count": 11,
   "metadata": {
    "colab": {
     "base_uri": "https://localhost:8080/",
     "height": 33
    },
    "colab_type": "code",
    "id": "Ka2eDJ2TR7Nt",
    "outputId": "e66fa37a-d4ed-4c33-ad4a-22bf4d721469"
   },
   "outputs": [
    {
     "data": {
      "text/plain": [
       "(60000,)"
      ]
     },
     "execution_count": 11,
     "metadata": {
      "tags": []
     },
     "output_type": "execute_result"
    }
   ],
   "source": [
    "x_train.shape"
   ]
  },
  {
   "cell_type": "code",
   "execution_count": 0,
   "metadata": {
    "colab": {},
    "colab_type": "code",
    "id": "1P-5i1GbSrGR"
   },
   "outputs": [],
   "source": [
    "tokenizer = Tokenizer(num_words=5000)\n",
    "tokenizer.fit_on_texts(x_train)\n",
    "\n",
    "X_train = tokenizer.texts_to_sequences(x_train)"
   ]
  },
  {
   "cell_type": "code",
   "execution_count": 0,
   "metadata": {
    "colab": {},
    "colab_type": "code",
    "id": "5BpXWdnsTFam"
   },
   "outputs": [],
   "source": [
    "X_test = tokenizer.texts_to_sequences(x_test)"
   ]
  },
  {
   "cell_type": "code",
   "execution_count": 14,
   "metadata": {
    "colab": {
     "base_uri": "https://localhost:8080/",
     "height": 66
    },
    "colab_type": "code",
    "id": "5w5lP0-3TIey",
    "outputId": "c6e914f6-88f1-4526-fcc8-be59a1f502c6"
   },
   "outputs": [
    {
     "name": "stdout",
     "output_type": "stream",
     "text": [
      "[11, 399, 81, 25, 47, 21, 1167, 1751, 97, 841, 148, 110, 3245, 484]\n",
      "<class 'list'>\n",
      "14\n"
     ]
    }
   ],
   "source": [
    "print(X_train[33])\n",
    "print(type(X_train[33]))\n",
    "print(len(X_train[33]))"
   ]
  },
  {
   "cell_type": "code",
   "execution_count": 15,
   "metadata": {
    "colab": {
     "base_uri": "https://localhost:8080/",
     "height": 516
    },
    "colab_type": "code",
    "id": "ajsOY0n6TXE4",
    "outputId": "f25b848e-cd83-4e24-d4ae-752e349e5415"
   },
   "outputs": [
    {
     "name": "stdout",
     "output_type": "stream",
     "text": [
      "(60000, 400)\n",
      "[   0    0    0    0    0    0    0    0    0    0    0    0    0    0\n",
      "    0    0    0    0    0    0    0    0    0    0    0    0    0    0\n",
      "    0    0    0    0    0    0    0    0    0    0    0    0    0    0\n",
      "    0    0    0    0    0    0    0    0    0    0    0    0    0    0\n",
      "    0    0    0    0    0    0    0    0    0    0    0    0    0    0\n",
      "    0    0    0    0    0    0    0    0    0    0    0    0    0    0\n",
      "    0    0    0    0    0    0    0    0    0    0    0    0    0    0\n",
      "    0    0    0    0    0    0    0    0    0    0    0    0    0    0\n",
      "    0    0    0    0    0    0    0    0    0    0    0    0    0    0\n",
      "    0    0    0    0    0    0    0    0    0    0    0    0    0    0\n",
      "    0    0    0    0    0    0    0    0    0    0    0    0    0    0\n",
      "    0    0    0    0    0    0    0    0    0    0    0    0    0    0\n",
      "    0    0    0    0    0    0    0    0    0    0    0    0    0    0\n",
      "    0    0    0    0    0    0    0    0    0    0    0    0    0    0\n",
      "    0    0    0    0    0    0    0    0    0    0    0    0    0    0\n",
      "    0    0    0    0    0    0    0    0    0    0    0    0    0    0\n",
      "    0    0    0    0    0    0    0    0    0    0    0    0    0    0\n",
      "    0    0    0    0    0    0    0    0    0    0    0    0    0    0\n",
      "    0    0    0    0    0    0    0    0    0    0    0    0    0    0\n",
      "    0    0    0    0    0    0    0    0    0    0    0    0    0    0\n",
      "    0    0    0    0    0    0    0    0    0    0    0    0    0    0\n",
      "    0    0    0    0    0    0    0    0    0    0    0    0    0    0\n",
      "    0    0    0    0    0    0    0    0    0    0    0    0    0    0\n",
      "    0    0    0    0    0    0    0    0    0    0    0    0    0    0\n",
      "    0    0    0    0    0    0    0    0    0    0    0    0    0    0\n",
      "    0    0    0    0    0    0    0    0    0    0    0    0    0    0\n",
      "    0    0    0    0    0    0    0    0    0    0    0    0    0    0\n",
      "    0    0    0    0    0    0    0    0   11  399   81   25   47   21\n",
      " 1167 1751   97  841  148  110 3245  484]\n"
     ]
    }
   ],
   "source": [
    "max_review_length = 400\n",
    "X_train = sequence.pad_sequences(X_train, maxlen=max_review_length)\n",
    "X_test = sequence.pad_sequences(X_test, maxlen=max_review_length)\n",
    "\n",
    "print(X_train.shape)\n",
    "print(X_train[33])"
   ]
  },
  {
   "cell_type": "code",
   "execution_count": 0,
   "metadata": {
    "colab": {},
    "colab_type": "code",
    "id": "F7a899tmPzfQ"
   },
   "outputs": [],
   "source": [
    "import matplotlib.pyplot as plt\n",
    "def plt_dynamic(x, vy, ty, ax, colors=['b']):\n",
    "  ax.plot(x,vy,'b',label=\"Validation Loss\")\n",
    "  ax.plot(x,ty,'r',label=\"Train Loss\")\n",
    "  plt.legend()\n",
    "  plt.grid()\n",
    "  fig.canvas.draw()"
   ]
  },
  {
   "cell_type": "markdown",
   "metadata": {
    "colab_type": "text",
    "id": "6N9CDhxIlxgn"
   },
   "source": [
    "#**1 LAYER-LSTM:**"
   ]
  },
  {
   "cell_type": "code",
   "execution_count": 26,
   "metadata": {
    "colab": {
     "base_uri": "https://localhost:8080/",
     "height": 250
    },
    "colab_type": "code",
    "id": "D6p2nLdZTtU5",
    "outputId": "c702e1c4-28ff-40f4-8ced-a67f23fcc89b"
   },
   "outputs": [
    {
     "name": "stdout",
     "output_type": "stream",
     "text": [
      "_________________________________________________________________\n",
      "Layer (type)                 Output Shape              Param #   \n",
      "=================================================================\n",
      "embedding_2 (Embedding)      (None, 400, 32)           160000    \n",
      "_________________________________________________________________\n",
      "lstm_2 (LSTM)                (None, 100)               53200     \n",
      "_________________________________________________________________\n",
      "dense_2 (Dense)              (None, 1)                 101       \n",
      "=================================================================\n",
      "Total params: 213,301\n",
      "Trainable params: 213,301\n",
      "Non-trainable params: 0\n",
      "_________________________________________________________________\n",
      "None\n"
     ]
    }
   ],
   "source": [
    "top_words = 5000\n",
    "\n",
    "embedding_vecor_length = 32\n",
    "model = Sequential()\n",
    "model.add(Embedding(top_words, embedding_vecor_length, input_length=max_review_length))\n",
    "model.add(LSTM(100))\n",
    "model.add(Dense(1, activation='sigmoid'))\n",
    "model.compile(loss='binary_crossentropy', optimizer='adam', metrics=['accuracy'])\n",
    "print(model.summary())"
   ]
  },
  {
   "cell_type": "code",
   "execution_count": 18,
   "metadata": {
    "colab": {
     "base_uri": "https://localhost:8080/",
     "height": 533
    },
    "colab_type": "code",
    "id": "05JPioacVYCy",
    "outputId": "ed1bd23b-23a5-4a9f-b84a-c4710190adbe"
   },
   "outputs": [
    {
     "name": "stdout",
     "output_type": "stream",
     "text": [
      "[name: \"/device:CPU:0\"\n",
      "device_type: \"CPU\"\n",
      "memory_limit: 268435456\n",
      "locality {\n",
      "}\n",
      "incarnation: 16974235016419944510\n",
      ", name: \"/device:XLA_CPU:0\"\n",
      "device_type: \"XLA_CPU\"\n",
      "memory_limit: 17179869184\n",
      "locality {\n",
      "}\n",
      "incarnation: 14494547961730048904\n",
      "physical_device_desc: \"device: XLA_CPU device\"\n",
      ", name: \"/device:XLA_GPU:0\"\n",
      "device_type: \"XLA_GPU\"\n",
      "memory_limit: 17179869184\n",
      "locality {\n",
      "}\n",
      "incarnation: 14174836379046177974\n",
      "physical_device_desc: \"device: XLA_GPU device\"\n",
      ", name: \"/device:GPU:0\"\n",
      "device_type: \"GPU\"\n",
      "memory_limit: 11276946637\n",
      "locality {\n",
      "  bus_id: 1\n",
      "  links {\n",
      "  }\n",
      "}\n",
      "incarnation: 12284886780347192124\n",
      "physical_device_desc: \"device: 0, name: Tesla K80, pci bus id: 0000:00:04.0, compute capability: 3.7\"\n",
      "]\n"
     ]
    }
   ],
   "source": [
    "from tensorflow.python.client import device_lib\n",
    "print(device_lib.list_local_devices())"
   ]
  },
  {
   "cell_type": "code",
   "execution_count": 27,
   "metadata": {
    "colab": {
     "base_uri": "https://localhost:8080/",
     "height": 400
    },
    "colab_type": "code",
    "id": "YW4hXf2kUltR",
    "outputId": "0c263fb9-7fa2-44d6-9ae4-2a573cc1f3e8"
   },
   "outputs": [
    {
     "name": "stderr",
     "output_type": "stream",
     "text": [
      "/usr/local/lib/python3.6/dist-packages/ipykernel_launcher.py:2: UserWarning: The `nb_epoch` argument in `fit` has been renamed `epochs`.\n",
      "  \n"
     ]
    },
    {
     "name": "stdout",
     "output_type": "stream",
     "text": [
      "Train on 60000 samples, validate on 10000 samples\n",
      "Epoch 1/10\n",
      "60000/60000 [==============================] - 247s 4ms/step - loss: 0.2983 - acc: 0.8837 - val_loss: 0.2102 - val_acc: 0.9206\n",
      "Epoch 2/10\n",
      "60000/60000 [==============================] - 248s 4ms/step - loss: 0.1894 - acc: 0.9270 - val_loss: 0.2042 - val_acc: 0.9193\n",
      "Epoch 3/10\n",
      "60000/60000 [==============================] - 249s 4ms/step - loss: 0.1736 - acc: 0.9332 - val_loss: 0.2095 - val_acc: 0.9202\n",
      "Epoch 4/10\n",
      "60000/60000 [==============================] - 242s 4ms/step - loss: 0.1622 - acc: 0.9366 - val_loss: 0.2163 - val_acc: 0.9203\n",
      "Epoch 5/10\n",
      "60000/60000 [==============================] - 242s 4ms/step - loss: 0.1516 - acc: 0.9422 - val_loss: 0.2166 - val_acc: 0.9168\n",
      "Epoch 6/10\n",
      "60000/60000 [==============================] - 245s 4ms/step - loss: 0.1432 - acc: 0.9454 - val_loss: 0.2229 - val_acc: 0.9162\n",
      "Epoch 7/10\n",
      "60000/60000 [==============================] - 248s 4ms/step - loss: 0.1319 - acc: 0.9494 - val_loss: 0.2358 - val_acc: 0.9171\n",
      "Epoch 8/10\n",
      "60000/60000 [==============================] - 248s 4ms/step - loss: 0.1211 - acc: 0.9549 - val_loss: 0.2402 - val_acc: 0.9143\n",
      "Epoch 9/10\n",
      "60000/60000 [==============================] - 240s 4ms/step - loss: 0.1110 - acc: 0.9579 - val_loss: 0.2572 - val_acc: 0.9167\n",
      "Epoch 10/10\n",
      "60000/60000 [==============================] - 239s 4ms/step - loss: 0.1036 - acc: 0.9615 - val_loss: 0.2867 - val_acc: 0.9130\n"
     ]
    }
   ],
   "source": [
    "\n",
    "history = model.fit(X_train, y_train, nb_epoch=10, batch_size=200,validation_data=(X_test,y_test))"
   ]
  },
  {
   "cell_type": "code",
   "execution_count": 28,
   "metadata": {
    "colab": {
     "base_uri": "https://localhost:8080/",
     "height": 394
    },
    "colab_type": "code",
    "id": "sIhV1FRHPECh",
    "outputId": "12ef1c87-28d0-4f1f-a2fa-b21a7b14dc9b"
   },
   "outputs": [
    {
     "name": "stdout",
     "output_type": "stream",
     "text": [
      "Test score: 0.2866777069292962\n",
      "Test accuracy: 0.913\n"
     ]
    },
    {
     "data": {
      "image/png": "[encoded data removed]",
      "text/plain": [
       "<Figure size 576x396 with 1 Axes>"
      ]
     },
     "metadata": {
      "tags": []
     },
     "output_type": "display_data"
    }
   ],
   "source": [
    "score = model.evaluate(X_test, y_test, verbose=0)\n",
    "print('Test score:', score[0]) \n",
    "print('Test accuracy:', score[1])\n",
    "\n",
    "x = list(range(1,11))\n",
    "fig,ax = plt.subplots(1,1)\n",
    "ax.set_xlabel('epoch') ; ax.set_ylabel('Binary_crossentropy Loss')\n",
    "\n",
    "vy = history.history['val_loss']\n",
    "ty = history.history['loss']\n",
    "plt_dynamic(x, vy, ty, ax)"
   ]
  },
  {
   "cell_type": "markdown",
   "metadata": {
    "colab_type": "text",
    "id": "XcEftnN7l5R6"
   },
   "source": [
    "#**2 LAYERS-LSTM:**"
   ]
  },
  {
   "cell_type": "code",
   "execution_count": 29,
   "metadata": {
    "colab": {
     "base_uri": "https://localhost:8080/",
     "height": 283
    },
    "colab_type": "code",
    "id": "xhdsN25ZbLvC",
    "outputId": "542f0160-437a-467f-e6da-3f8e91556f92"
   },
   "outputs": [
    {
     "name": "stdout",
     "output_type": "stream",
     "text": [
      "_________________________________________________________________\n",
      "Layer (type)                 Output Shape              Param #   \n",
      "=================================================================\n",
      "embedding_3 (Embedding)      (None, 400, 32)           160000    \n",
      "_________________________________________________________________\n",
      "lstm_3 (LSTM)                (None, 400, 100)          53200     \n",
      "_________________________________________________________________\n",
      "lstm_4 (LSTM)                (None, 100)               80400     \n",
      "_________________________________________________________________\n",
      "dense_3 (Dense)              (None, 1)                 101       \n",
      "=================================================================\n",
      "Total params: 293,701\n",
      "Trainable params: 293,701\n",
      "Non-trainable params: 0\n",
      "_________________________________________________________________\n",
      "None\n"
     ]
    }
   ],
   "source": [
    "top_words = 5000\n",
    "\n",
    "embedding_vecor_length = 32\n",
    "model = Sequential()\n",
    "model.add(Embedding(top_words, embedding_vecor_length, input_length=max_review_length))\n",
    "model.add(LSTM(100,return_sequences=True))\n",
    "model.add(LSTM(100))\n",
    "model.add(Dense(1, activation='sigmoid'))\n",
    "model.compile(loss='binary_crossentropy', optimizer='adam', metrics=['accuracy'])\n",
    "print(model.summary())\n"
   ]
  },
  {
   "cell_type": "code",
   "execution_count": 30,
   "metadata": {
    "colab": {
     "base_uri": "https://localhost:8080/",
     "height": 400
    },
    "colab_type": "code",
    "id": "aFCdi1UIgp2b",
    "outputId": "42d13d19-2848-40d2-ad67-494e3213d24d"
   },
   "outputs": [
    {
     "name": "stderr",
     "output_type": "stream",
     "text": [
      "/usr/local/lib/python3.6/dist-packages/ipykernel_launcher.py:1: UserWarning: The `nb_epoch` argument in `fit` has been renamed `epochs`.\n",
      "  \"\"\"Entry point for launching an IPython kernel.\n"
     ]
    },
    {
     "name": "stdout",
     "output_type": "stream",
     "text": [
      "Train on 60000 samples, validate on 10000 samples\n",
      "Epoch 1/10\n",
      "60000/60000 [==============================] - 490s 8ms/step - loss: 0.2854 - acc: 0.8878 - val_loss: 0.2121 - val_acc: 0.9174\n",
      "Epoch 2/10\n",
      "60000/60000 [==============================] - 498s 8ms/step - loss: 0.1925 - acc: 0.9252 - val_loss: 0.2074 - val_acc: 0.9207\n",
      "Epoch 3/10\n",
      "60000/60000 [==============================] - 512s 9ms/step - loss: 0.1722 - acc: 0.9342 - val_loss: 0.2063 - val_acc: 0.9181\n",
      "Epoch 4/10\n",
      "60000/60000 [==============================] - 512s 9ms/step - loss: 0.1580 - acc: 0.9394 - val_loss: 0.2469 - val_acc: 0.9166\n",
      "Epoch 5/10\n",
      "60000/60000 [==============================] - 510s 9ms/step - loss: 0.1481 - acc: 0.9436 - val_loss: 0.2270 - val_acc: 0.9155\n",
      "Epoch 6/10\n",
      "60000/60000 [==============================] - 496s 8ms/step - loss: 0.1324 - acc: 0.9505 - val_loss: 0.2314 - val_acc: 0.9162\n",
      "Epoch 7/10\n",
      "60000/60000 [==============================] - 489s 8ms/step - loss: 0.1199 - acc: 0.9559 - val_loss: 0.2565 - val_acc: 0.9177\n",
      "Epoch 8/10\n",
      "60000/60000 [==============================] - 499s 8ms/step - loss: 0.1104 - acc: 0.9591 - val_loss: 0.2652 - val_acc: 0.9132\n",
      "Epoch 9/10\n",
      "60000/60000 [==============================] - 495s 8ms/step - loss: 0.1000 - acc: 0.9631 - val_loss: 0.2862 - val_acc: 0.9140\n",
      "Epoch 10/10\n",
      "60000/60000 [==============================] - 490s 8ms/step - loss: 0.0897 - acc: 0.9678 - val_loss: 0.3219 - val_acc: 0.9135\n"
     ]
    }
   ],
   "source": [
    "history = model.fit(X_train, y_train, nb_epoch=10, batch_size=200,validation_data=(X_test,y_test))"
   ]
  },
  {
   "cell_type": "code",
   "execution_count": 31,
   "metadata": {
    "colab": {
     "base_uri": "https://localhost:8080/",
     "height": 394
    },
    "colab_type": "code",
    "id": "9NqMNOr1QBAY",
    "outputId": "6867c42e-51bd-4910-f107-9f8c21e33ce7"
   },
   "outputs": [
    {
     "name": "stdout",
     "output_type": "stream",
     "text": [
      "Test score: 0.32193974486775695\n",
      "Test accuracy: 0.9135\n"
     ]
    },
    {
     "data": {
      "image/png": "[encoded data removed]",
      "text/plain": [
       "<Figure size 576x396 with 1 Axes>"
      ]
     },
     "metadata": {
      "tags": []
     },
     "output_type": "display_data"
    }
   ],
   "source": [
    "score = model.evaluate(X_test, y_test, verbose=0)\n",
    "print('Test score:', score[0]) \n",
    "print('Test accuracy:', score[1])\n",
    "\n",
    "x = list(range(1,11))\n",
    "fig,ax = plt.subplots(1,1)\n",
    "ax.set_xlabel('epoch') ; ax.set_ylabel('binary_crossentropy Loss')\n",
    "\n",
    "vy = history.history['val_loss']\n",
    "ty = history.history['loss']\n",
    "plt_dynamic(x, vy, ty, ax)"
   ]
  },
  {
   "cell_type": "markdown",
   "metadata": {
    "colab_type": "text",
    "id": "rGbCBbO2mBgS"
   },
   "source": [
    "# Conclution :"
   ]
  },
  {
   "cell_type": "markdown",
   "metadata": {
    "colab_type": "text",
    "id": "HRbEMJXfmIu6"
   },
   "source": [
    "- Using another layer of LSTM their is not a good idea. \n",
    "- As we can see their is no change in the error plots and 2 Layers of LSTM is computationally more expensive than 1 Layer LSTM and both the architectures are overfitting. \n"
   ]
  },
  {
   "cell_type": "code",
   "execution_count": 0,
   "metadata": {
    "colab": {},
    "colab_type": "code",
    "id": "sdidq5C0mw0p"
   },
   "outputs": [],
   "source": []
  }
 ],
 "metadata": {
  "accelerator": "GPU",
  "colab": {
   "name": "LSTM-assignment.ipynb",
   "provenance": [],
   "version": "0.3.2"
  },
  "kernelspec": {
   "display_name": "Python 3",
   "language": "python",
   "name": "python3"
  },
  "language_info": {
   "codemirror_mode": {
    "name": "ipython",
    "version": 3
   },
   "file_extension": ".py",
   "mimetype": "text/x-python",
   "name": "python",
   "nbconvert_exporter": "python",
   "pygments_lexer": "ipython3",
   "version": "3.6.5"
  }
 },
 "nbformat": 4,
 "nbformat_minor": 1
}
